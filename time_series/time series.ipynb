{
 "cells": [
  {
   "cell_type": "markdown",
   "metadata": {
    "toc": true
   },
   "source": [
    "<h1>Содержание<span class=\"tocSkip\"></span></h1>\n",
    "<div class=\"toc\"><ul class=\"toc-item\"><li><span><a href=\"#Подготовка-данных\" data-toc-modified-id=\"Подготовка-данных-1\"><span class=\"toc-item-num\">1&nbsp;&nbsp;</span>Подготовка данных</a></span><ul class=\"toc-item\"><li><span><a href=\"#Загружаем-и-изучаем-данные\" data-toc-modified-id=\"Загружаем-и-изучаем-данные-1.1\"><span class=\"toc-item-num\">1.1&nbsp;&nbsp;</span>Загружаем и изучаем данные</a></span></li></ul></li><li><span><a href=\"#Анализ-временного-ряда\" data-toc-modified-id=\"Анализ-временного-ряда-2\"><span class=\"toc-item-num\">2&nbsp;&nbsp;</span>Анализ временного ряда</a></span></li><li><span><a href=\"#Обучение\" data-toc-modified-id=\"Обучение-3\"><span class=\"toc-item-num\">3&nbsp;&nbsp;</span>Обучение</a></span><ul class=\"toc-item\"><li><span><a href=\"#Линейная-регрессия\" data-toc-modified-id=\"Линейная-регрессия-3.1\"><span class=\"toc-item-num\">3.1&nbsp;&nbsp;</span>Линейная регрессия</a></span></li><li><span><a href=\"#CatBoost\" data-toc-modified-id=\"CatBoost-3.2\"><span class=\"toc-item-num\">3.2&nbsp;&nbsp;</span>CatBoost</a></span></li><li><span><a href=\"#LightGBM\" data-toc-modified-id=\"LightGBM-3.3\"><span class=\"toc-item-num\">3.3&nbsp;&nbsp;</span>LightGBM</a></span></li><li><span><a href=\"#Случайный-лес\" data-toc-modified-id=\"Случайный-лес-3.4\"><span class=\"toc-item-num\">3.4&nbsp;&nbsp;</span>Случайный лес</a></span></li><li><span><a href=\"#Предсказание-предыдущим-значением\" data-toc-modified-id=\"Предсказание-предыдущим-значением-3.5\"><span class=\"toc-item-num\">3.5&nbsp;&nbsp;</span>Предсказание предыдущим значением</a></span></li><li><span><a href=\"#Предсказание-средним-значением\" data-toc-modified-id=\"Предсказание-средним-значением-3.6\"><span class=\"toc-item-num\">3.6&nbsp;&nbsp;</span>Предсказание средним значением</a></span></li><li><span><a href=\"#Вывод\" data-toc-modified-id=\"Вывод-3.7\"><span class=\"toc-item-num\">3.7&nbsp;&nbsp;</span>Вывод</a></span></li></ul></li><li><span><a href=\"#Тестирование\" data-toc-modified-id=\"Тестирование-4\"><span class=\"toc-item-num\">4&nbsp;&nbsp;</span>Тестирование</a></span></li></ul></div>"
   ]
  },
  {
   "cell_type": "markdown",
   "metadata": {},
   "source": [
    "#  Прогнозирование заказов такси"
   ]
  },
  {
   "cell_type": "markdown",
   "metadata": {},
   "source": [
    "Компания такси собрала исторические данные о заказах такси в аэропортах. Чтобы привлекать больше водителей в период пиковой нагрузки, нужно спрогнозировать количество заказов такси на следующий час. Цель: построить модель для такого предсказания.\n",
    "\n",
    "Значение метрики *RMSE* на тестовой выборке должно быть не больше 48.\n",
    "\n",
    "План:\n",
    "\n",
    "1. Загрузить данные и выполнить их ресемплирование по одному часу.\n",
    "2. Проанализировать данные.\n",
    "3. Обучить разные модели с различными гиперпараметрами. Сделать тестовую выборку размером 10% от исходных данных.\n",
    "4. Проверить данные на тестовой выборке и сделать выводы.\n",
    "\n",
    "\n",
    "Данные лежат в файле `taxi.csv`. Количество заказов находится в столбце `num_orders`."
   ]
  },
  {
   "cell_type": "markdown",
   "metadata": {},
   "source": [
    "## Подготовка данных"
   ]
  },
  {
   "cell_type": "markdown",
   "metadata": {},
   "source": [
    "### Загружаем и изучаем данные"
   ]
  },
  {
   "cell_type": "code",
   "execution_count": 1,
   "metadata": {},
   "outputs": [],
   "source": [
    "import pandas as pd\n",
    "\n",
    "import numpy as np\n",
    "\n",
    "from statsmodels.tsa.seasonal import seasonal_decompose\n",
    "\n",
    "import matplotlib.pyplot as plt\n",
    "\n",
    "from sklearn.model_selection import train_test_split\n",
    "from sklearn.linear_model import LinearRegression\n",
    "from sklearn.metrics import mean_squared_error\n",
    "from sklearn.model_selection import GridSearchCV\n",
    "from sklearn.ensemble import RandomForestRegressor\n",
    "from sklearn.model_selection import TimeSeriesSplit\n",
    "\n",
    "from catboost import CatBoostRegressor\n",
    "from lightgbm import LGBMRegressor\n",
    "\n",
    "import warnings"
   ]
  },
  {
   "cell_type": "code",
   "execution_count": 2,
   "metadata": {},
   "outputs": [
    {
     "data": {
      "text/html": [
       "<div>\n",
       "<style scoped>\n",
       "    .dataframe tbody tr th:only-of-type {\n",
       "        vertical-align: middle;\n",
       "    }\n",
       "\n",
       "    .dataframe tbody tr th {\n",
       "        vertical-align: top;\n",
       "    }\n",
       "\n",
       "    .dataframe thead th {\n",
       "        text-align: right;\n",
       "    }\n",
       "</style>\n",
       "<table border=\"1\" class=\"dataframe\">\n",
       "  <thead>\n",
       "    <tr style=\"text-align: right;\">\n",
       "      <th></th>\n",
       "      <th>datetime</th>\n",
       "      <th>num_orders</th>\n",
       "    </tr>\n",
       "  </thead>\n",
       "  <tbody>\n",
       "    <tr>\n",
       "      <th>0</th>\n",
       "      <td>2018-03-01 00:00:00</td>\n",
       "      <td>9</td>\n",
       "    </tr>\n",
       "    <tr>\n",
       "      <th>1</th>\n",
       "      <td>2018-03-01 00:10:00</td>\n",
       "      <td>14</td>\n",
       "    </tr>\n",
       "    <tr>\n",
       "      <th>2</th>\n",
       "      <td>2018-03-01 00:20:00</td>\n",
       "      <td>28</td>\n",
       "    </tr>\n",
       "    <tr>\n",
       "      <th>3</th>\n",
       "      <td>2018-03-01 00:30:00</td>\n",
       "      <td>20</td>\n",
       "    </tr>\n",
       "    <tr>\n",
       "      <th>4</th>\n",
       "      <td>2018-03-01 00:40:00</td>\n",
       "      <td>32</td>\n",
       "    </tr>\n",
       "  </tbody>\n",
       "</table>\n",
       "</div>"
      ],
      "text/plain": [
       "              datetime  num_orders\n",
       "0  2018-03-01 00:00:00           9\n",
       "1  2018-03-01 00:10:00          14\n",
       "2  2018-03-01 00:20:00          28\n",
       "3  2018-03-01 00:30:00          20\n",
       "4  2018-03-01 00:40:00          32"
      ]
     },
     "execution_count": 2,
     "metadata": {},
     "output_type": "execute_result"
    }
   ],
   "source": [
    "try:\n",
    "    data = pd.read_csv('taxi.csv')\n",
    "except:\n",
    "    print('no data')\n",
    "data.head()"
   ]
  },
  {
   "cell_type": "code",
   "execution_count": 3,
   "metadata": {},
   "outputs": [
    {
     "name": "stdout",
     "output_type": "stream",
     "text": [
      "<class 'pandas.core.frame.DataFrame'>\n",
      "RangeIndex: 26496 entries, 0 to 26495\n",
      "Data columns (total 2 columns):\n",
      " #   Column      Non-Null Count  Dtype \n",
      "---  ------      --------------  ----- \n",
      " 0   datetime    26496 non-null  object\n",
      " 1   num_orders  26496 non-null  int64 \n",
      "dtypes: int64(1), object(1)\n",
      "memory usage: 414.1+ KB\n"
     ]
    }
   ],
   "source": [
    "data.info()"
   ]
  },
  {
   "cell_type": "markdown",
   "metadata": {},
   "source": [
    " Столбец `datetime` имеет тип object, переведем в datatime и сделаем его индексом датафрейма."
   ]
  },
  {
   "cell_type": "code",
   "execution_count": 4,
   "metadata": {},
   "outputs": [],
   "source": [
    "data['datetime'] = data['datetime'].astype('datetime64')\n",
    "data = data.set_index('datetime')"
   ]
  },
  {
   "cell_type": "markdown",
   "metadata": {},
   "source": [
    "Проверим хронологичность порядка даты и времени"
   ]
  },
  {
   "cell_type": "code",
   "execution_count": 5,
   "metadata": {},
   "outputs": [
    {
     "data": {
      "text/plain": [
       "True"
      ]
     },
     "execution_count": 5,
     "metadata": {},
     "output_type": "execute_result"
    }
   ],
   "source": [
    "data.index.is_monotonic"
   ]
  },
  {
   "cell_type": "markdown",
   "metadata": {},
   "source": [
    "## Анализ временного ряда"
   ]
  },
  {
   "cell_type": "markdown",
   "metadata": {},
   "source": [
    "Постоим график времянного ряда:"
   ]
  },
  {
   "cell_type": "code",
   "execution_count": 6,
   "metadata": {},
   "outputs": [
    {
     "data": {
      "image/png": "[encoded data removed]",
      "text/plain": [
       "<Figure size 640x480 with 1 Axes>"
      ]
     },
     "metadata": {},
     "output_type": "display_data"
    }
   ],
   "source": [
    "data.plot();"
   ]
  },
  {
   "cell_type": "markdown",
   "metadata": {},
   "source": [
    "Выполним ресемплирование по одному часу"
   ]
  },
  {
   "cell_type": "code",
   "execution_count": 7,
   "metadata": {},
   "outputs": [],
   "source": [
    "data = data.resample('1H').sum()"
   ]
  },
  {
   "cell_type": "code",
   "execution_count": 8,
   "metadata": {},
   "outputs": [
    {
     "data": {
      "image/png": "[encoded data removed]",
      "text/plain": [
       "<Figure size 640x480 with 1 Axes>"
      ]
     },
     "metadata": {},
     "output_type": "display_data"
    }
   ],
   "source": [
    "data.plot();"
   ]
  },
  {
   "cell_type": "markdown",
   "metadata": {},
   "source": [
    "Посмотрим на тренды и сезонность:"
   ]
  },
  {
   "cell_type": "code",
   "execution_count": 9,
   "metadata": {},
   "outputs": [],
   "source": [
    "decomposed = seasonal_decompose(data) "
   ]
  },
  {
   "cell_type": "code",
   "execution_count": 10,
   "metadata": {},
   "outputs": [
    {
     "data": {
      "image/png": "[encoded data removed]",
      "text/plain": [
       "<Figure size 600x800 with 3 Axes>"
      ]
     },
     "metadata": {},
     "output_type": "display_data"
    }
   ],
   "source": [
    "plt.figure(figsize=(6, 8))\n",
    "plt.subplot(311)\n",
    "decomposed.trend.plot(ax=plt.gca())\n",
    "plt.title('Trend')\n",
    "plt.subplot(312)\n",
    "decomposed.seasonal['2018-03-01':'2018-04-01'].plot(ax=plt.gca())\n",
    "plt.title('Seasonality')\n",
    "plt.subplot(313)\n",
    "decomposed.resid.plot(ax=plt.gca())\n",
    "plt.title('Residuals')\n",
    "plt.tight_layout()"
   ]
  },
  {
   "cell_type": "markdown",
   "metadata": {},
   "source": [
    "Видно, что есть восходящий тренд.\n",
    "А таксже сезонность."
   ]
  },
  {
   "cell_type": "markdown",
   "metadata": {},
   "source": [
    "## Обучение"
   ]
  },
  {
   "cell_type": "markdown",
   "metadata": {},
   "source": [
    "Создадим признаки:"
   ]
  },
  {
   "cell_type": "code",
   "execution_count": 11,
   "metadata": {},
   "outputs": [],
   "source": [
    "warnings.filterwarnings(action=\"ignore\")\n",
    "\n",
    "def make_features(data, max_lag, rolling_mean_size):\n",
    "    data_new = data.copy()\n",
    "    data_new['year'] = data.index.year\n",
    "    data_new['month'] = data.index.month\n",
    "    data_new['day'] = data.index.day\n",
    "    data_new['dayofweek'] = data.index.dayofweek\n",
    "    \n",
    "    for lag in range(1, max_lag + 1):\n",
    "        data_new['lag_{}'.format(lag)] = data['num_orders'].shift(lag)\n",
    "\n",
    "    data_new['rolling_mean'] = data['num_orders'].shift().rolling(rolling_mean_size).mean()\n",
    "    return data_new   \n",
    "\n",
    "data_new = make_features(data, 100, 1)\n",
    "data_new.head()\n",
    "\n",
    "# включение всех предупреждений\n",
    "warnings.resetwarnings()"
   ]
  },
  {
   "cell_type": "markdown",
   "metadata": {},
   "source": [
    "Разбиваем данные на обучающую и валидационную, тестовую выборки в соотношении 80:10:10"
   ]
  },
  {
   "cell_type": "code",
   "execution_count": 12,
   "metadata": {},
   "outputs": [
    {
     "name": "stdout",
     "output_type": "stream",
     "text": [
      "Размер тренировочной выборки: 79.9814643188137 %\n",
      "Размер валидационной выборки: 10.009267840593141 %\n",
      "Размер тестовой выборки: 10.009267840593141 %\n"
     ]
    }
   ],
   "source": [
    "data_new = data_new.dropna()\n",
    "\n",
    "features = data_new.drop('num_orders', axis=1)\n",
    "target= data_new['num_orders']\n",
    "\n",
    "\n",
    "features_train, features_valid, target_train, target_valid  = train_test_split\\\n",
    "(features, target, shuffle=False, test_size=0.2)\n",
    "\n",
    "features_valid, features_test, target_valid, target_test  = train_test_split\\\n",
    "(features_valid, target_valid, shuffle=False, test_size=0.5)  \n",
    "\n",
    "print('Размер тренировочной выборки:', features_train.shape[0]/features.shape[0]*100, '%')\n",
    "print('Размер валидационной выборки:', features_valid.shape[0]/features.shape[0]*100, '%' )\n",
    "print('Размер тестовой выборки:', features_test.shape[0]/features.shape[0]*100, '%')"
   ]
  },
  {
   "cell_type": "markdown",
   "metadata": {},
   "source": [
    "### Линейная регрессия"
   ]
  },
  {
   "cell_type": "code",
   "execution_count": 13,
   "metadata": {},
   "outputs": [
    {
     "name": "stdout",
     "output_type": "stream",
     "text": [
      "RMSE LinearRegression на валидационной выборке: 30.220724953556083\n"
     ]
    }
   ],
   "source": [
    "model = LinearRegression()\n",
    "model.fit(features_train, target_train)\n",
    "predictions_valid = model.predict(features_valid)\n",
    "\n",
    "result = mean_squared_error(target_valid, predictions_valid)**0.5\n",
    "print(\"RMSE LinearRegression на валидационной выборке:\", result)"
   ]
  },
  {
   "cell_type": "code",
   "execution_count": 14,
   "metadata": {},
   "outputs": [],
   "source": [
    "parameters = {'fit_intercept':[True,False],'copy_X':[True, False]}"
   ]
  },
  {
   "cell_type": "code",
   "execution_count": 15,
   "metadata": {},
   "outputs": [
    {
     "name": "stdout",
     "output_type": "stream",
     "text": [
      "CPU times: total: 297 ms\n",
      "Wall time: 1.39 s\n"
     ]
    },
    {
     "data": {
      "text/plain": [
       "{'copy_X': True, 'fit_intercept': False}"
      ]
     },
     "execution_count": 15,
     "metadata": {},
     "output_type": "execute_result"
    }
   ],
   "source": [
    "%%time\n",
    "tscv = TimeSeriesSplit(n_splits=5)\n",
    "grid = GridSearchCV(model, cv=tscv, param_grid=parameters,scoring='neg_mean_squared_error')\n",
    "grid.fit(features_train, target_train)\n",
    "grid.best_params_"
   ]
  },
  {
   "cell_type": "code",
   "execution_count": 16,
   "metadata": {},
   "outputs": [
    {
     "name": "stdout",
     "output_type": "stream",
     "text": [
      "RMSE LinearRegression на валидационной выборке: 30.21827785951494\n",
      "CPU times: total: 15.6 ms\n",
      "Wall time: 76.1 ms\n"
     ]
    }
   ],
   "source": [
    "%%time\n",
    "model = LinearRegression(copy_X= True, fit_intercept= False)\n",
    "model.fit(features_train, target_train)\n",
    "predictions_valid = model.predict(features_valid)\n",
    "\n",
    "result = mean_squared_error(target_valid, predictions_valid)**0.5\n",
    "print(\"RMSE LinearRegression на валидационной выборке:\", result)"
   ]
  },
  {
   "cell_type": "markdown",
   "metadata": {},
   "source": [
    "### CatBoost"
   ]
  },
  {
   "cell_type": "code",
   "execution_count": 17,
   "metadata": {},
   "outputs": [
    {
     "name": "stdout",
     "output_type": "stream",
     "text": [
      "Learning rate set to 0.049796\n",
      "0:\tlearn: 34.8414103\ttotal: 181ms\tremaining: 3m 1s\n",
      "500:\tlearn: 12.9682786\ttotal: 6.04s\tremaining: 6.01s\n",
      "999:\tlearn: 8.3259880\ttotal: 15.4s\tremaining: 0us\n",
      "CPU times: total: 14.7 s\n",
      "Wall time: 15.9 s\n"
     ]
    },
    {
     "data": {
      "text/plain": [
       "<catboost.core.CatBoostRegressor at 0x1f63e811af0>"
      ]
     },
     "execution_count": 17,
     "metadata": {},
     "output_type": "execute_result"
    }
   ],
   "source": [
    "%%time\n",
    "model = CatBoostRegressor(loss_function='RMSE', iterations=1000)\n",
    "\n",
    "model.fit(features_train, target_train, verbose=500)"
   ]
  },
  {
   "cell_type": "code",
   "execution_count": 18,
   "metadata": {},
   "outputs": [
    {
     "name": "stdout",
     "output_type": "stream",
     "text": [
      "CPU times: total: 0 ns\n",
      "Wall time: 21 ms\n"
     ]
    }
   ],
   "source": [
    "%%time\n",
    "predictions_valid = model.predict(features_valid)"
   ]
  },
  {
   "cell_type": "code",
   "execution_count": 19,
   "metadata": {},
   "outputs": [
    {
     "name": "stdout",
     "output_type": "stream",
     "text": [
      "RMSE CatBoost на валидационной выборке: 30.618425587393805\n"
     ]
    }
   ],
   "source": [
    "result = mean_squared_error(target_valid, predictions_valid)**0.5# посчитайте значение метрики RMSE на валидационной выборке\n",
    "print(\"RMSE CatBoost на валидационной выборке:\", result)"
   ]
  },
  {
   "cell_type": "code",
   "execution_count": 20,
   "metadata": {},
   "outputs": [],
   "source": [
    "param_grid = {\n",
    "    'iterations': [50, 100, 200],\n",
    "    'learning_rate': [0.01, 0.1, 1],\n",
    "    'depth': [3, 5, 7]\n",
    "}"
   ]
  },
  {
   "cell_type": "code",
   "execution_count": 21,
   "metadata": {},
   "outputs": [
    {
     "name": "stdout",
     "output_type": "stream",
     "text": [
      "CPU times: total: 3min 44s\n",
      "Wall time: 3min 50s\n"
     ]
    },
    {
     "data": {
      "text/plain": [
       "{'depth': 7, 'iterations': 200, 'learning_rate': 0.1}"
      ]
     },
     "execution_count": 21,
     "metadata": {},
     "output_type": "execute_result"
    }
   ],
   "source": [
    "%%time\n",
    "grid = GridSearchCV(model,cv=tscv, param_grid=param_grid,scoring='neg_mean_squared_error')\n",
    "grid.fit(features_train, target_train, verbose=0)\n",
    "grid.best_params_"
   ]
  },
  {
   "cell_type": "markdown",
   "metadata": {},
   "source": [
    "Лучшие параметры модели для CatBoost:\n",
    "{'depth': 7, 'iterations': 200, 'learning_rate': 0.1}"
   ]
  },
  {
   "cell_type": "code",
   "execution_count": 22,
   "metadata": {},
   "outputs": [
    {
     "name": "stdout",
     "output_type": "stream",
     "text": [
      "0:\tlearn: 34.0047365\ttotal: 36.5ms\tremaining: 7.27s\n",
      "100:\tlearn: 16.1029032\ttotal: 3.74s\tremaining: 3.67s\n",
      "199:\tlearn: 12.5634087\ttotal: 7.13s\tremaining: 0us\n",
      "CPU times: total: 11.2 s\n",
      "Wall time: 7.29 s\n"
     ]
    },
    {
     "data": {
      "text/plain": [
       "<catboost.core.CatBoostRegressor at 0x1f63e89f3a0>"
      ]
     },
     "execution_count": 22,
     "metadata": {},
     "output_type": "execute_result"
    }
   ],
   "source": [
    "%%time\n",
    "model =CatBoostRegressor(loss_function='RMSE',iterations=200, depth = 7,learning_rate=0.1)\n",
    "\n",
    "model.fit(features_train, target_train, verbose=100)"
   ]
  },
  {
   "cell_type": "code",
   "execution_count": 23,
   "metadata": {},
   "outputs": [
    {
     "name": "stdout",
     "output_type": "stream",
     "text": [
      "CPU times: total: 0 ns\n",
      "Wall time: 11 ms\n"
     ]
    }
   ],
   "source": [
    "%%time\n",
    "predictions_valid = model.predict(features_valid)"
   ]
  },
  {
   "cell_type": "code",
   "execution_count": 24,
   "metadata": {},
   "outputs": [
    {
     "name": "stdout",
     "output_type": "stream",
     "text": [
      "RMSE CatBoost на валидационной выборке: 30.645242895807037\n"
     ]
    }
   ],
   "source": [
    "result = mean_squared_error(target_valid, predictions_valid)**0.5# посчитайте значение метрики RMSE на валидационной выборке\n",
    "print(\"RMSE CatBoost на валидационной выборке:\", result)"
   ]
  },
  {
   "cell_type": "markdown",
   "metadata": {},
   "source": [
    "### LightGBM"
   ]
  },
  {
   "cell_type": "code",
   "execution_count": 25,
   "metadata": {},
   "outputs": [
    {
     "name": "stderr",
     "output_type": "stream",
     "text": [
      "C:\\Users\\Ксения\\AppData\\Roaming\\Python\\Python39\\site-packages\\lightgbm\\sklearn.py:736: UserWarning: 'verbose' argument is deprecated and will be removed in a future release of LightGBM. Pass 'log_evaluation()' callback via 'callbacks' argument instead.\n",
      "  _log_warning(\"'verbose' argument is deprecated and will be removed in a future release of LightGBM. \"\n"
     ]
    },
    {
     "name": "stdout",
     "output_type": "stream",
     "text": [
      "CPU times: total: 5.12 s\n",
      "Wall time: 921 ms\n"
     ]
    },
    {
     "data": {
      "text/html": [
       "<style>#sk-container-id-1 {color: black;background-color: white;}#sk-container-id-1 pre{padding: 0;}#sk-container-id-1 div.sk-toggleable {background-color: white;}#sk-container-id-1 label.sk-toggleable__label {cursor: pointer;display: block;width: 100%;margin-bottom: 0;padding: 0.3em;box-sizing: border-box;text-align: center;}#sk-container-id-1 label.sk-toggleable__label-arrow:before {content: \"▸\";float: left;margin-right: 0.25em;color: #696969;}#sk-container-id-1 label.sk-toggleable__label-arrow:hover:before {color: black;}#sk-container-id-1 div.sk-estimator:hover label.sk-toggleable__label-arrow:before {color: black;}#sk-container-id-1 div.sk-toggleable__content {max-height: 0;max-width: 0;overflow: hidden;text-align: left;background-color: #f0f8ff;}#sk-container-id-1 div.sk-toggleable__content pre {margin: 0.2em;color: black;border-radius: 0.25em;background-color: #f0f8ff;}#sk-container-id-1 input.sk-toggleable__control:checked~div.sk-toggleable__content {max-height: 200px;max-width: 100%;overflow: auto;}#sk-container-id-1 input.sk-toggleable__control:checked~label.sk-toggleable__label-arrow:before {content: \"▾\";}#sk-container-id-1 div.sk-estimator input.sk-toggleable__control:checked~label.sk-toggleable__label {background-color: #d4ebff;}#sk-container-id-1 div.sk-label input.sk-toggleable__control:checked~label.sk-toggleable__label {background-color: #d4ebff;}#sk-container-id-1 input.sk-hidden--visually {border: 0;clip: rect(1px 1px 1px 1px);clip: rect(1px, 1px, 1px, 1px);height: 1px;margin: -1px;overflow: hidden;padding: 0;position: absolute;width: 1px;}#sk-container-id-1 div.sk-estimator {font-family: monospace;background-color: #f0f8ff;border: 1px dotted black;border-radius: 0.25em;box-sizing: border-box;margin-bottom: 0.5em;}#sk-container-id-1 div.sk-estimator:hover {background-color: #d4ebff;}#sk-container-id-1 div.sk-parallel-item::after {content: \"\";width: 100%;border-bottom: 1px solid gray;flex-grow: 1;}#sk-container-id-1 div.sk-label:hover label.sk-toggleable__label {background-color: #d4ebff;}#sk-container-id-1 div.sk-serial::before {content: \"\";position: absolute;border-left: 1px solid gray;box-sizing: border-box;top: 0;bottom: 0;left: 50%;z-index: 0;}#sk-container-id-1 div.sk-serial {display: flex;flex-direction: column;align-items: center;background-color: white;padding-right: 0.2em;padding-left: 0.2em;position: relative;}#sk-container-id-1 div.sk-item {position: relative;z-index: 1;}#sk-container-id-1 div.sk-parallel {display: flex;align-items: stretch;justify-content: center;background-color: white;position: relative;}#sk-container-id-1 div.sk-item::before, #sk-container-id-1 div.sk-parallel-item::before {content: \"\";position: absolute;border-left: 1px solid gray;box-sizing: border-box;top: 0;bottom: 0;left: 50%;z-index: -1;}#sk-container-id-1 div.sk-parallel-item {display: flex;flex-direction: column;z-index: 1;position: relative;background-color: white;}#sk-container-id-1 div.sk-parallel-item:first-child::after {align-self: flex-end;width: 50%;}#sk-container-id-1 div.sk-parallel-item:last-child::after {align-self: flex-start;width: 50%;}#sk-container-id-1 div.sk-parallel-item:only-child::after {width: 0;}#sk-container-id-1 div.sk-dashed-wrapped {border: 1px dashed gray;margin: 0 0.4em 0.5em 0.4em;box-sizing: border-box;padding-bottom: 0.4em;background-color: white;}#sk-container-id-1 div.sk-label label {font-family: monospace;font-weight: bold;display: inline-block;line-height: 1.2em;}#sk-container-id-1 div.sk-label-container {text-align: center;}#sk-container-id-1 div.sk-container {/* jupyter's `normalize.less` sets `[hidden] { display: none; }` but bootstrap.min.css set `[hidden] { display: none !important; }` so we also need the `!important` here to be able to override the default hidden behavior on the sphinx rendered scikit-learn.org. See: https://github.com/scikit-learn/scikit-learn/issues/21755 */display: inline-block !important;position: relative;}#sk-container-id-1 div.sk-text-repr-fallback {display: none;}</style><div id=\"sk-container-id-1\" class=\"sk-top-container\"><div class=\"sk-text-repr-fallback\"><pre>LGBMRegressor()</pre><b>In a Jupyter environment, please rerun this cell to show the HTML representation or trust the notebook. <br />On GitHub, the HTML representation is unable to render, please try loading this page with nbviewer.org.</b></div><div class=\"sk-container\" hidden><div class=\"sk-item\"><div class=\"sk-estimator sk-toggleable\"><input class=\"sk-toggleable__control sk-hidden--visually\" id=\"sk-estimator-id-1\" type=\"checkbox\" checked><label for=\"sk-estimator-id-1\" class=\"sk-toggleable__label sk-toggleable__label-arrow\">LGBMRegressor</label><div class=\"sk-toggleable__content\"><pre>LGBMRegressor()</pre></div></div></div></div></div>"
      ],
      "text/plain": [
       "LGBMRegressor()"
      ]
     },
     "execution_count": 25,
     "metadata": {},
     "output_type": "execute_result"
    }
   ],
   "source": [
    "%%time\n",
    "model = LGBMRegressor(n_estimators=100)\n",
    "model.fit(features_train, target_train, verbose=50)"
   ]
  },
  {
   "cell_type": "code",
   "execution_count": 26,
   "metadata": {},
   "outputs": [
    {
     "name": "stdout",
     "output_type": "stream",
     "text": [
      "CPU times: total: 31.2 ms\n",
      "Wall time: 14.5 ms\n"
     ]
    }
   ],
   "source": [
    "%%time\n",
    "predictions_valid = model.predict(features_valid)"
   ]
  },
  {
   "cell_type": "code",
   "execution_count": 27,
   "metadata": {},
   "outputs": [
    {
     "name": "stdout",
     "output_type": "stream",
     "text": [
      "CPU times: total: 46.9 ms\n",
      "Wall time: 11 ms\n"
     ]
    }
   ],
   "source": [
    "%%time\n",
    "predictions_valid = model.predict(features_valid)"
   ]
  },
  {
   "cell_type": "code",
   "execution_count": 28,
   "metadata": {},
   "outputs": [
    {
     "name": "stdout",
     "output_type": "stream",
     "text": [
      "RMSE LightGBM на валидационной выборке: 30.612705974545925\n"
     ]
    }
   ],
   "source": [
    "result = mean_squared_error(target_valid, predictions_valid)**0.5# посчитайте значение метрики RMSE на валидационной выборке\n",
    "print(\"RMSE LightGBM на валидационной выборке:\", result)"
   ]
  },
  {
   "cell_type": "markdown",
   "metadata": {},
   "source": [
    "### Случайный лес"
   ]
  },
  {
   "cell_type": "code",
   "execution_count": 29,
   "metadata": {},
   "outputs": [
    {
     "data": {
      "text/plain": [
       "{'max_depth': 5, 'min_samples_split': 2, 'n_estimators': 4}"
      ]
     },
     "execution_count": 29,
     "metadata": {},
     "output_type": "execute_result"
    }
   ],
   "source": [
    "parameters ={'n_estimators':range(1,5), 'max_depth':range(1,10), 'min_samples_split':range(2,5)} \n",
    "model =  RandomForestRegressor()\n",
    "grid = GridSearchCV(model,cv=tscv, param_grid=parameters, scoring='neg_mean_squared_error')\n",
    "grid.fit(features_train, target_train)\n",
    "grid.best_params_"
   ]
  },
  {
   "cell_type": "code",
   "execution_count": 30,
   "metadata": {},
   "outputs": [
    {
     "name": "stdout",
     "output_type": "stream",
     "text": [
      "RMSE RandomForest на валидационной выборке: 34.61607654811733\n",
      "CPU times: total: 391 ms\n",
      "Wall time: 429 ms\n"
     ]
    }
   ],
   "source": [
    "%%time\n",
    "model =  RandomForestRegressor(max_depth= 5, min_samples_split=4, n_estimators= 4)\n",
    "model.fit(features_train, target_train)\n",
    "predictions_valid = model.predict(features_valid)\n",
    "result = mean_squared_error(target_valid, predictions_valid)**0.5# посчитайте значение метрики RMSE на валидационной выборке\n",
    "print(\"RMSE RandomForest на валидационной выборке:\", result)"
   ]
  },
  {
   "cell_type": "markdown",
   "metadata": {},
   "source": [
    "### Предсказание предыдущим значением"
   ]
  },
  {
   "cell_type": "code",
   "execution_count": 31,
   "metadata": {},
   "outputs": [
    {
     "name": "stdout",
     "output_type": "stream",
     "text": [
      "RMSE: 47.69960497545881\n"
     ]
    }
   ],
   "source": [
    "pred_previous = target_valid.shift(fill_value=target_train.iloc[-1]) # < напишите код здесь >\n",
    "print(\"RMSE:\",mean_squared_error(pred_previous, target_valid)**0.5)"
   ]
  },
  {
   "cell_type": "markdown",
   "metadata": {},
   "source": [
    "### Предсказание средним значением"
   ]
  },
  {
   "cell_type": "code",
   "execution_count": 32,
   "metadata": {},
   "outputs": [
    {
     "name": "stdout",
     "output_type": "stream",
     "text": [
      "RMSE: 58.660999658066665\n"
     ]
    }
   ],
   "source": [
    "pred_mean = np.ones(target_valid.shape)*target_train.mean()\n",
    "\n",
    "print(\"RMSE:\", mean_squared_error(pred_mean, target_valid)**0.5)# < напишите код здесь >)"
   ]
  },
  {
   "cell_type": "markdown",
   "metadata": {},
   "source": [
    "### Вывод "
   ]
  },
  {
   "cell_type": "code",
   "execution_count": 33,
   "metadata": {},
   "outputs": [
    {
     "data": {
      "text/html": [
       "<div>\n",
       "<style scoped>\n",
       "    .dataframe tbody tr th:only-of-type {\n",
       "        vertical-align: middle;\n",
       "    }\n",
       "\n",
       "    .dataframe tbody tr th {\n",
       "        vertical-align: top;\n",
       "    }\n",
       "\n",
       "    .dataframe thead th {\n",
       "        text-align: right;\n",
       "    }\n",
       "</style>\n",
       "<table border=\"1\" class=\"dataframe\">\n",
       "  <thead>\n",
       "    <tr style=\"text-align: right;\">\n",
       "      <th></th>\n",
       "      <th>Model</th>\n",
       "      <th>rmse</th>\n",
       "    </tr>\n",
       "  </thead>\n",
       "  <tbody>\n",
       "    <tr>\n",
       "      <th>0</th>\n",
       "      <td>LinearRegression</td>\n",
       "      <td>30.22</td>\n",
       "    </tr>\n",
       "    <tr>\n",
       "      <th>1</th>\n",
       "      <td>CatBoost</td>\n",
       "      <td>30.66</td>\n",
       "    </tr>\n",
       "    <tr>\n",
       "      <th>2</th>\n",
       "      <td>LightGBM</td>\n",
       "      <td>30.61</td>\n",
       "    </tr>\n",
       "    <tr>\n",
       "      <th>3</th>\n",
       "      <td>RandomForestRegressor</td>\n",
       "      <td>35.46</td>\n",
       "    </tr>\n",
       "    <tr>\n",
       "      <th>4</th>\n",
       "      <td>Предсказание предыдущим значением</td>\n",
       "      <td>47.70</td>\n",
       "    </tr>\n",
       "    <tr>\n",
       "      <th>5</th>\n",
       "      <td>Предсказание средним значением</td>\n",
       "      <td>58.66</td>\n",
       "    </tr>\n",
       "  </tbody>\n",
       "</table>\n",
       "</div>"
      ],
      "text/plain": [
       "                               Model   rmse\n",
       "0                   LinearRegression  30.22\n",
       "1                           CatBoost  30.66\n",
       "2                           LightGBM  30.61\n",
       "3              RandomForestRegressor  35.46\n",
       "4  Предсказание предыдущим значением  47.70\n",
       "5     Предсказание средним значением  58.66"
      ]
     },
     "execution_count": 33,
     "metadata": {},
     "output_type": "execute_result"
    }
   ],
   "source": [
    "df = pd.DataFrame({'Model':['LinearRegression', 'CatBoost','LightGBM','RandomForestRegressor',\n",
    "                            'Предсказание предыдущим значением', 'Предсказание средним значением'],\n",
    "                   'rmse':[30.22,30.66,30.61,\n",
    "                          35.46, 47.70, 58.66]})\n",
    "df"
   ]
  },
  {
   "cell_type": "markdown",
   "metadata": {},
   "source": [
    "Лучше всего показали себя CatBoost и LightGBM и LinearRegression, у которых почти одинаковый RMSE. Выберем LinearRegression, так как она быстрее остальных."
   ]
  },
  {
   "cell_type": "markdown",
   "metadata": {},
   "source": [
    "## Тестирование"
   ]
  },
  {
   "cell_type": "code",
   "execution_count": 34,
   "metadata": {},
   "outputs": [
    {
     "name": "stdout",
     "output_type": "stream",
     "text": [
      "RMSE LinearRegression на тестовой выборке: 41.78790624125231\n",
      "CPU times: total: 31.2 ms\n",
      "Wall time: 77.5 ms\n"
     ]
    }
   ],
   "source": [
    "%%time\n",
    "model = LinearRegression(copy_X= True, fit_intercept= False)\n",
    "\n",
    "model.fit(pd.concat([features_train, features_valid]), pd.concat([target_train, target_valid]))\n",
    "predictions_test = model.predict(features_test)\n",
    "\n",
    "result = mean_squared_error(target_test, predictions_test)**0.5\n",
    "print(\"RMSE LinearRegression на тестовой выборке:\", result)"
   ]
  },
  {
   "cell_type": "markdown",
   "metadata": {},
   "source": [
    "LinearRegression на тестовой выборке показала результат хуже, чем на валидационной. Попробуем CatBoost."
   ]
  },
  {
   "cell_type": "code",
   "execution_count": 35,
   "metadata": {},
   "outputs": [
    {
     "name": "stdout",
     "output_type": "stream",
     "text": [
      "0:\tlearn: 36.8548906\ttotal: 28.3ms\tremaining: 5.63s\n",
      "100:\tlearn: 17.7110652\ttotal: 3.28s\tremaining: 3.21s\n",
      "199:\tlearn: 13.6519968\ttotal: 6.5s\tremaining: 0us\n",
      "RMSE LinearRegression на тестовой выборке: 38.92859735687674\n",
      "CPU times: total: 6.78 s\n",
      "Wall time: 6.67 s\n"
     ]
    }
   ],
   "source": [
    "%%time\n",
    "model =CatBoostRegressor(loss_function='RMSE',iterations=200, depth = 7,learning_rate=0.1)\n",
    "\n",
    "model.fit(pd.concat([features_train, features_valid]), pd.concat([target_train, target_valid]),verbose = 100)\n",
    "predictions_test = model.predict(features_test)\n",
    "\n",
    "result = mean_squared_error(target_test, predictions_test)**0.5\n",
    "print(\"RMSE LinearRegression на тестовой выборке:\", result)"
   ]
  },
  {
   "cell_type": "code",
   "execution_count": 36,
   "metadata": {},
   "outputs": [
    {
     "data": {
      "image/png": "[encoded data removed]",
      "text/plain": [
       "<Figure size 1500x800 with 1 Axes>"
      ]
     },
     "metadata": {},
     "output_type": "display_data"
    }
   ],
   "source": [
    "plt.figure(figsize=(15,8))\n",
    "\n",
    "ax = plt.plot(target_test,  label = 'Реальные значения')\n",
    "ax = plt.plot(pd.DataFrame(predictions_test, index = target_test.index), label = 'Предсказания')\n",
    "plt.grid(True)\n",
    "plt.legend()\n",
    "plt.show()"
   ]
  },
  {
   "cell_type": "markdown",
   "metadata": {},
   "source": [
    "Вывод:\n",
    "- Проанализирован ряд моделей машинного обучения для предсказания времянного ряда.\n",
    "- Подобраны гиперпараметры для различных моделей.\n",
    "- Лучше всего показали себя CatBoost и LightGBM и LinearRegression, у которых почти одинаковый RMSE.\n",
    "- RMSE LinearRegression на тестовой выборке: 38.93, в сравнении предсказание средним дает 58.66.\n",
    "- На тестовой выборке CatBoost показал результат лучше RMSE 38.93.\n",
    "- По графику видно, что предсказания хорошо совпадают в поведении, но есть отличия при больших значениях реальной величины."
   ]
  }
 ],
 "metadata": {
  "ExecuteTimeLog": [
   {
    "duration": 340,
    "start_time": "2023-03-04T08:18:39.900Z"
   },
   {
    "duration": 98,
    "start_time": "2023-03-04T08:19:03.516Z"
   },
   {
    "duration": 42,
    "start_time": "2023-03-04T08:19:14.498Z"
   },
   {
    "duration": 152,
    "start_time": "2023-03-04T08:19:26.413Z"
   },
   {
    "duration": 11,
    "start_time": "2023-03-04T08:19:50.193Z"
   },
   {
    "duration": 1182,
    "start_time": "2023-03-04T08:22:43.984Z"
   },
   {
    "duration": 10,
    "start_time": "2023-03-04T08:23:01.685Z"
   },
   {
    "duration": 9,
    "start_time": "2023-03-04T08:23:07.572Z"
   },
   {
    "duration": 4,
    "start_time": "2023-03-04T08:24:15.468Z"
   },
   {
    "duration": 8,
    "start_time": "2023-03-04T08:30:04.081Z"
   },
   {
    "duration": 1087,
    "start_time": "2023-03-04T08:30:41.183Z"
   },
   {
    "duration": 375,
    "start_time": "2023-03-04T08:32:49.576Z"
   },
   {
    "duration": 49,
    "start_time": "2023-03-04T08:33:27.471Z"
   },
   {
    "duration": 2,
    "start_time": "2023-03-04T08:33:41.494Z"
   },
   {
    "duration": 9,
    "start_time": "2023-03-04T08:33:44.620Z"
   },
   {
    "duration": 9,
    "start_time": "2023-03-04T08:35:43.078Z"
   },
   {
    "duration": 7,
    "start_time": "2023-03-04T08:36:18.283Z"
   },
   {
    "duration": 198,
    "start_time": "2023-03-04T08:37:57.266Z"
   },
   {
    "duration": 10,
    "start_time": "2023-03-04T08:38:27.072Z"
   },
   {
    "duration": 3,
    "start_time": "2023-03-04T08:39:05.797Z"
   },
   {
    "duration": 749,
    "start_time": "2023-03-04T08:39:13.498Z"
   },
   {
    "duration": 378,
    "start_time": "2023-03-04T08:40:11.873Z"
   },
   {
    "duration": 1338,
    "start_time": "2023-03-04T08:42:22.292Z"
   },
   {
    "duration": 1153,
    "start_time": "2023-03-04T08:42:47.104Z"
   },
   {
    "duration": 28,
    "start_time": "2023-03-04T08:42:53.698Z"
   },
   {
    "duration": 8,
    "start_time": "2023-03-04T08:44:46.692Z"
   },
   {
    "duration": 303,
    "start_time": "2023-03-04T08:45:02.827Z"
   },
   {
    "duration": 7,
    "start_time": "2023-03-04T08:45:10.899Z"
   },
   {
    "duration": 9,
    "start_time": "2023-03-04T08:45:45.779Z"
   },
   {
    "duration": 6,
    "start_time": "2023-03-04T08:53:21.880Z"
   },
   {
    "duration": 7,
    "start_time": "2023-03-04T08:53:43.284Z"
   },
   {
    "duration": 9,
    "start_time": "2023-03-04T08:54:19.491Z"
   },
   {
    "duration": 29,
    "start_time": "2023-03-04T08:55:08.788Z"
   },
   {
    "duration": 3,
    "start_time": "2023-03-04T08:55:34.876Z"
   },
   {
    "duration": 4,
    "start_time": "2023-03-04T08:55:39.266Z"
   },
   {
    "duration": 12,
    "start_time": "2023-03-04T08:55:42.817Z"
   },
   {
    "duration": 101,
    "start_time": "2023-03-04T08:56:43.767Z"
   },
   {
    "duration": 102,
    "start_time": "2023-03-04T08:57:03.511Z"
   },
   {
    "duration": 775,
    "start_time": "2023-03-04T08:57:07.385Z"
   },
   {
    "duration": 5,
    "start_time": "2023-03-04T08:57:11.615Z"
   },
   {
    "duration": 6,
    "start_time": "2023-03-04T08:57:14.779Z"
   },
   {
    "duration": 2475,
    "start_time": "2023-03-04T08:57:26.444Z"
   },
   {
    "duration": 2550,
    "start_time": "2023-03-04T08:57:34.179Z"
   },
   {
    "duration": 5,
    "start_time": "2023-03-04T08:57:38.359Z"
   },
   {
    "duration": 4,
    "start_time": "2023-03-04T08:57:39.482Z"
   },
   {
    "duration": 4,
    "start_time": "2023-03-04T08:58:55.819Z"
   },
   {
    "duration": 76,
    "start_time": "2023-03-04T08:58:56.919Z"
   },
   {
    "duration": 3,
    "start_time": "2023-03-04T08:59:20.327Z"
   },
   {
    "duration": 95339,
    "start_time": "2023-03-04T08:59:26.511Z"
   },
   {
    "duration": 80,
    "start_time": "2023-03-04T09:01:36.155Z"
   },
   {
    "duration": 623,
    "start_time": "2023-03-04T09:01:42.706Z"
   },
   {
    "duration": 5,
    "start_time": "2023-03-04T09:01:45.363Z"
   },
   {
    "duration": 4,
    "start_time": "2023-03-04T09:01:46.700Z"
   },
   {
    "duration": 2600,
    "start_time": "2023-03-04T09:02:00.576Z"
   },
   {
    "duration": 83,
    "start_time": "2023-03-04T09:03:19.670Z"
   },
   {
    "duration": 278154,
    "start_time": "2023-03-04T09:03:28.212Z"
   },
   {
    "duration": 82,
    "start_time": "2023-03-04T09:08:06.368Z"
   },
   {
    "duration": 28,
    "start_time": "2023-03-04T09:08:27.458Z"
   },
   {
    "duration": 4,
    "start_time": "2023-03-04T09:08:28.714Z"
   },
   {
    "duration": 10,
    "start_time": "2023-03-04T09:12:54.309Z"
   },
   {
    "duration": 4,
    "start_time": "2023-03-04T09:12:55.582Z"
   },
   {
    "duration": 987,
    "start_time": "2023-03-04T09:13:01.572Z"
   },
   {
    "duration": 71,
    "start_time": "2023-03-04T09:13:28.363Z"
   },
   {
    "duration": 98,
    "start_time": "2023-03-04T09:13:46.863Z"
   },
   {
    "duration": 11,
    "start_time": "2023-03-04T09:14:26.920Z"
   },
   {
    "duration": 14,
    "start_time": "2023-03-04T09:18:21.986Z"
   },
   {
    "duration": 28,
    "start_time": "2023-03-04T09:18:47.290Z"
   },
   {
    "duration": 24,
    "start_time": "2023-03-04T09:18:52.556Z"
   },
   {
    "duration": 7795,
    "start_time": "2023-03-04T09:19:18.883Z"
   },
   {
    "duration": 23,
    "start_time": "2023-03-04T09:21:19.063Z"
   },
   {
    "duration": 10,
    "start_time": "2023-03-04T09:27:23.962Z"
   },
   {
    "duration": 1467,
    "start_time": "2023-03-04T09:27:32.596Z"
   },
   {
    "duration": 6,
    "start_time": "2023-03-04T09:27:50.767Z"
   },
   {
    "duration": 11,
    "start_time": "2023-03-04T09:32:31.124Z"
   },
   {
    "duration": 4,
    "start_time": "2023-03-04T09:32:44.186Z"
   },
   {
    "duration": 14,
    "start_time": "2023-03-04T09:32:50.714Z"
   },
   {
    "duration": 4,
    "start_time": "2023-03-04T09:33:11.987Z"
   },
   {
    "duration": 1673,
    "start_time": "2023-03-04T09:33:51.837Z"
   },
   {
    "duration": 55,
    "start_time": "2023-03-04T09:33:53.512Z"
   },
   {
    "duration": 12,
    "start_time": "2023-03-04T09:33:53.569Z"
   },
   {
    "duration": 24,
    "start_time": "2023-03-04T09:33:53.582Z"
   },
   {
    "duration": 20,
    "start_time": "2023-03-04T09:33:53.608Z"
   },
   {
    "duration": 14,
    "start_time": "2023-03-04T09:33:53.629Z"
   },
   {
    "duration": 11,
    "start_time": "2023-03-04T09:33:53.645Z"
   },
   {
    "duration": 628,
    "start_time": "2023-03-04T09:33:53.658Z"
   },
   {
    "duration": 7,
    "start_time": "2023-03-04T09:33:54.288Z"
   },
   {
    "duration": 296,
    "start_time": "2023-03-04T09:33:54.297Z"
   },
   {
    "duration": 7,
    "start_time": "2023-03-04T09:33:54.595Z"
   },
   {
    "duration": 759,
    "start_time": "2023-03-04T09:33:54.604Z"
   },
   {
    "duration": 28,
    "start_time": "2023-03-04T09:33:55.364Z"
   },
   {
    "duration": 11,
    "start_time": "2023-03-04T09:33:55.395Z"
   },
   {
    "duration": 34,
    "start_time": "2023-03-04T09:33:55.407Z"
   },
   {
    "duration": 3,
    "start_time": "2023-03-04T09:33:55.443Z"
   },
   {
    "duration": 5812,
    "start_time": "2023-03-04T09:33:55.448Z"
   },
   {
    "duration": 81,
    "start_time": "2023-03-04T09:34:01.264Z"
   },
   {
    "duration": 3688,
    "start_time": "2023-03-04T09:34:01.346Z"
   },
   {
    "duration": 5,
    "start_time": "2023-03-04T09:34:05.035Z"
   },
   {
    "duration": 16,
    "start_time": "2023-03-04T09:34:05.042Z"
   },
   {
    "duration": 10,
    "start_time": "2023-03-04T09:34:05.060Z"
   },
   {
    "duration": 133426,
    "start_time": "2023-03-04T09:34:05.072Z"
   },
   {
    "duration": 924,
    "start_time": "2023-03-04T09:36:18.499Z"
   },
   {
    "duration": 4,
    "start_time": "2023-03-04T09:36:19.424Z"
   },
   {
    "duration": 6,
    "start_time": "2023-03-04T09:36:19.430Z"
   },
   {
    "duration": 156227,
    "start_time": "2023-03-04T09:36:19.437Z"
   },
   {
    "duration": 86,
    "start_time": "2023-03-04T09:38:55.666Z"
   },
   {
    "duration": 88,
    "start_time": "2023-03-04T09:38:55.753Z"
   },
   {
    "duration": 8,
    "start_time": "2023-03-04T09:38:55.843Z"
   },
   {
    "duration": 11772,
    "start_time": "2023-03-04T09:38:55.852Z"
   },
   {
    "duration": 34,
    "start_time": "2023-03-04T09:39:07.625Z"
   },
   {
    "duration": 5,
    "start_time": "2023-03-04T09:39:07.661Z"
   },
   {
    "duration": 11,
    "start_time": "2023-03-04T09:39:07.667Z"
   },
   {
    "duration": 11,
    "start_time": "2023-03-04T09:40:19.837Z"
   },
   {
    "duration": 1409,
    "start_time": "2023-03-04T09:41:56.650Z"
   },
   {
    "duration": 50,
    "start_time": "2023-03-04T09:41:58.060Z"
   },
   {
    "duration": 12,
    "start_time": "2023-03-04T09:41:58.112Z"
   },
   {
    "duration": 10,
    "start_time": "2023-03-04T09:41:58.126Z"
   },
   {
    "duration": 8,
    "start_time": "2023-03-04T09:41:58.138Z"
   },
   {
    "duration": 6,
    "start_time": "2023-03-04T09:41:58.148Z"
   },
   {
    "duration": 6,
    "start_time": "2023-03-04T09:41:58.156Z"
   },
   {
    "duration": 40,
    "start_time": "2023-03-04T09:43:19.207Z"
   },
   {
    "duration": 17,
    "start_time": "2023-03-04T09:43:21.398Z"
   },
   {
    "duration": 20,
    "start_time": "2023-03-04T09:43:23.037Z"
   },
   {
    "duration": 2,
    "start_time": "2023-03-04T09:43:31.082Z"
   },
   {
    "duration": 9015,
    "start_time": "2023-03-04T09:43:32.426Z"
   },
   {
    "duration": 82,
    "start_time": "2023-03-04T09:43:45.857Z"
   },
   {
    "duration": 3727,
    "start_time": "2023-03-04T09:43:48.510Z"
   },
   {
    "duration": 8,
    "start_time": "2023-03-04T09:43:54.583Z"
   },
   {
    "duration": 4,
    "start_time": "2023-03-04T09:43:56.551Z"
   },
   {
    "duration": 3,
    "start_time": "2023-03-04T09:43:58.759Z"
   },
   {
    "duration": 1369,
    "start_time": "2023-03-04T09:44:39.916Z"
   },
   {
    "duration": 49,
    "start_time": "2023-03-04T09:44:41.287Z"
   },
   {
    "duration": 15,
    "start_time": "2023-03-04T09:44:41.338Z"
   },
   {
    "duration": 11,
    "start_time": "2023-03-04T09:44:41.355Z"
   },
   {
    "duration": 8,
    "start_time": "2023-03-04T09:44:41.368Z"
   },
   {
    "duration": 665,
    "start_time": "2023-03-04T09:44:41.378Z"
   },
   {
    "duration": 9,
    "start_time": "2023-03-04T09:44:42.045Z"
   },
   {
    "duration": 291,
    "start_time": "2023-03-04T09:44:42.056Z"
   },
   {
    "duration": 9,
    "start_time": "2023-03-04T09:44:42.348Z"
   },
   {
    "duration": 790,
    "start_time": "2023-03-04T09:44:42.360Z"
   },
   {
    "duration": 33,
    "start_time": "2023-03-04T09:44:43.153Z"
   },
   {
    "duration": 11,
    "start_time": "2023-03-04T09:44:43.188Z"
   },
   {
    "duration": 9,
    "start_time": "2023-03-04T09:44:43.201Z"
   },
   {
    "duration": 33,
    "start_time": "2023-03-04T09:44:43.212Z"
   },
   {
    "duration": 1011,
    "start_time": "2023-03-04T09:44:43.247Z"
   },
   {
    "duration": 8,
    "start_time": "2023-03-04T09:44:44.260Z"
   },
   {
    "duration": 2420,
    "start_time": "2023-03-04T09:44:44.340Z"
   },
   {
    "duration": 5,
    "start_time": "2023-03-04T09:44:46.761Z"
   },
   {
    "duration": 7,
    "start_time": "2023-03-04T09:44:46.768Z"
   },
   {
    "duration": 6,
    "start_time": "2023-03-04T09:44:46.776Z"
   },
   {
    "duration": 94873,
    "start_time": "2023-03-04T09:44:46.783Z"
   },
   {
    "duration": 191,
    "start_time": "2023-03-04T09:46:21.658Z"
   },
   {
    "duration": 5,
    "start_time": "2023-03-04T09:46:21.850Z"
   },
   {
    "duration": 8,
    "start_time": "2023-03-04T09:46:21.856Z"
   },
   {
    "duration": 11080,
    "start_time": "2023-03-04T09:46:21.866Z"
   },
   {
    "duration": 8,
    "start_time": "2023-03-04T09:46:32.947Z"
   },
   {
    "duration": 85,
    "start_time": "2023-03-04T09:46:32.957Z"
   },
   {
    "duration": 4,
    "start_time": "2023-03-04T09:46:33.046Z"
   },
   {
    "duration": 8325,
    "start_time": "2023-03-04T09:46:33.051Z"
   },
   {
    "duration": 25,
    "start_time": "2023-03-04T09:46:41.378Z"
   },
   {
    "duration": 4,
    "start_time": "2023-03-04T09:46:41.405Z"
   },
   {
    "duration": 8,
    "start_time": "2023-03-04T09:46:41.410Z"
   },
   {
    "duration": 1437,
    "start_time": "2023-03-04T09:53:24.002Z"
   },
   {
    "duration": 55,
    "start_time": "2023-03-04T09:53:25.441Z"
   },
   {
    "duration": 11,
    "start_time": "2023-03-04T09:53:25.498Z"
   },
   {
    "duration": 17,
    "start_time": "2023-03-04T09:53:25.511Z"
   },
   {
    "duration": 5,
    "start_time": "2023-03-04T09:53:25.530Z"
   },
   {
    "duration": 684,
    "start_time": "2023-03-04T09:53:25.536Z"
   },
   {
    "duration": 7,
    "start_time": "2023-03-04T09:53:26.222Z"
   },
   {
    "duration": 305,
    "start_time": "2023-03-04T09:53:26.231Z"
   },
   {
    "duration": 13,
    "start_time": "2023-03-04T09:53:26.539Z"
   },
   {
    "duration": 745,
    "start_time": "2023-03-04T09:53:26.556Z"
   },
   {
    "duration": 22,
    "start_time": "2023-03-04T09:53:27.303Z"
   },
   {
    "duration": 24,
    "start_time": "2023-03-04T09:53:27.326Z"
   },
   {
    "duration": 33,
    "start_time": "2023-03-04T09:53:27.357Z"
   },
   {
    "duration": 4,
    "start_time": "2023-03-04T09:53:27.392Z"
   },
   {
    "duration": 977,
    "start_time": "2023-03-04T09:53:27.397Z"
   },
   {
    "duration": 72,
    "start_time": "2023-03-04T09:53:28.375Z"
   },
   {
    "duration": 3474,
    "start_time": "2023-03-04T09:53:28.449Z"
   },
   {
    "duration": 4,
    "start_time": "2023-03-04T09:53:31.925Z"
   },
   {
    "duration": 39,
    "start_time": "2023-03-04T09:53:31.930Z"
   },
   {
    "duration": 5,
    "start_time": "2023-03-04T09:53:31.971Z"
   },
   {
    "duration": 103660,
    "start_time": "2023-03-04T09:53:31.977Z"
   },
   {
    "duration": 196,
    "start_time": "2023-03-04T09:55:15.641Z"
   },
   {
    "duration": 93,
    "start_time": "2023-03-04T09:55:15.839Z"
   },
   {
    "duration": 4,
    "start_time": "2023-03-04T09:55:15.934Z"
   },
   {
    "duration": 17114,
    "start_time": "2023-03-04T09:55:15.940Z"
   },
   {
    "duration": 86,
    "start_time": "2023-03-04T09:55:33.056Z"
   },
   {
    "duration": 9,
    "start_time": "2023-03-04T09:55:33.144Z"
   },
   {
    "duration": 11,
    "start_time": "2023-03-04T09:55:33.156Z"
   },
   {
    "duration": 8712,
    "start_time": "2023-03-04T09:55:33.169Z"
   },
   {
    "duration": 24,
    "start_time": "2023-03-04T09:55:41.883Z"
   },
   {
    "duration": 4,
    "start_time": "2023-03-04T09:55:41.909Z"
   },
   {
    "duration": 8,
    "start_time": "2023-03-04T09:55:41.915Z"
   },
   {
    "duration": 1403,
    "start_time": "2023-03-04T09:58:27.800Z"
   },
   {
    "duration": 55,
    "start_time": "2023-03-04T09:58:29.205Z"
   },
   {
    "duration": 11,
    "start_time": "2023-03-04T09:58:29.262Z"
   },
   {
    "duration": 9,
    "start_time": "2023-03-04T09:58:29.275Z"
   },
   {
    "duration": 6,
    "start_time": "2023-03-04T09:58:29.285Z"
   },
   {
    "duration": 623,
    "start_time": "2023-03-04T09:58:29.292Z"
   },
   {
    "duration": 8,
    "start_time": "2023-03-04T09:58:29.917Z"
   },
   {
    "duration": 294,
    "start_time": "2023-03-04T09:58:29.926Z"
   },
   {
    "duration": 6,
    "start_time": "2023-03-04T09:58:30.223Z"
   },
   {
    "duration": 684,
    "start_time": "2023-03-04T09:58:30.231Z"
   },
   {
    "duration": 29,
    "start_time": "2023-03-04T09:58:30.917Z"
   },
   {
    "duration": 10,
    "start_time": "2023-03-04T09:58:41.266Z"
   },
   {
    "duration": 9,
    "start_time": "2023-03-04T09:58:44.565Z"
   },
   {
    "duration": 9,
    "start_time": "2023-03-04T09:58:47.267Z"
   },
   {
    "duration": 3,
    "start_time": "2023-03-04T09:58:49.387Z"
   },
   {
    "duration": 773,
    "start_time": "2023-03-04T09:58:50.609Z"
   },
   {
    "duration": 8,
    "start_time": "2023-03-04T09:58:56.389Z"
   },
   {
    "duration": 8,
    "start_time": "2023-03-04T10:00:21.158Z"
   },
   {
    "duration": 3,
    "start_time": "2023-03-04T10:00:22.656Z"
   },
   {
    "duration": 717,
    "start_time": "2023-03-04T10:00:24.457Z"
   },
   {
    "duration": 200,
    "start_time": "2023-03-04T10:00:38.437Z"
   },
   {
    "duration": 104,
    "start_time": "2023-03-04T10:00:58.572Z"
   },
   {
    "duration": 3,
    "start_time": "2023-03-04T10:03:23.403Z"
   },
   {
    "duration": 92,
    "start_time": "2023-03-04T10:03:25.366Z"
   },
   {
    "duration": 3,
    "start_time": "2023-03-04T10:04:53.161Z"
   },
   {
    "duration": 101,
    "start_time": "2023-03-04T10:04:53.912Z"
   },
   {
    "duration": 5,
    "start_time": "2023-03-04T10:05:32.572Z"
   },
   {
    "duration": 1406,
    "start_time": "2023-03-04T10:05:57.729Z"
   },
   {
    "duration": 50,
    "start_time": "2023-03-04T10:05:59.136Z"
   },
   {
    "duration": 12,
    "start_time": "2023-03-04T10:05:59.188Z"
   },
   {
    "duration": 8,
    "start_time": "2023-03-04T10:05:59.202Z"
   },
   {
    "duration": 4,
    "start_time": "2023-03-04T10:05:59.212Z"
   },
   {
    "duration": 607,
    "start_time": "2023-03-04T10:05:59.217Z"
   },
   {
    "duration": 14,
    "start_time": "2023-03-04T10:05:59.826Z"
   },
   {
    "duration": 260,
    "start_time": "2023-03-04T10:05:59.850Z"
   },
   {
    "duration": 7,
    "start_time": "2023-03-04T10:06:00.111Z"
   },
   {
    "duration": 713,
    "start_time": "2023-03-04T10:06:00.120Z"
   },
   {
    "duration": 25,
    "start_time": "2023-03-04T10:06:00.834Z"
   },
   {
    "duration": 30,
    "start_time": "2023-03-04T10:06:00.861Z"
   },
   {
    "duration": 20,
    "start_time": "2023-03-04T10:06:00.893Z"
   },
   {
    "duration": 47,
    "start_time": "2023-03-04T10:06:00.915Z"
   },
   {
    "duration": 31,
    "start_time": "2023-03-04T10:06:00.963Z"
   },
   {
    "duration": 145,
    "start_time": "2023-03-04T10:06:42.334Z"
   },
   {
    "duration": 10,
    "start_time": "2023-03-04T10:06:58.691Z"
   },
   {
    "duration": 9,
    "start_time": "2023-03-04T10:08:09.793Z"
   },
   {
    "duration": 103,
    "start_time": "2023-03-04T10:08:17.209Z"
   },
   {
    "duration": 3,
    "start_time": "2023-03-04T10:10:27.340Z"
   },
   {
    "duration": 408,
    "start_time": "2023-03-04T10:10:28.454Z"
   },
   {
    "duration": 10,
    "start_time": "2023-03-04T10:10:49.037Z"
   },
   {
    "duration": 20,
    "start_time": "2023-03-04T10:12:06.996Z"
   },
   {
    "duration": 8,
    "start_time": "2023-03-04T10:12:30.130Z"
   },
   {
    "duration": 1393,
    "start_time": "2023-03-04T10:12:49.545Z"
   },
   {
    "duration": 58,
    "start_time": "2023-03-04T10:12:50.940Z"
   },
   {
    "duration": 11,
    "start_time": "2023-03-04T10:12:51.000Z"
   },
   {
    "duration": 12,
    "start_time": "2023-03-04T10:12:51.012Z"
   },
   {
    "duration": 8,
    "start_time": "2023-03-04T10:12:51.026Z"
   },
   {
    "duration": 613,
    "start_time": "2023-03-04T10:12:51.036Z"
   },
   {
    "duration": 11,
    "start_time": "2023-03-04T10:12:51.651Z"
   },
   {
    "duration": 295,
    "start_time": "2023-03-04T10:12:51.664Z"
   },
   {
    "duration": 7,
    "start_time": "2023-03-04T10:12:51.961Z"
   },
   {
    "duration": 706,
    "start_time": "2023-03-04T10:12:51.970Z"
   },
   {
    "duration": 22,
    "start_time": "2023-03-04T10:12:52.677Z"
   },
   {
    "duration": 9,
    "start_time": "2023-03-04T10:12:52.700Z"
   },
   {
    "duration": 9,
    "start_time": "2023-03-04T10:12:52.710Z"
   },
   {
    "duration": 3,
    "start_time": "2023-03-04T10:12:52.741Z"
   },
   {
    "duration": 405,
    "start_time": "2023-03-04T10:12:52.745Z"
   },
   {
    "duration": 10,
    "start_time": "2023-03-04T10:12:53.152Z"
   },
   {
    "duration": 2161,
    "start_time": "2023-03-04T10:12:53.163Z"
   },
   {
    "duration": 4,
    "start_time": "2023-03-04T10:12:55.326Z"
   },
   {
    "duration": 6,
    "start_time": "2023-03-04T10:12:55.331Z"
   },
   {
    "duration": 33,
    "start_time": "2023-03-04T10:12:55.338Z"
   },
   {
    "duration": 93661,
    "start_time": "2023-03-04T10:12:55.372Z"
   },
   {
    "duration": 183,
    "start_time": "2023-03-04T10:14:29.034Z"
   },
   {
    "duration": 99,
    "start_time": "2023-03-04T10:14:29.218Z"
   },
   {
    "duration": 4,
    "start_time": "2023-03-04T10:14:29.319Z"
   },
   {
    "duration": 7218,
    "start_time": "2023-03-04T10:14:29.324Z"
   },
   {
    "duration": 19,
    "start_time": "2023-03-04T10:14:36.544Z"
   },
   {
    "duration": 87,
    "start_time": "2023-03-04T10:14:36.565Z"
   },
   {
    "duration": 15,
    "start_time": "2023-03-04T10:14:36.656Z"
   },
   {
    "duration": 7556,
    "start_time": "2023-03-04T10:14:36.672Z"
   },
   {
    "duration": 25,
    "start_time": "2023-03-04T10:14:44.229Z"
   },
   {
    "duration": 5,
    "start_time": "2023-03-04T10:14:44.256Z"
   },
   {
    "duration": 5,
    "start_time": "2023-03-04T10:14:44.263Z"
   },
   {
    "duration": 9,
    "start_time": "2023-03-04T10:14:44.270Z"
   },
   {
    "duration": 44,
    "start_time": "2023-03-04T10:18:10.255Z"
   },
   {
    "duration": 716,
    "start_time": "2023-03-04T10:18:18.762Z"
   },
   {
    "duration": 6,
    "start_time": "2023-03-04T10:24:07.157Z"
   },
   {
    "duration": 1416,
    "start_time": "2023-03-04T10:24:24.730Z"
   },
   {
    "duration": 51,
    "start_time": "2023-03-04T10:24:26.148Z"
   },
   {
    "duration": 10,
    "start_time": "2023-03-04T10:24:26.200Z"
   },
   {
    "duration": 8,
    "start_time": "2023-03-04T10:24:26.212Z"
   },
   {
    "duration": 7,
    "start_time": "2023-03-04T10:24:26.222Z"
   },
   {
    "duration": 647,
    "start_time": "2023-03-04T10:24:26.230Z"
   },
   {
    "duration": 7,
    "start_time": "2023-03-04T10:24:26.878Z"
   },
   {
    "duration": 287,
    "start_time": "2023-03-04T10:24:26.887Z"
   },
   {
    "duration": 7,
    "start_time": "2023-03-04T10:24:27.176Z"
   },
   {
    "duration": 703,
    "start_time": "2023-03-04T10:24:27.185Z"
   },
   {
    "duration": 21,
    "start_time": "2023-03-04T10:24:27.890Z"
   },
   {
    "duration": 21,
    "start_time": "2023-03-04T10:24:27.912Z"
   },
   {
    "duration": 22,
    "start_time": "2023-03-04T10:24:27.942Z"
   },
   {
    "duration": 7,
    "start_time": "2023-03-04T10:24:27.966Z"
   },
   {
    "duration": 399,
    "start_time": "2023-03-04T10:24:27.974Z"
   },
   {
    "duration": 9,
    "start_time": "2023-03-04T10:24:28.374Z"
   },
   {
    "duration": 2275,
    "start_time": "2023-03-04T10:24:28.384Z"
   },
   {
    "duration": 4,
    "start_time": "2023-03-04T10:24:30.660Z"
   },
   {
    "duration": 25,
    "start_time": "2023-03-04T10:24:30.666Z"
   },
   {
    "duration": 16,
    "start_time": "2023-03-04T10:24:30.693Z"
   },
   {
    "duration": 98493,
    "start_time": "2023-03-04T10:24:30.711Z"
   },
   {
    "duration": 620,
    "start_time": "2023-03-04T10:26:09.206Z"
   },
   {
    "duration": 4,
    "start_time": "2023-03-04T10:26:09.828Z"
   },
   {
    "duration": 9,
    "start_time": "2023-03-04T10:26:09.833Z"
   },
   {
    "duration": 12607,
    "start_time": "2023-03-04T10:26:09.844Z"
   },
   {
    "duration": 99,
    "start_time": "2023-03-04T10:26:22.453Z"
   },
   {
    "duration": 88,
    "start_time": "2023-03-04T10:26:22.554Z"
   },
   {
    "duration": 15,
    "start_time": "2023-03-04T10:26:22.647Z"
   },
   {
    "duration": 7057,
    "start_time": "2023-03-04T10:26:22.664Z"
   },
   {
    "duration": 26,
    "start_time": "2023-03-04T10:26:29.722Z"
   },
   {
    "duration": 5,
    "start_time": "2023-03-04T10:26:29.750Z"
   },
   {
    "duration": 8,
    "start_time": "2023-03-04T10:26:29.757Z"
   },
   {
    "duration": 10,
    "start_time": "2023-03-04T10:26:29.767Z"
   },
   {
    "duration": 126,
    "start_time": "2023-03-04T10:35:49.170Z"
   },
   {
    "duration": 11,
    "start_time": "2023-03-04T10:39:53.076Z"
   },
   {
    "duration": 1724,
    "start_time": "2023-03-06T13:39:49.018Z"
   },
   {
    "duration": 209,
    "start_time": "2023-03-06T13:39:50.744Z"
   },
   {
    "duration": 16,
    "start_time": "2023-03-06T13:39:50.955Z"
   },
   {
    "duration": 56,
    "start_time": "2023-03-06T13:39:50.973Z"
   },
   {
    "duration": 13,
    "start_time": "2023-03-06T13:39:51.031Z"
   },
   {
    "duration": 798,
    "start_time": "2023-03-06T13:39:51.046Z"
   },
   {
    "duration": 18,
    "start_time": "2023-03-06T13:39:51.846Z"
   },
   {
    "duration": 266,
    "start_time": "2023-03-06T13:39:51.866Z"
   },
   {
    "duration": 10,
    "start_time": "2023-03-06T13:39:52.133Z"
   },
   {
    "duration": 466,
    "start_time": "2023-03-06T13:39:53.979Z"
   },
   {
    "duration": 882,
    "start_time": "2023-03-06T13:40:19.802Z"
   },
   {
    "duration": 70,
    "start_time": "2023-03-06T13:40:52.570Z"
   },
   {
    "duration": 22,
    "start_time": "2023-03-06T13:43:43.034Z"
   },
   {
    "duration": 20,
    "start_time": "2023-03-06T13:44:02.218Z"
   },
   {
    "duration": 11,
    "start_time": "2023-03-06T13:44:30.619Z"
   },
   {
    "duration": 1543,
    "start_time": "2023-03-06T13:44:49.184Z"
   },
   {
    "duration": 57,
    "start_time": "2023-03-06T13:44:50.729Z"
   },
   {
    "duration": 14,
    "start_time": "2023-03-06T13:44:50.788Z"
   },
   {
    "duration": 18,
    "start_time": "2023-03-06T13:44:50.804Z"
   },
   {
    "duration": 10,
    "start_time": "2023-03-06T13:44:50.825Z"
   },
   {
    "duration": 718,
    "start_time": "2023-03-06T13:44:50.837Z"
   },
   {
    "duration": 13,
    "start_time": "2023-03-06T13:44:51.557Z"
   },
   {
    "duration": 331,
    "start_time": "2023-03-06T13:44:51.572Z"
   },
   {
    "duration": 8,
    "start_time": "2023-03-06T13:44:51.905Z"
   },
   {
    "duration": 813,
    "start_time": "2023-03-06T13:44:51.915Z"
   },
   {
    "duration": 23,
    "start_time": "2023-03-06T13:44:56.920Z"
   },
   {
    "duration": 134,
    "start_time": "2023-03-06T13:44:59.567Z"
   },
   {
    "duration": 19,
    "start_time": "2023-03-06T13:45:42.833Z"
   },
   {
    "duration": 11,
    "start_time": "2023-03-06T13:45:46.586Z"
   },
   {
    "duration": 20,
    "start_time": "2023-03-06T13:46:30.065Z"
   },
   {
    "duration": 23,
    "start_time": "2023-03-06T13:46:51.265Z"
   },
   {
    "duration": 12,
    "start_time": "2023-03-06T13:46:57.620Z"
   },
   {
    "duration": 20,
    "start_time": "2023-03-06T13:54:07.429Z"
   },
   {
    "duration": 10,
    "start_time": "2023-03-06T13:54:16.424Z"
   },
   {
    "duration": 20,
    "start_time": "2023-03-06T13:54:25.819Z"
   },
   {
    "duration": 1470,
    "start_time": "2023-03-06T13:54:58.510Z"
   },
   {
    "duration": 54,
    "start_time": "2023-03-06T13:54:59.983Z"
   },
   {
    "duration": 14,
    "start_time": "2023-03-06T13:55:00.039Z"
   },
   {
    "duration": 13,
    "start_time": "2023-03-06T13:55:00.055Z"
   },
   {
    "duration": 15,
    "start_time": "2023-03-06T13:55:00.071Z"
   },
   {
    "duration": 719,
    "start_time": "2023-03-06T13:55:00.087Z"
   },
   {
    "duration": 9,
    "start_time": "2023-03-06T13:55:00.808Z"
   },
   {
    "duration": 335,
    "start_time": "2023-03-06T13:55:00.819Z"
   },
   {
    "duration": 14,
    "start_time": "2023-03-06T13:55:01.156Z"
   },
   {
    "duration": 752,
    "start_time": "2023-03-06T13:55:01.172Z"
   },
   {
    "duration": 4,
    "start_time": "2023-03-06T13:55:17.198Z"
   },
   {
    "duration": 51,
    "start_time": "2023-03-06T13:55:17.228Z"
   },
   {
    "duration": 15,
    "start_time": "2023-03-06T13:55:17.376Z"
   },
   {
    "duration": 12,
    "start_time": "2023-03-06T13:55:17.392Z"
   },
   {
    "duration": 5,
    "start_time": "2023-03-06T13:55:17.405Z"
   },
   {
    "duration": 673,
    "start_time": "2023-03-06T13:55:17.411Z"
   },
   {
    "duration": 7,
    "start_time": "2023-03-06T13:55:18.086Z"
   },
   {
    "duration": 341,
    "start_time": "2023-03-06T13:55:18.095Z"
   },
   {
    "duration": 9,
    "start_time": "2023-03-06T13:55:18.437Z"
   },
   {
    "duration": 767,
    "start_time": "2023-03-06T13:55:18.448Z"
   },
   {
    "duration": 18,
    "start_time": "2023-03-06T13:55:25.770Z"
   },
   {
    "duration": 144,
    "start_time": "2023-03-06T13:55:34.226Z"
   },
   {
    "duration": 20,
    "start_time": "2023-03-06T13:55:37.788Z"
   },
   {
    "duration": 11,
    "start_time": "2023-03-06T13:55:42.128Z"
   },
   {
    "duration": 20,
    "start_time": "2023-03-06T13:55:55.763Z"
   },
   {
    "duration": 1590,
    "start_time": "2023-03-06T13:56:18.975Z"
   },
   {
    "duration": 57,
    "start_time": "2023-03-06T13:56:20.568Z"
   },
   {
    "duration": 13,
    "start_time": "2023-03-06T13:56:20.627Z"
   },
   {
    "duration": 11,
    "start_time": "2023-03-06T13:56:20.643Z"
   },
   {
    "duration": 7,
    "start_time": "2023-03-06T13:56:20.656Z"
   },
   {
    "duration": 686,
    "start_time": "2023-03-06T13:56:20.665Z"
   },
   {
    "duration": 15,
    "start_time": "2023-03-06T13:56:21.352Z"
   },
   {
    "duration": 321,
    "start_time": "2023-03-06T13:56:21.369Z"
   },
   {
    "duration": 8,
    "start_time": "2023-03-06T13:56:21.692Z"
   },
   {
    "duration": 829,
    "start_time": "2023-03-06T13:56:21.703Z"
   },
   {
    "duration": 135,
    "start_time": "2023-03-06T13:56:22.534Z"
   },
   {
    "duration": 1683,
    "start_time": "2023-03-06T13:56:53.935Z"
   },
   {
    "duration": 57,
    "start_time": "2023-03-06T13:56:55.621Z"
   },
   {
    "duration": 15,
    "start_time": "2023-03-06T13:56:55.680Z"
   },
   {
    "duration": 12,
    "start_time": "2023-03-06T13:56:55.698Z"
   },
   {
    "duration": 7,
    "start_time": "2023-03-06T13:56:55.712Z"
   },
   {
    "duration": 771,
    "start_time": "2023-03-06T13:56:55.721Z"
   },
   {
    "duration": 12,
    "start_time": "2023-03-06T13:56:56.495Z"
   },
   {
    "duration": 441,
    "start_time": "2023-03-06T13:56:56.510Z"
   },
   {
    "duration": 24,
    "start_time": "2023-03-06T13:56:56.953Z"
   },
   {
    "duration": 852,
    "start_time": "2023-03-06T13:56:56.980Z"
   },
   {
    "duration": 133,
    "start_time": "2023-03-06T13:56:57.834Z"
   },
   {
    "duration": 10,
    "start_time": "2023-03-06T13:57:03.292Z"
   },
   {
    "duration": 21,
    "start_time": "2023-03-06T13:57:37.977Z"
   },
   {
    "duration": 1536,
    "start_time": "2023-03-06T13:58:00.918Z"
   },
   {
    "duration": 56,
    "start_time": "2023-03-06T13:58:02.456Z"
   },
   {
    "duration": 14,
    "start_time": "2023-03-06T13:58:02.513Z"
   },
   {
    "duration": 31,
    "start_time": "2023-03-06T13:58:02.529Z"
   },
   {
    "duration": 20,
    "start_time": "2023-03-06T13:58:02.562Z"
   },
   {
    "duration": 681,
    "start_time": "2023-03-06T13:58:02.583Z"
   },
   {
    "duration": 10,
    "start_time": "2023-03-06T13:58:03.265Z"
   },
   {
    "duration": 328,
    "start_time": "2023-03-06T13:58:03.277Z"
   },
   {
    "duration": 9,
    "start_time": "2023-03-06T13:58:03.607Z"
   },
   {
    "duration": 818,
    "start_time": "2023-03-06T13:58:03.618Z"
   },
   {
    "duration": 166,
    "start_time": "2023-03-06T13:58:04.439Z"
   },
   {
    "duration": 11,
    "start_time": "2023-03-06T13:58:09.717Z"
   },
   {
    "duration": 24,
    "start_time": "2023-03-06T13:58:28.110Z"
   },
   {
    "duration": 10,
    "start_time": "2023-03-06T13:58:32.322Z"
   },
   {
    "duration": 12,
    "start_time": "2023-03-06T13:59:05.904Z"
   },
   {
    "duration": 11,
    "start_time": "2023-03-06T14:00:22.608Z"
   },
   {
    "duration": 81,
    "start_time": "2023-03-06T14:00:46.842Z"
   },
   {
    "duration": 1552,
    "start_time": "2023-03-06T14:01:41.180Z"
   },
   {
    "duration": 55,
    "start_time": "2023-03-06T14:01:42.735Z"
   },
   {
    "duration": 13,
    "start_time": "2023-03-06T14:01:42.792Z"
   },
   {
    "duration": 11,
    "start_time": "2023-03-06T14:01:42.808Z"
   },
   {
    "duration": 9,
    "start_time": "2023-03-06T14:01:42.821Z"
   },
   {
    "duration": 692,
    "start_time": "2023-03-06T14:01:42.832Z"
   },
   {
    "duration": 10,
    "start_time": "2023-03-06T14:01:43.527Z"
   },
   {
    "duration": 328,
    "start_time": "2023-03-06T14:01:43.539Z"
   },
   {
    "duration": 9,
    "start_time": "2023-03-06T14:01:43.869Z"
   },
   {
    "duration": 871,
    "start_time": "2023-03-06T14:01:43.881Z"
   },
   {
    "duration": 26,
    "start_time": "2023-03-06T14:01:44.755Z"
   },
   {
    "duration": 11,
    "start_time": "2023-03-06T14:01:44.783Z"
   },
   {
    "duration": 5,
    "start_time": "2023-03-06T14:01:54.601Z"
   },
   {
    "duration": 52,
    "start_time": "2023-03-06T14:01:54.716Z"
   },
   {
    "duration": 13,
    "start_time": "2023-03-06T14:01:54.784Z"
   },
   {
    "duration": 14,
    "start_time": "2023-03-06T14:01:54.803Z"
   },
   {
    "duration": 7,
    "start_time": "2023-03-06T14:01:54.819Z"
   },
   {
    "duration": 704,
    "start_time": "2023-03-06T14:01:54.828Z"
   },
   {
    "duration": 7,
    "start_time": "2023-03-06T14:01:55.534Z"
   },
   {
    "duration": 343,
    "start_time": "2023-03-06T14:01:55.543Z"
   },
   {
    "duration": 11,
    "start_time": "2023-03-06T14:01:55.890Z"
   },
   {
    "duration": 820,
    "start_time": "2023-03-06T14:01:55.903Z"
   },
   {
    "duration": 38,
    "start_time": "2023-03-06T14:01:56.726Z"
   },
   {
    "duration": 11,
    "start_time": "2023-03-06T14:01:56.766Z"
   },
   {
    "duration": 12,
    "start_time": "2023-03-06T14:02:10.291Z"
   },
   {
    "duration": 4,
    "start_time": "2023-03-06T14:02:12.976Z"
   },
   {
    "duration": 182,
    "start_time": "2023-03-06T14:08:23.677Z"
   },
   {
    "duration": 4,
    "start_time": "2023-03-06T14:08:45.299Z"
   },
   {
    "duration": 104,
    "start_time": "2023-03-06T14:08:54.643Z"
   },
   {
    "duration": 149,
    "start_time": "2023-03-06T14:09:26.405Z"
   },
   {
    "duration": 12,
    "start_time": "2023-03-06T14:09:40.097Z"
   },
   {
    "duration": 71,
    "start_time": "2023-03-06T14:10:31.737Z"
   },
   {
    "duration": 212,
    "start_time": "2023-03-06T14:10:42.449Z"
   },
   {
    "duration": 12,
    "start_time": "2023-03-06T14:10:45.878Z"
   },
   {
    "duration": 1850,
    "start_time": "2023-03-06T14:11:09.191Z"
   },
   {
    "duration": 7,
    "start_time": "2023-03-06T14:11:12.878Z"
   },
   {
    "duration": 6,
    "start_time": "2023-03-06T14:11:14.577Z"
   },
   {
    "duration": 3,
    "start_time": "2023-03-06T14:11:15.475Z"
   },
   {
    "duration": 76493,
    "start_time": "2023-03-06T14:11:17.625Z"
   },
   {
    "duration": 430,
    "start_time": "2023-03-06T14:13:18.908Z"
   },
   {
    "duration": 6,
    "start_time": "2023-03-06T14:13:21.876Z"
   },
   {
    "duration": 5,
    "start_time": "2023-03-06T14:13:23.467Z"
   },
   {
    "duration": 1585,
    "start_time": "2023-03-06T14:14:24.613Z"
   },
   {
    "duration": 56,
    "start_time": "2023-03-06T14:14:26.201Z"
   },
   {
    "duration": 15,
    "start_time": "2023-03-06T14:14:26.259Z"
   },
   {
    "duration": 12,
    "start_time": "2023-03-06T14:14:26.277Z"
   },
   {
    "duration": 6,
    "start_time": "2023-03-06T14:14:26.292Z"
   },
   {
    "duration": 771,
    "start_time": "2023-03-06T14:14:26.300Z"
   },
   {
    "duration": 9,
    "start_time": "2023-03-06T14:14:27.073Z"
   },
   {
    "duration": 337,
    "start_time": "2023-03-06T14:14:27.084Z"
   },
   {
    "duration": 9,
    "start_time": "2023-03-06T14:14:27.423Z"
   },
   {
    "duration": 821,
    "start_time": "2023-03-06T14:14:27.435Z"
   },
   {
    "duration": 35,
    "start_time": "2023-03-06T14:14:28.259Z"
   },
   {
    "duration": 14,
    "start_time": "2023-03-06T14:14:28.296Z"
   },
   {
    "duration": 59,
    "start_time": "2023-03-06T14:14:28.312Z"
   },
   {
    "duration": 1609,
    "start_time": "2023-03-06T14:14:51.322Z"
   },
   {
    "duration": 60,
    "start_time": "2023-03-06T14:14:52.935Z"
   },
   {
    "duration": 15,
    "start_time": "2023-03-06T14:14:52.998Z"
   },
   {
    "duration": 16,
    "start_time": "2023-03-06T14:14:53.017Z"
   },
   {
    "duration": 32,
    "start_time": "2023-03-06T14:14:53.035Z"
   },
   {
    "duration": 735,
    "start_time": "2023-03-06T14:14:53.069Z"
   },
   {
    "duration": 9,
    "start_time": "2023-03-06T14:14:53.805Z"
   },
   {
    "duration": 350,
    "start_time": "2023-03-06T14:14:53.816Z"
   },
   {
    "duration": 10,
    "start_time": "2023-03-06T14:14:54.169Z"
   },
   {
    "duration": 854,
    "start_time": "2023-03-06T14:14:54.182Z"
   },
   {
    "duration": 46,
    "start_time": "2023-03-06T14:14:55.038Z"
   },
   {
    "duration": 17,
    "start_time": "2023-03-06T14:14:55.086Z"
   },
   {
    "duration": 71,
    "start_time": "2023-03-06T14:14:55.106Z"
   },
   {
    "duration": 1600,
    "start_time": "2023-03-06T14:15:19.480Z"
   },
   {
    "duration": 57,
    "start_time": "2023-03-06T14:15:21.082Z"
   },
   {
    "duration": 19,
    "start_time": "2023-03-06T14:15:21.141Z"
   },
   {
    "duration": 16,
    "start_time": "2023-03-06T14:15:21.162Z"
   },
   {
    "duration": 10,
    "start_time": "2023-03-06T14:15:21.181Z"
   },
   {
    "duration": 694,
    "start_time": "2023-03-06T14:15:21.194Z"
   },
   {
    "duration": 11,
    "start_time": "2023-03-06T14:15:21.890Z"
   },
   {
    "duration": 455,
    "start_time": "2023-03-06T14:15:21.904Z"
   },
   {
    "duration": 9,
    "start_time": "2023-03-06T14:15:22.364Z"
   },
   {
    "duration": 884,
    "start_time": "2023-03-06T14:15:22.376Z"
   },
   {
    "duration": 59,
    "start_time": "2023-03-06T14:15:23.262Z"
   },
   {
    "duration": 22,
    "start_time": "2023-03-06T14:15:23.323Z"
   },
   {
    "duration": 82,
    "start_time": "2023-03-06T14:15:26.592Z"
   },
   {
    "duration": 1617,
    "start_time": "2023-03-06T14:15:49.421Z"
   },
   {
    "duration": 57,
    "start_time": "2023-03-06T14:15:51.041Z"
   },
   {
    "duration": 13,
    "start_time": "2023-03-06T14:15:51.100Z"
   },
   {
    "duration": 28,
    "start_time": "2023-03-06T14:15:51.116Z"
   },
   {
    "duration": 6,
    "start_time": "2023-03-06T14:15:51.147Z"
   },
   {
    "duration": 772,
    "start_time": "2023-03-06T14:15:51.156Z"
   },
   {
    "duration": 9,
    "start_time": "2023-03-06T14:15:51.930Z"
   },
   {
    "duration": 364,
    "start_time": "2023-03-06T14:15:51.941Z"
   },
   {
    "duration": 10,
    "start_time": "2023-03-06T14:15:52.308Z"
   },
   {
    "duration": 919,
    "start_time": "2023-03-06T14:15:52.321Z"
   },
   {
    "duration": 114,
    "start_time": "2023-03-06T14:15:53.243Z"
   },
   {
    "duration": 27,
    "start_time": "2023-03-06T14:15:53.360Z"
   },
   {
    "duration": 1575,
    "start_time": "2023-03-06T14:15:53.389Z"
   },
   {
    "duration": 3,
    "start_time": "2023-03-06T14:16:17.250Z"
   },
   {
    "duration": 19803,
    "start_time": "2023-03-06T14:16:18.476Z"
   },
   {
    "duration": 182,
    "start_time": "2023-03-06T14:16:42.988Z"
   },
   {
    "duration": 19691,
    "start_time": "2023-03-06T14:16:45.123Z"
   },
   {
    "duration": 13,
    "start_time": "2023-03-06T14:17:08.929Z"
   },
   {
    "duration": 4,
    "start_time": "2023-03-06T14:17:11.021Z"
   },
   {
    "duration": 3,
    "start_time": "2023-03-06T14:17:13.531Z"
   },
   {
    "duration": 265441,
    "start_time": "2023-03-06T14:17:17.503Z"
   },
   {
    "duration": 2961,
    "start_time": "2023-03-06T14:24:00.924Z"
   },
   {
    "duration": 2695,
    "start_time": "2023-03-06T14:24:10.630Z"
   },
   {
    "duration": 8,
    "start_time": "2023-03-06T14:24:16.007Z"
   },
   {
    "duration": 5,
    "start_time": "2023-03-06T14:24:18.082Z"
   },
   {
    "duration": 1662,
    "start_time": "2023-03-06T14:25:08.007Z"
   },
   {
    "duration": 11,
    "start_time": "2023-03-06T14:25:10.694Z"
   },
   {
    "duration": 9,
    "start_time": "2023-03-06T14:25:12.884Z"
   },
   {
    "duration": 5,
    "start_time": "2023-03-06T14:25:14.908Z"
   },
   {
    "duration": 14368,
    "start_time": "2023-03-06T14:25:44.199Z"
   },
   {
    "duration": 10508,
    "start_time": "2023-03-06T14:26:22.117Z"
   },
   {
    "duration": 46,
    "start_time": "2023-03-06T14:26:43.979Z"
   },
   {
    "duration": 5,
    "start_time": "2023-03-06T14:27:07.548Z"
   },
   {
    "duration": 7,
    "start_time": "2023-03-06T14:27:24.523Z"
   },
   {
    "duration": 64,
    "start_time": "2023-03-06T14:27:39.753Z"
   },
   {
    "duration": 4,
    "start_time": "2023-03-06T14:28:09.983Z"
   },
   {
    "duration": 10,
    "start_time": "2023-03-06T14:28:15.924Z"
   },
   {
    "duration": 3620,
    "start_time": "2023-03-06T14:30:08.698Z"
   },
   {
    "duration": 4848,
    "start_time": "2023-03-06T14:30:43.474Z"
   },
   {
    "duration": 151,
    "start_time": "2023-03-06T14:33:12.282Z"
   },
   {
    "duration": 200,
    "start_time": "2023-03-06T14:33:36.929Z"
   },
   {
    "duration": 206,
    "start_time": "2023-03-06T14:34:03.890Z"
   },
   {
    "duration": 8,
    "start_time": "2023-03-06T14:34:21.391Z"
   },
   {
    "duration": 8,
    "start_time": "2023-03-06T14:34:30.975Z"
   },
   {
    "duration": 12,
    "start_time": "2023-03-06T14:34:57.505Z"
   },
   {
    "duration": 15,
    "start_time": "2023-03-06T14:36:35.524Z"
   },
   {
    "duration": 4,
    "start_time": "2023-03-06T14:37:18.840Z"
   },
   {
    "duration": 7,
    "start_time": "2023-03-06T14:37:30.481Z"
   },
   {
    "duration": 14,
    "start_time": "2023-03-06T14:37:48.454Z"
   },
   {
    "duration": 8,
    "start_time": "2023-03-06T14:38:52.698Z"
   },
   {
    "duration": 11,
    "start_time": "2023-03-06T14:40:08.323Z"
   },
   {
    "duration": 13,
    "start_time": "2023-03-06T14:40:25.791Z"
   },
   {
    "duration": 174,
    "start_time": "2023-03-06T14:40:40.324Z"
   },
   {
    "duration": 13,
    "start_time": "2023-03-06T14:41:38.270Z"
   },
   {
    "duration": 247,
    "start_time": "2023-03-06T14:42:32.066Z"
   },
   {
    "duration": 422,
    "start_time": "2023-03-06T14:42:44.942Z"
   },
   {
    "duration": 343,
    "start_time": "2023-03-06T14:45:19.646Z"
   },
   {
    "duration": 250,
    "start_time": "2023-03-06T14:46:10.183Z"
   },
   {
    "duration": 278,
    "start_time": "2023-03-06T14:46:22.429Z"
   },
   {
    "duration": 294,
    "start_time": "2023-03-06T14:46:34.631Z"
   },
   {
    "duration": 1649,
    "start_time": "2023-03-07T05:01:27.635Z"
   },
   {
    "duration": 121,
    "start_time": "2023-03-07T05:01:29.286Z"
   },
   {
    "duration": 15,
    "start_time": "2023-03-07T05:01:29.409Z"
   },
   {
    "duration": 20,
    "start_time": "2023-03-07T05:01:29.426Z"
   },
   {
    "duration": 15,
    "start_time": "2023-03-07T05:01:29.448Z"
   },
   {
    "duration": 747,
    "start_time": "2023-03-07T05:01:29.464Z"
   },
   {
    "duration": 9,
    "start_time": "2023-03-07T05:01:30.212Z"
   },
   {
    "duration": 256,
    "start_time": "2023-03-07T05:01:30.223Z"
   },
   {
    "duration": 8,
    "start_time": "2023-03-07T05:01:30.480Z"
   },
   {
    "duration": 857,
    "start_time": "2023-03-07T05:01:30.490Z"
   },
   {
    "duration": 99,
    "start_time": "2023-03-07T05:01:31.349Z"
   },
   {
    "duration": 27,
    "start_time": "2023-03-07T05:01:31.982Z"
   },
   {
    "duration": 303,
    "start_time": "2023-03-07T05:02:30.187Z"
   },
   {
    "duration": 4,
    "start_time": "2023-03-07T05:02:31.584Z"
   },
   {
    "duration": 18908,
    "start_time": "2023-03-07T05:02:32.879Z"
   },
   {
    "duration": 158,
    "start_time": "2023-03-07T05:03:07.223Z"
   },
   {
    "duration": 23223,
    "start_time": "2023-03-07T05:03:41.029Z"
   },
   {
    "duration": 12,
    "start_time": "2023-03-07T05:04:06.711Z"
   },
   {
    "duration": 5,
    "start_time": "2023-03-07T05:04:11.456Z"
   },
   {
    "duration": 4,
    "start_time": "2023-03-07T05:04:14.593Z"
   },
   {
    "duration": 338860,
    "start_time": "2023-03-07T05:04:18.487Z"
   },
   {
    "duration": 9014,
    "start_time": "2023-03-07T05:12:36.478Z"
   },
   {
    "duration": 8,
    "start_time": "2023-03-07T05:12:47.612Z"
   },
   {
    "duration": 6,
    "start_time": "2023-03-07T05:12:49.700Z"
   },
   {
    "duration": 310119,
    "start_time": "2023-03-07T05:13:17.875Z"
   },
   {
    "duration": 85,
    "start_time": "2023-03-07T05:18:27.996Z"
   },
   {
    "duration": 104,
    "start_time": "2023-03-07T05:18:28.083Z"
   },
   {
    "duration": 5,
    "start_time": "2023-03-07T05:18:28.194Z"
   },
   {
    "duration": 51908,
    "start_time": "2023-03-07T05:19:01.093Z"
   },
   {
    "duration": 264,
    "start_time": "2023-03-07T05:21:23.502Z"
   },
   {
    "duration": 5,
    "start_time": "2023-03-07T05:21:44.138Z"
   },
   {
    "duration": 5,
    "start_time": "2023-03-07T05:21:59.096Z"
   },
   {
    "duration": 10,
    "start_time": "2023-03-07T05:22:08.318Z"
   },
   {
    "duration": 943,
    "start_time": "2023-03-07T05:24:41.834Z"
   },
   {
    "duration": 518,
    "start_time": "2023-03-07T05:26:14.395Z"
   },
   {
    "duration": 412,
    "start_time": "2023-03-07T05:26:48.893Z"
   },
   {
    "duration": 585,
    "start_time": "2023-03-07T05:27:01.423Z"
   },
   {
    "duration": 217,
    "start_time": "2023-03-07T05:28:44.305Z"
   },
   {
    "duration": 546,
    "start_time": "2023-03-07T05:28:50.764Z"
   },
   {
    "duration": 283,
    "start_time": "2023-03-07T05:29:25.220Z"
   },
   {
    "duration": 10890,
    "start_time": "2023-03-07T05:30:46.310Z"
   },
   {
    "duration": 401,
    "start_time": "2023-03-07T05:31:16.591Z"
   },
   {
    "duration": 1625,
    "start_time": "2023-03-07T05:34:39.141Z"
   },
   {
    "duration": 62,
    "start_time": "2023-03-07T05:34:40.768Z"
   },
   {
    "duration": 18,
    "start_time": "2023-03-07T05:34:40.832Z"
   },
   {
    "duration": 25,
    "start_time": "2023-03-07T05:34:40.853Z"
   },
   {
    "duration": 21,
    "start_time": "2023-03-07T05:34:40.880Z"
   },
   {
    "duration": 698,
    "start_time": "2023-03-07T05:34:40.903Z"
   },
   {
    "duration": 11,
    "start_time": "2023-03-07T05:34:41.604Z"
   },
   {
    "duration": 355,
    "start_time": "2023-03-07T05:34:41.617Z"
   },
   {
    "duration": 11,
    "start_time": "2023-03-07T05:34:41.976Z"
   },
   {
    "duration": 1072,
    "start_time": "2023-03-07T05:34:41.991Z"
   },
   {
    "duration": 113,
    "start_time": "2023-03-07T05:34:43.066Z"
   },
   {
    "duration": 37,
    "start_time": "2023-03-07T05:34:43.181Z"
   },
   {
    "duration": 461,
    "start_time": "2023-03-07T05:34:43.220Z"
   },
   {
    "duration": 5,
    "start_time": "2023-03-07T05:34:43.683Z"
   },
   {
    "duration": 17403,
    "start_time": "2023-03-07T05:34:43.690Z"
   },
   {
    "duration": 381,
    "start_time": "2023-03-07T05:35:01.097Z"
   },
   {
    "duration": 25630,
    "start_time": "2023-03-07T05:35:01.481Z"
   },
   {
    "duration": 16,
    "start_time": "2023-03-07T05:35:27.113Z"
   },
   {
    "duration": 10,
    "start_time": "2023-03-07T05:35:27.133Z"
   },
   {
    "duration": 6,
    "start_time": "2023-03-07T05:35:27.146Z"
   },
   {
    "duration": 391651,
    "start_time": "2023-03-07T05:35:27.153Z"
   },
   {
    "duration": 9368,
    "start_time": "2023-03-07T05:41:58.807Z"
   },
   {
    "duration": 10,
    "start_time": "2023-03-07T05:42:08.177Z"
   },
   {
    "duration": 38,
    "start_time": "2023-03-07T05:42:08.190Z"
   },
   {
    "duration": 283466,
    "start_time": "2023-03-07T05:42:08.230Z"
   },
   {
    "duration": 21,
    "start_time": "2023-03-07T05:46:51.776Z"
   },
   {
    "duration": 88,
    "start_time": "2023-03-07T05:46:51.799Z"
   },
   {
    "duration": 7,
    "start_time": "2023-03-07T05:46:51.892Z"
   },
   {
    "duration": 49744,
    "start_time": "2023-03-07T05:46:51.902Z"
   },
   {
    "duration": 293,
    "start_time": "2023-03-07T05:47:41.648Z"
   },
   {
    "duration": 5,
    "start_time": "2023-03-07T05:47:41.943Z"
   },
   {
    "duration": 17,
    "start_time": "2023-03-07T05:47:41.949Z"
   },
   {
    "duration": 10,
    "start_time": "2023-03-07T05:47:41.978Z"
   },
   {
    "duration": 288,
    "start_time": "2023-03-07T05:47:41.991Z"
   },
   {
    "duration": 9068,
    "start_time": "2023-03-07T05:47:42.282Z"
   },
   {
    "duration": 348,
    "start_time": "2023-03-07T05:47:51.353Z"
   }
  ],
  "kernelspec": {
   "display_name": "Python 3 (ipykernel)",
   "language": "python",
   "name": "python3"
  },
  "language_info": {
   "codemirror_mode": {
    "name": "ipython",
    "version": 3
   },
   "file_extension": ".py",
   "mimetype": "text/x-python",
   "name": "python",
   "nbconvert_exporter": "python",
   "pygments_lexer": "ipython3",
   "version": "3.9.13"
  },
  "toc": {
   "base_numbering": 1,
   "nav_menu": {},
   "number_sections": true,
   "sideBar": true,
   "skip_h1_title": true,
   "title_cell": "Содержание",
   "title_sidebar": "Contents",
   "toc_cell": true,
   "toc_position": {
    "height": "calc(100% - 180px)",
    "left": "10px",
    "top": "150px",
    "width": "323.55px"
   },
   "toc_section_display": true,
   "toc_window_display": true
  }
 },
 "nbformat": 4,
 "nbformat_minor": 2
}
