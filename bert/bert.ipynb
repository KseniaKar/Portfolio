{
 "cells": [
  {
   "cell_type": "markdown",
   "metadata": {
    "toc": true
   },
   "source": [
    "<h1>Содержание<span class=\"tocSkip\"></span></h1>\n",
    "<div class=\"toc\"><ul class=\"toc-item\"><li><span><a href=\"#Подготовка\" data-toc-modified-id=\"Подготовка-1\"><span class=\"toc-item-num\">1&nbsp;&nbsp;</span>Подготовка</a></span></li><li><span><a href=\"#Обучение\" data-toc-modified-id=\"Обучение-2\"><span class=\"toc-item-num\">2&nbsp;&nbsp;</span>Обучение</a></span><ul class=\"toc-item\"><li><span><a href=\"#Логистическая-регрессия\" data-toc-modified-id=\"Логистическая-регрессия-2.1\"><span class=\"toc-item-num\">2.1&nbsp;&nbsp;</span>Логистическая регрессия</a></span></li><li><span><a href=\"#CatBoost\" data-toc-modified-id=\"CatBoost-2.2\"><span class=\"toc-item-num\">2.2&nbsp;&nbsp;</span>CatBoost</a></span></li><li><span><a href=\"#Тестирование\" data-toc-modified-id=\"Тестирование-2.3\"><span class=\"toc-item-num\">2.3&nbsp;&nbsp;</span>Тестирование</a></span></li></ul></li><li><span><a href=\"#Выводы\" data-toc-modified-id=\"Выводы-3\"><span class=\"toc-item-num\">3&nbsp;&nbsp;</span>Выводы</a></span></li></ul></div>"
   ]
  },
  {
   "cell_type": "markdown",
   "metadata": {},
   "source": [
    "# Машинное обучение для текстов"
   ]
  },
  {
   "cell_type": "markdown",
   "metadata": {},
   "source": [
    "Интернет-магазин запускает новый сервис. Теперь пользователи могут редактировать и дополнять описания товаров, как в вики-сообществах. То есть клиенты предлагают свои правки и комментируют изменения других. Магазину нужен инструмент, который будет искать токсичные комментарии и отправлять их на модерацию. \n",
    "\n",
    "Цель: обучить модель классифицировать комментарии на позитивные и негативные. Имеется в распоряжении набор данных с разметкой о токсичности правок. Необходимо построить модель со значением метрики качества *F1* не меньше 0.75. \n",
    "\n",
    "**План**\n",
    "\n",
    "1. Загрузить и подготовьте данные.\n",
    "2. Обучить разные модели. \n",
    "3. Сделайть выводы.\n",
    "\n",
    "\n",
    "**Описание данных**\n",
    "\n",
    "Данные находятся в файле `toxic_comments.csv`. Столбец *text* в нём содержит текст комментария, а *toxic* — целевой признак."
   ]
  },
  {
   "cell_type": "markdown",
   "metadata": {},
   "source": [
    "## Подготовка"
   ]
  },
  {
   "cell_type": "code",
   "execution_count": null,
   "metadata": {},
   "outputs": [],
   "source": [
    "#!pip install pymystem3\n",
    "#!python.exe -m pip install --upgrade pip\n",
    "#!pip install torch torchvision torchaudio -f https://download.pytorch.org/whl/cu115/torch_stable.html"
   ]
  },
  {
   "cell_type": "code",
   "execution_count": 1,
   "metadata": {},
   "outputs": [],
   "source": [
    "import pandas as pd\n",
    "import numpy as np\n",
    "\n",
    "from sklearn.feature_extraction.text import TfidfVectorizer\n",
    "from sklearn.linear_model import LogisticRegression\n",
    "from sklearn.feature_extraction.text import CountVectorizer\n",
    "from sklearn.model_selection import train_test_split\n",
    "from sklearn.metrics import f1_score\n",
    "from sklearn.model_selection import GridSearchCV\n",
    "from sklearn.metrics import make_scorer\n",
    "from sklearn.utils.class_weight import compute_class_weight\n",
    "\n",
    "from tqdm import tqdm\n",
    "from tqdm.notebook import tqdm\n",
    "from tqdm import notebook\n",
    "tqdm.pandas()\n",
    "\n",
    "import torch\n",
    "\n",
    "import transformers\n",
    "from transformers import BertTokenizer\n",
    "from transformers import AutoTokenizer\n",
    "from transformers import BertConfig\n",
    "\n",
    "from catboost import CatBoostClassifier\n",
    "\n",
    "import warnings\n",
    "warnings.filterwarnings(\"ignore\")"
   ]
  },
  {
   "cell_type": "code",
   "execution_count": 2,
   "metadata": {},
   "outputs": [
    {
     "name": "stdout",
     "output_type": "stream",
     "text": [
      "False\n"
     ]
    }
   ],
   "source": [
    "print(torch.cuda.is_available())"
   ]
  },
  {
   "cell_type": "code",
   "execution_count": 3,
   "metadata": {},
   "outputs": [
    {
     "data": {
      "text/html": [
       "<div>\n",
       "<style scoped>\n",
       "    .dataframe tbody tr th:only-of-type {\n",
       "        vertical-align: middle;\n",
       "    }\n",
       "\n",
       "    .dataframe tbody tr th {\n",
       "        vertical-align: top;\n",
       "    }\n",
       "\n",
       "    .dataframe thead th {\n",
       "        text-align: right;\n",
       "    }\n",
       "</style>\n",
       "<table border=\"1\" class=\"dataframe\">\n",
       "  <thead>\n",
       "    <tr style=\"text-align: right;\">\n",
       "      <th></th>\n",
       "      <th>Unnamed: 0</th>\n",
       "      <th>text</th>\n",
       "      <th>toxic</th>\n",
       "    </tr>\n",
       "  </thead>\n",
       "  <tbody>\n",
       "    <tr>\n",
       "      <th>0</th>\n",
       "      <td>0</td>\n",
       "      <td>Explanation\\nWhy the edits made under my usern...</td>\n",
       "      <td>0</td>\n",
       "    </tr>\n",
       "    <tr>\n",
       "      <th>1</th>\n",
       "      <td>1</td>\n",
       "      <td>D'aww! He matches this background colour I'm s...</td>\n",
       "      <td>0</td>\n",
       "    </tr>\n",
       "    <tr>\n",
       "      <th>2</th>\n",
       "      <td>2</td>\n",
       "      <td>Hey man, I'm really not trying to edit war. It...</td>\n",
       "      <td>0</td>\n",
       "    </tr>\n",
       "    <tr>\n",
       "      <th>3</th>\n",
       "      <td>3</td>\n",
       "      <td>\"\\nMore\\nI can't make any real suggestions on ...</td>\n",
       "      <td>0</td>\n",
       "    </tr>\n",
       "    <tr>\n",
       "      <th>4</th>\n",
       "      <td>4</td>\n",
       "      <td>You, sir, are my hero. Any chance you remember...</td>\n",
       "      <td>0</td>\n",
       "    </tr>\n",
       "  </tbody>\n",
       "</table>\n",
       "</div>"
      ],
      "text/plain": [
       "   Unnamed: 0                                               text  toxic\n",
       "0           0  Explanation\\nWhy the edits made under my usern...      0\n",
       "1           1  D'aww! He matches this background colour I'm s...      0\n",
       "2           2  Hey man, I'm really not trying to edit war. It...      0\n",
       "3           3  \"\\nMore\\nI can't make any real suggestions on ...      0\n",
       "4           4  You, sir, are my hero. Any chance you remember...      0"
      ]
     },
     "execution_count": 3,
     "metadata": {},
     "output_type": "execute_result"
    }
   ],
   "source": [
    "try:\n",
    "    data = pd.read_csv('/datasets/toxic_comments.csv')\n",
    "#    data = pd.read_csv('toxic_comments.csv')\n",
    "except:\n",
    "    print('no data')\n",
    "data.head()"
   ]
  },
  {
   "cell_type": "code",
   "execution_count": 4,
   "metadata": {},
   "outputs": [
    {
     "name": "stdout",
     "output_type": "stream",
     "text": [
      "<class 'pandas.core.frame.DataFrame'>\n",
      "RangeIndex: 159292 entries, 0 to 159291\n",
      "Data columns (total 3 columns):\n",
      " #   Column      Non-Null Count   Dtype \n",
      "---  ------      --------------   ----- \n",
      " 0   Unnamed: 0  159292 non-null  int64 \n",
      " 1   text        159292 non-null  object\n",
      " 2   toxic       159292 non-null  int64 \n",
      "dtypes: int64(2), object(1)\n",
      "memory usage: 3.6+ MB\n"
     ]
    }
   ],
   "source": [
    "data.info()"
   ]
  },
  {
   "cell_type": "code",
   "execution_count": 5,
   "metadata": {},
   "outputs": [
    {
     "name": "stdout",
     "output_type": "stream",
     "text": [
      "Количество дубликатов в данных 0\n"
     ]
    }
   ],
   "source": [
    "print('Количество дубликатов в данных', data.duplicated().sum())"
   ]
  },
  {
   "cell_type": "code",
   "execution_count": 6,
   "metadata": {},
   "outputs": [
    {
     "data": {
      "text/plain": [
       "Unnamed: 0    0\n",
       "text          0\n",
       "toxic         0\n",
       "dtype: int64"
      ]
     },
     "execution_count": 6,
     "metadata": {},
     "output_type": "execute_result"
    }
   ],
   "source": [
    "# выводим количество пропущенных значений каждого стобца\n",
    "data.isna().sum()"
   ]
  },
  {
   "cell_type": "markdown",
   "metadata": {},
   "source": [
    "Возььмем 1000 sample для ускорения расчетов."
   ]
  },
  {
   "cell_type": "code",
   "execution_count": 7,
   "metadata": {},
   "outputs": [],
   "source": [
    "data = data.sample(1000).reset_index(drop=True)"
   ]
  },
  {
   "cell_type": "markdown",
   "metadata": {},
   "source": [
    "Вычислим веса классов в выбранном датасете:"
   ]
  },
  {
   "cell_type": "code",
   "execution_count": 8,
   "metadata": {},
   "outputs": [
    {
     "name": "stdout",
     "output_type": "stream",
     "text": [
      "Веса классов:  [0.56433409 4.38596491]\n"
     ]
    }
   ],
   "source": [
    "class_weights = compute_class_weight(\n",
    "    \"balanced\", classes=np.unique(data[\"toxic\"]), y=data[\"toxic\"])\n",
    "\n",
    "print(\"Веса классов: \", class_weights)\n"
   ]
  },
  {
   "cell_type": "code",
   "execution_count": 9,
   "metadata": {},
   "outputs": [
    {
     "data": {
      "application/vnd.jupyter.widget-view+json": {
       "model_id": "748b0f8d661747e2b97e22ec6d781d61",
       "version_major": 2,
       "version_minor": 0
      },
      "text/plain": [
       "Downloading (…)okenizer_config.json:   0%|          | 0.00/174 [00:00<?, ?B/s]"
      ]
     },
     "metadata": {},
     "output_type": "display_data"
    },
    {
     "data": {
      "application/vnd.jupyter.widget-view+json": {
       "model_id": "c2adb7dc11654c1c9fa816ff52e6afe2",
       "version_major": 2,
       "version_minor": 0
      },
      "text/plain": [
       "Downloading (…)lve/main/config.json:   0%|          | 0.00/811 [00:00<?, ?B/s]"
      ]
     },
     "metadata": {},
     "output_type": "display_data"
    },
    {
     "data": {
      "application/vnd.jupyter.widget-view+json": {
       "model_id": "4bd3e57aa5c043e1bdfe6203dd2c1fb6",
       "version_major": 2,
       "version_minor": 0
      },
      "text/plain": [
       "Downloading (…)solve/main/vocab.txt:   0%|          | 0.00/232k [00:00<?, ?B/s]"
      ]
     },
     "metadata": {},
     "output_type": "display_data"
    },
    {
     "data": {
      "application/vnd.jupyter.widget-view+json": {
       "model_id": "b9f3be9591364d818a86bafcad784189",
       "version_major": 2,
       "version_minor": 0
      },
      "text/plain": [
       "Downloading (…)cial_tokens_map.json:   0%|          | 0.00/112 [00:00<?, ?B/s]"
      ]
     },
     "metadata": {},
     "output_type": "display_data"
    }
   ],
   "source": [
    "tokenizer = AutoTokenizer.from_pretrained(\"unitary/toxic-bert\")\n",
    "\n",
    "# Ограничим максимальную длину последовательности до 512 токенов\n",
    "max_len = 512\n",
    "tokenized = data[\"text\"].apply(\n",
    "    (\n",
    "        lambda x: tokenizer.encode(\n",
    "            x, add_special_tokens=True, max_length=max_len, truncation=True\n",
    "        )\n",
    "    )\n",
    ")\n",
    "\n",
    "padded = np.array([i + [0] * (max_len - len(i)) for i in tokenized.values])\n",
    "\n",
    "attention_mask = np.where(padded != 0, 1, 0)"
   ]
  },
  {
   "cell_type": "code",
   "execution_count": 10,
   "metadata": {},
   "outputs": [
    {
     "data": {
      "application/vnd.jupyter.widget-view+json": {
       "model_id": "27b699e33c3c411b8480215de48073ae",
       "version_major": 2,
       "version_minor": 0
      },
      "text/plain": [
       "Downloading pytorch_model.bin:   0%|          | 0.00/438M [00:00<?, ?B/s]"
      ]
     },
     "metadata": {},
     "output_type": "display_data"
    },
    {
     "name": "stderr",
     "output_type": "stream",
     "text": [
      "Some weights of the model checkpoint at unitary/toxic-bert were not used when initializing BertModel: ['classifier.bias', 'classifier.weight']\n",
      "- This IS expected if you are initializing BertModel from the checkpoint of a model trained on another task or with another architecture (e.g. initializing a BertForSequenceClassification model from a BertForPreTraining model).\n",
      "- This IS NOT expected if you are initializing BertModel from the checkpoint of a model that you expect to be exactly identical (initializing a BertForSequenceClassification model from a BertForSequenceClassification model).\n"
     ]
    }
   ],
   "source": [
    "config = BertConfig.from_pretrained(\"unitary/toxic-bert\")\n",
    "model = transformers.BertModel.from_pretrained('unitary/toxic-bert', config=config)"
   ]
  },
  {
   "cell_type": "markdown",
   "metadata": {},
   "source": [
    "Эмбеддинги модель BERT создаёт батчами. Чтобы хватило оперативной памяти, сделаем размер батча небольшим:\n",
    "- Сделаем цикл по батчам. Отображать прогресс будет функция notebook():"
   ]
  },
  {
   "cell_type": "code",
   "execution_count": 11,
   "metadata": {},
   "outputs": [
    {
     "data": {
      "application/vnd.jupyter.widget-view+json": {
       "model_id": "f80e21b7eee54c3ba96e10e9b499756a",
       "version_major": 2,
       "version_minor": 0
      },
      "text/plain": [
       "  0%|          | 0/200 [00:00<?, ?it/s]"
      ]
     },
     "metadata": {},
     "output_type": "display_data"
    }
   ],
   "source": [
    "batch_size = 5\n",
    "embeddings = []\n",
    "\n",
    "# Переместить данные на устройство CUDA\n",
    "device = torch.device(\"cuda\" if torch.cuda.is_available() else \"cpu\")\n",
    "padded = torch.LongTensor(padded).to(device)\n",
    "attention_mask = torch.LongTensor(attention_mask).to(device)\n",
    "model.to(device)\n",
    "\n",
    "for i in notebook.tqdm(range(padded.shape[0] // batch_size)):\n",
    "    batch = padded[batch_size * i : batch_size * (i + 1)]\n",
    "    attention_mask_batch = attention_mask[batch_size * i : batch_size * (i + 1)]\n",
    "\n",
    "    with torch.no_grad():\n",
    "        batch_embeddings = model(batch, attention_mask=attention_mask_batch)\n",
    "\n",
    "    embeddings.append(batch_embeddings[0][:, 0, :].cpu().numpy())"
   ]
  },
  {
   "cell_type": "markdown",
   "metadata": {},
   "source": [
    "Разобьем данные на обучающую, валидационную и тестовые выборки:"
   ]
  },
  {
   "cell_type": "code",
   "execution_count": 15,
   "metadata": {},
   "outputs": [
    {
     "name": "stdout",
     "output_type": "stream",
     "text": [
      "Размер тренировочной выборки: 80.0 %\n",
      "Размер тестовой выборки: 20.0 %\n"
     ]
    }
   ],
   "source": [
    "features = np.concatenate(embeddings)\n",
    "target = data['toxic']\n",
    "\n",
    "#features_train, feautures_valid, target_train, target_valid  = train_test_split\\\n",
    "#(features, target, test_size=0.4, random_state=256, stratify = target)\n",
    "\n",
    "#features_valid, features_test, target_valid, target_test  = train_test_split\\\n",
    "#(feautures_valid, target_valid, test_size=0.5, random_state=256, stratify = target_test)  \n",
    "\n",
    "features_train, features_test, target_train, target_test  = train_test_split\\\n",
    "(features, target, test_size=0.2, random_state=256, stratify = target)\n",
    "\n",
    "print('Размер тренировочной выборки:', features_train.shape[0]/data.shape[0]*100, '%')\n",
    "#print('Размер валидационной выборки:', features_valid.shape[0]/data.shape[0]*100, '%' )\n",
    "print('Размер тестовой выборки:', features_test.shape[0]/data.shape[0]*100, '%')"
   ]
  },
  {
   "cell_type": "markdown",
   "metadata": {},
   "source": [
    "## Обучение"
   ]
  },
  {
   "cell_type": "markdown",
   "metadata": {},
   "source": [
    "### Логистическая регрессия"
   ]
  },
  {
   "cell_type": "code",
   "execution_count": null,
   "metadata": {},
   "outputs": [],
   "source": [
    "#model = LogisticRegression(random_state=256, solver='lbfgs',class_weight='balanced')\n",
    "#model.fit(features_train, target_train)\n",
    "#predicted_valid = model.predict(features_valid)\n",
    "#print('F1-score:', f1_score(target_valid, predicted_valid))"
   ]
  },
  {
   "cell_type": "markdown",
   "metadata": {},
   "source": [
    "F1-score: 0.5909090909090908"
   ]
  },
  {
   "cell_type": "code",
   "execution_count": 17,
   "metadata": {},
   "outputs": [
    {
     "name": "stdout",
     "output_type": "stream",
     "text": [
      "Лучшие параметры: {'C': 10, 'penalty': 'l2'}\n",
      "Лучшая оценка F1-score: 0.939\n"
     ]
    }
   ],
   "source": [
    "# определение сетки параметров для перебора\n",
    "param_grid = {'C': [0.1, 1, 10, 100], 'penalty': ['l1', 'l2']}\n",
    "\n",
    "# создание модели\n",
    "log_reg = LogisticRegression(random_state=256, class_weight='balanced')\n",
    "scorer = make_scorer(f1_score)\n",
    "# создание объекта GridSearchCV и запуск перебора параметров\n",
    "grid_search = GridSearchCV(log_reg, param_grid=param_grid, cv=5, scoring=scorer)\n",
    "grid_search.fit(features_train, target_train)\n",
    "\n",
    "# вывод наилучших параметров и оценки f1-score \n",
    "print(f'Лучшие параметры: {grid_search.best_params_}')\n",
    "print(f'Лучшая оценка F1-score: {grid_search.best_score_:.3f}') \n",
    "#print('CV results:', grid_search.cv_results_['mean_test_score'])"
   ]
  },
  {
   "cell_type": "markdown",
   "metadata": {},
   "source": [
    "Лучшие параметры: {'C': 10, 'penalty': 'l2'}\n",
    "Лучшая оценка F1-score: 0.939"
   ]
  },
  {
   "cell_type": "markdown",
   "metadata": {},
   "source": [
    "### CatBoost"
   ]
  },
  {
   "cell_type": "code",
   "execution_count": null,
   "metadata": {},
   "outputs": [],
   "source": [
    "#%%time\n",
    "#model = CatBoostClassifier(class_weights=dict(enumerate(class_weights)),eval_metric='F1')\n",
    "#model.fit(features_train, target_train, verbose=500)\n",
    "#predicted_valid = model.predict(features_valid)\n",
    "#print('F1-score:', f1_score(target_valid, predicted_valid))"
   ]
  },
  {
   "cell_type": "markdown",
   "metadata": {},
   "source": [
    "Подберем гиперпараметры для CatBoost"
   ]
  },
  {
   "cell_type": "code",
   "execution_count": 18,
   "metadata": {},
   "outputs": [],
   "source": [
    "# Задаем сетку гиперпараметров\n",
    "param_grid = {\n",
    "    'iterations': [10, 50, 100],\n",
    "    'learning_rate': [0.01, 0.1, 0.5],\n",
    "    'depth': [3, 5, 7],\n",
    "    'l2_leaf_reg': [1, 3, 5]\n",
    "}"
   ]
  },
  {
   "cell_type": "code",
   "execution_count": 19,
   "metadata": {},
   "outputs": [],
   "source": [
    "model = CatBoostClassifier(class_weights=dict(enumerate(class_weights)))\n",
    "\n",
    "grid_search = GridSearchCV(\n",
    "    estimator=model,\n",
    "    param_grid=param_grid,\n",
    "    cv=5,\n",
    "    scoring='f1',\n",
    "    n_jobs=-1\n",
    ")"
   ]
  },
  {
   "cell_type": "code",
   "execution_count": 20,
   "metadata": {},
   "outputs": [
    {
     "name": "stdout",
     "output_type": "stream",
     "text": [
      "0:\tlearn: 0.5379220\ttotal: 160ms\tremaining: 7.85s\n",
      "1:\tlearn: 0.3992281\ttotal: 180ms\tremaining: 4.32s\n",
      "2:\tlearn: 0.3117042\ttotal: 200ms\tremaining: 3.13s\n",
      "3:\tlearn: 0.2564816\ttotal: 220ms\tremaining: 2.52s\n",
      "4:\tlearn: 0.2084423\ttotal: 241ms\tremaining: 2.17s\n",
      "5:\tlearn: 0.1790456\ttotal: 263ms\tremaining: 1.93s\n",
      "6:\tlearn: 0.1531090\ttotal: 284ms\tremaining: 1.74s\n",
      "7:\tlearn: 0.1348920\ttotal: 304ms\tremaining: 1.6s\n",
      "8:\tlearn: 0.1211194\ttotal: 324ms\tremaining: 1.48s\n",
      "9:\tlearn: 0.0974672\ttotal: 345ms\tremaining: 1.38s\n",
      "10:\tlearn: 0.0881559\ttotal: 366ms\tremaining: 1.3s\n",
      "11:\tlearn: 0.0841876\ttotal: 390ms\tremaining: 1.24s\n",
      "12:\tlearn: 0.0790907\ttotal: 415ms\tremaining: 1.18s\n",
      "13:\tlearn: 0.0758945\ttotal: 439ms\tremaining: 1.13s\n",
      "14:\tlearn: 0.0679346\ttotal: 462ms\tremaining: 1.08s\n",
      "15:\tlearn: 0.0659190\ttotal: 486ms\tremaining: 1.03s\n",
      "16:\tlearn: 0.0611006\ttotal: 508ms\tremaining: 987ms\n",
      "17:\tlearn: 0.0571121\ttotal: 531ms\tremaining: 944ms\n",
      "18:\tlearn: 0.0563245\ttotal: 554ms\tremaining: 904ms\n",
      "19:\tlearn: 0.0531428\ttotal: 576ms\tremaining: 864ms\n",
      "20:\tlearn: 0.0501905\ttotal: 599ms\tremaining: 827ms\n",
      "21:\tlearn: 0.0491042\ttotal: 624ms\tremaining: 794ms\n",
      "22:\tlearn: 0.0473405\ttotal: 648ms\tremaining: 761ms\n",
      "23:\tlearn: 0.0465015\ttotal: 671ms\tremaining: 727ms\n",
      "24:\tlearn: 0.0448324\ttotal: 691ms\tremaining: 691ms\n",
      "25:\tlearn: 0.0437953\ttotal: 713ms\tremaining: 658ms\n",
      "26:\tlearn: 0.0430480\ttotal: 734ms\tremaining: 625ms\n",
      "27:\tlearn: 0.0414943\ttotal: 754ms\tremaining: 592ms\n",
      "28:\tlearn: 0.0394390\ttotal: 775ms\tremaining: 561ms\n",
      "29:\tlearn: 0.0387581\ttotal: 794ms\tremaining: 530ms\n",
      "30:\tlearn: 0.0376442\ttotal: 816ms\tremaining: 500ms\n",
      "31:\tlearn: 0.0372312\ttotal: 839ms\tremaining: 472ms\n",
      "32:\tlearn: 0.0351084\ttotal: 861ms\tremaining: 443ms\n",
      "33:\tlearn: 0.0330489\ttotal: 882ms\tremaining: 415ms\n",
      "34:\tlearn: 0.0303729\ttotal: 904ms\tremaining: 387ms\n",
      "35:\tlearn: 0.0291535\ttotal: 925ms\tremaining: 360ms\n",
      "36:\tlearn: 0.0282274\ttotal: 948ms\tremaining: 333ms\n",
      "37:\tlearn: 0.0268575\ttotal: 969ms\tremaining: 306ms\n",
      "38:\tlearn: 0.0258301\ttotal: 989ms\tremaining: 279ms\n",
      "39:\tlearn: 0.0256702\ttotal: 1.01s\tremaining: 253ms\n",
      "40:\tlearn: 0.0255120\ttotal: 1.03s\tremaining: 227ms\n",
      "41:\tlearn: 0.0249266\ttotal: 1.06s\tremaining: 201ms\n",
      "42:\tlearn: 0.0246093\ttotal: 1.08s\tremaining: 176ms\n",
      "43:\tlearn: 0.0243806\ttotal: 1.1s\tremaining: 150ms\n",
      "44:\tlearn: 0.0239544\ttotal: 1.12s\tremaining: 125ms\n",
      "45:\tlearn: 0.0232054\ttotal: 1.14s\tremaining: 99.4ms\n",
      "46:\tlearn: 0.0210752\ttotal: 1.17s\tremaining: 74.4ms\n",
      "47:\tlearn: 0.0208262\ttotal: 1.19s\tremaining: 49.4ms\n",
      "48:\tlearn: 0.0202775\ttotal: 1.21s\tremaining: 24.6ms\n",
      "49:\tlearn: 0.0196890\ttotal: 1.23s\tremaining: 0us\n",
      "Лучшие параметры: {'depth': 3, 'iterations': 50, 'l2_leaf_reg': 1, 'learning_rate': 0.1}\n",
      "Лучшая оценка F1-score: 0.920\n",
      "CV results: [0.86290124 0.89197525 0.87918121 0.86327198 0.8681012  0.89646982\n",
      " 0.85432981 0.8681012  0.87876052 0.88438807 0.91995407 0.88323308\n",
      " 0.88438807 0.89294483 0.8757336  0.87952977 0.90451671 0.8922807\n",
      " 0.88664318 0.91779584 0.87651039 0.88165209 0.89672862 0.88057001\n",
      " 0.88165209 0.88711124 0.88624896 0.87110889 0.89342756 0.89466222\n",
      " 0.85324039 0.88438807 0.88356071 0.84897296 0.87501078 0.89328671\n",
      " 0.89349569 0.91442233 0.8873415  0.88013169 0.91045872 0.88704351\n",
      " 0.87501078 0.89114365 0.90865354 0.90185806 0.90775264 0.89759791\n",
      " 0.89767688 0.91946435 0.88704351 0.89767688 0.90605267 0.90865354\n",
      " 0.89472399 0.88732601 0.89438486 0.87645879 0.89694621 0.90372205\n",
      " 0.86729148 0.88732601 0.8776274  0.88837478 0.91315879 0.894527\n",
      " 0.88351648 0.91632021 0.90372205 0.88351648 0.9042633  0.89839713\n",
      " 0.90159545 0.90830049 0.894527   0.88351648 0.90601882 0.90372205\n",
      " 0.88351648 0.8952457  0.89162351]\n",
      "CPU times: total: 9.97 s\n",
      "Wall time: 30min 6s\n"
     ]
    }
   ],
   "source": [
    "%%time\n",
    "# Обучаем модель с использованием GridSearchCV\n",
    "grid_search.fit(features_train, target_train)\n",
    "\n",
    "# Выводим лучшие гиперпараметры и оценку f1_score\n",
    "print(f'Лучшие параметры: {grid_search.best_params_}')\n",
    "print(f'Лучшая оценка F1-score: {grid_search.best_score_:.3f}') \n",
    "print('CV results:', grid_search.cv_results_['mean_test_score'])"
   ]
  },
  {
   "cell_type": "markdown",
   "metadata": {},
   "source": [
    "Лучшие параметры: {'depth': 3, 'iterations': 50, 'l2_leaf_reg': 1, 'learning_rate': 0.1}\n",
    "Лучшая оценка F1-score: 0.920"
   ]
  },
  {
   "cell_type": "markdown",
   "metadata": {},
   "source": [
    "### Тестирование"
   ]
  },
  {
   "cell_type": "markdown",
   "metadata": {},
   "source": [
    "Лучше всего показала себя логистичекая регрессия с параметрами: Лучшие параметры: {'C': 10, 'penalty': 'l2'}\n",
    "Лучшая оценка F1-score: 0.939"
   ]
  },
  {
   "cell_type": "code",
   "execution_count": 21,
   "metadata": {},
   "outputs": [
    {
     "name": "stdout",
     "output_type": "stream",
     "text": [
      "F1-score: 0.92\n"
     ]
    }
   ],
   "source": [
    "model = LogisticRegression(random_state=256, C= 10, penalty= 'l2', class_weight='balanced')\n",
    "model.fit(features_train, target_train)\n",
    "predicted_test = model.predict(features_test)\n",
    "print('F1-score:', f1_score(target_test, predicted_test))"
   ]
  },
  {
   "cell_type": "markdown",
   "metadata": {},
   "source": [
    "## Выводы"
   ]
  },
  {
   "cell_type": "markdown",
   "metadata": {},
   "source": [
    "F1-score: 0.92 на тестовой выборке была получена с помощью модели линейной регрессии.Был взят сэмпл из 1000 выборок из всего датасета и получены признаки с помощью предобученной модели БЕРТ на определение токсичности."
   ]
  }
 ],
 "metadata": {
  "ExecuteTimeLog": [
   {
    "duration": 1664,
    "start_time": "2023-03-11T14:12:49.658Z"
   },
   {
    "duration": 196,
    "start_time": "2023-03-11T14:12:58.600Z"
   },
   {
    "duration": 46,
    "start_time": "2023-03-11T14:13:07.551Z"
   },
   {
    "duration": 31,
    "start_time": "2023-03-11T14:13:11.824Z"
   },
   {
    "duration": 1791,
    "start_time": "2023-03-11T14:13:37.260Z"
   },
   {
    "duration": 88,
    "start_time": "2023-03-11T14:14:41.020Z"
   },
   {
    "duration": 1505,
    "start_time": "2023-03-11T14:14:43.916Z"
   },
   {
    "duration": 2026,
    "start_time": "2023-03-11T14:14:49.602Z"
   }
  ],
  "kernelspec": {
   "display_name": "Python 3 (ipykernel)",
   "language": "python",
   "name": "python3"
  },
  "language_info": {
   "codemirror_mode": {
    "name": "ipython",
    "version": 3
   },
   "file_extension": ".py",
   "mimetype": "text/x-python",
   "name": "python",
   "nbconvert_exporter": "python",
   "pygments_lexer": "ipython3",
   "version": "3.9.13"
  },
  "toc": {
   "base_numbering": 1,
   "nav_menu": {},
   "number_sections": true,
   "sideBar": true,
   "skip_h1_title": true,
   "title_cell": "Содержание",
   "title_sidebar": "Contents",
   "toc_cell": true,
   "toc_position": {
    "height": "calc(100% - 180px)",
    "left": "10px",
    "top": "150px",
    "width": "302.35px"
   },
   "toc_section_display": true,
   "toc_window_display": true
  }
 },
 "nbformat": 4,
 "nbformat_minor": 2
}
