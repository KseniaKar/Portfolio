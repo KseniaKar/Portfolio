{
 "cells": [
  {
   "cell_type": "markdown",
   "metadata": {},
   "source": [
    "# Исследование закономерностей, определяющих популярность компьютерных игр"
   ]
  },
  {
   "cell_type": "markdown",
   "metadata": {},
   "source": [
    "Интернет-магазин продаёт по всему миру компьютерные игры. Из открытых источников доступны исторические данные о продажах игр, оценки пользователей и экспертов, жанры и платформы (например, Xbox или PlayStation). Нужно выявить определяющие успешность игры закономерности. Это позволит сделать ставку на потенциально популярный продукт и спланировать рекламные кампании."
   ]
  },
  {
   "cell_type": "markdown",
   "metadata": {},
   "source": [
    "## Открываем файл с данными и изучаем общую информацию"
   ]
  },
  {
   "cell_type": "code",
   "execution_count": 43,
   "metadata": {},
   "outputs": [],
   "source": [
    "# импорт библиотек\n",
    "import pandas as pd\n",
    "import numpy as np\n",
    "import seaborn as sns\n",
    "import matplotlib.pyplot as plt\n",
    "\n",
    "from scipy import stats as st\n",
    "\n",
    "import warnings\n",
    "warnings.filterwarnings(\"ignore\")"
   ]
  },
  {
   "cell_type": "code",
   "execution_count": 44,
   "metadata": {},
   "outputs": [
    {
     "data": {
      "text/html": [
       "<div>\n",
       "<style scoped>\n",
       "    .dataframe tbody tr th:only-of-type {\n",
       "        vertical-align: middle;\n",
       "    }\n",
       "\n",
       "    .dataframe tbody tr th {\n",
       "        vertical-align: top;\n",
       "    }\n",
       "\n",
       "    .dataframe thead th {\n",
       "        text-align: right;\n",
       "    }\n",
       "</style>\n",
       "<table border=\"1\" class=\"dataframe\">\n",
       "  <thead>\n",
       "    <tr style=\"text-align: right;\">\n",
       "      <th></th>\n",
       "      <th>Name</th>\n",
       "      <th>Platform</th>\n",
       "      <th>Year_of_Release</th>\n",
       "      <th>Genre</th>\n",
       "      <th>NA_sales</th>\n",
       "      <th>EU_sales</th>\n",
       "      <th>JP_sales</th>\n",
       "      <th>Other_sales</th>\n",
       "      <th>Critic_Score</th>\n",
       "      <th>User_Score</th>\n",
       "      <th>Rating</th>\n",
       "    </tr>\n",
       "  </thead>\n",
       "  <tbody>\n",
       "    <tr>\n",
       "      <th>0</th>\n",
       "      <td>Wii Sports</td>\n",
       "      <td>Wii</td>\n",
       "      <td>2006.0</td>\n",
       "      <td>Sports</td>\n",
       "      <td>41.36</td>\n",
       "      <td>28.96</td>\n",
       "      <td>3.77</td>\n",
       "      <td>8.45</td>\n",
       "      <td>76.0</td>\n",
       "      <td>8</td>\n",
       "      <td>E</td>\n",
       "    </tr>\n",
       "    <tr>\n",
       "      <th>1</th>\n",
       "      <td>Super Mario Bros.</td>\n",
       "      <td>NES</td>\n",
       "      <td>1985.0</td>\n",
       "      <td>Platform</td>\n",
       "      <td>29.08</td>\n",
       "      <td>3.58</td>\n",
       "      <td>6.81</td>\n",
       "      <td>0.77</td>\n",
       "      <td>NaN</td>\n",
       "      <td>NaN</td>\n",
       "      <td>NaN</td>\n",
       "    </tr>\n",
       "    <tr>\n",
       "      <th>2</th>\n",
       "      <td>Mario Kart Wii</td>\n",
       "      <td>Wii</td>\n",
       "      <td>2008.0</td>\n",
       "      <td>Racing</td>\n",
       "      <td>15.68</td>\n",
       "      <td>12.76</td>\n",
       "      <td>3.79</td>\n",
       "      <td>3.29</td>\n",
       "      <td>82.0</td>\n",
       "      <td>8.3</td>\n",
       "      <td>E</td>\n",
       "    </tr>\n",
       "    <tr>\n",
       "      <th>3</th>\n",
       "      <td>Wii Sports Resort</td>\n",
       "      <td>Wii</td>\n",
       "      <td>2009.0</td>\n",
       "      <td>Sports</td>\n",
       "      <td>15.61</td>\n",
       "      <td>10.93</td>\n",
       "      <td>3.28</td>\n",
       "      <td>2.95</td>\n",
       "      <td>80.0</td>\n",
       "      <td>8</td>\n",
       "      <td>E</td>\n",
       "    </tr>\n",
       "    <tr>\n",
       "      <th>4</th>\n",
       "      <td>Pokemon Red/Pokemon Blue</td>\n",
       "      <td>GB</td>\n",
       "      <td>1996.0</td>\n",
       "      <td>Role-Playing</td>\n",
       "      <td>11.27</td>\n",
       "      <td>8.89</td>\n",
       "      <td>10.22</td>\n",
       "      <td>1.00</td>\n",
       "      <td>NaN</td>\n",
       "      <td>NaN</td>\n",
       "      <td>NaN</td>\n",
       "    </tr>\n",
       "    <tr>\n",
       "      <th>5</th>\n",
       "      <td>Tetris</td>\n",
       "      <td>GB</td>\n",
       "      <td>1989.0</td>\n",
       "      <td>Puzzle</td>\n",
       "      <td>23.20</td>\n",
       "      <td>2.26</td>\n",
       "      <td>4.22</td>\n",
       "      <td>0.58</td>\n",
       "      <td>NaN</td>\n",
       "      <td>NaN</td>\n",
       "      <td>NaN</td>\n",
       "    </tr>\n",
       "    <tr>\n",
       "      <th>6</th>\n",
       "      <td>New Super Mario Bros.</td>\n",
       "      <td>DS</td>\n",
       "      <td>2006.0</td>\n",
       "      <td>Platform</td>\n",
       "      <td>11.28</td>\n",
       "      <td>9.14</td>\n",
       "      <td>6.50</td>\n",
       "      <td>2.88</td>\n",
       "      <td>89.0</td>\n",
       "      <td>8.5</td>\n",
       "      <td>E</td>\n",
       "    </tr>\n",
       "    <tr>\n",
       "      <th>7</th>\n",
       "      <td>Wii Play</td>\n",
       "      <td>Wii</td>\n",
       "      <td>2006.0</td>\n",
       "      <td>Misc</td>\n",
       "      <td>13.96</td>\n",
       "      <td>9.18</td>\n",
       "      <td>2.93</td>\n",
       "      <td>2.84</td>\n",
       "      <td>58.0</td>\n",
       "      <td>6.6</td>\n",
       "      <td>E</td>\n",
       "    </tr>\n",
       "    <tr>\n",
       "      <th>8</th>\n",
       "      <td>New Super Mario Bros. Wii</td>\n",
       "      <td>Wii</td>\n",
       "      <td>2009.0</td>\n",
       "      <td>Platform</td>\n",
       "      <td>14.44</td>\n",
       "      <td>6.94</td>\n",
       "      <td>4.70</td>\n",
       "      <td>2.24</td>\n",
       "      <td>87.0</td>\n",
       "      <td>8.4</td>\n",
       "      <td>E</td>\n",
       "    </tr>\n",
       "    <tr>\n",
       "      <th>9</th>\n",
       "      <td>Duck Hunt</td>\n",
       "      <td>NES</td>\n",
       "      <td>1984.0</td>\n",
       "      <td>Shooter</td>\n",
       "      <td>26.93</td>\n",
       "      <td>0.63</td>\n",
       "      <td>0.28</td>\n",
       "      <td>0.47</td>\n",
       "      <td>NaN</td>\n",
       "      <td>NaN</td>\n",
       "      <td>NaN</td>\n",
       "    </tr>\n",
       "  </tbody>\n",
       "</table>\n",
       "</div>"
      ],
      "text/plain": [
       "                        Name Platform  Year_of_Release         Genre  \\\n",
       "0                 Wii Sports      Wii           2006.0        Sports   \n",
       "1          Super Mario Bros.      NES           1985.0      Platform   \n",
       "2             Mario Kart Wii      Wii           2008.0        Racing   \n",
       "3          Wii Sports Resort      Wii           2009.0        Sports   \n",
       "4   Pokemon Red/Pokemon Blue       GB           1996.0  Role-Playing   \n",
       "5                     Tetris       GB           1989.0        Puzzle   \n",
       "6      New Super Mario Bros.       DS           2006.0      Platform   \n",
       "7                   Wii Play      Wii           2006.0          Misc   \n",
       "8  New Super Mario Bros. Wii      Wii           2009.0      Platform   \n",
       "9                  Duck Hunt      NES           1984.0       Shooter   \n",
       "\n",
       "   NA_sales  EU_sales  JP_sales  Other_sales  Critic_Score User_Score Rating  \n",
       "0     41.36     28.96      3.77         8.45          76.0          8      E  \n",
       "1     29.08      3.58      6.81         0.77           NaN        NaN    NaN  \n",
       "2     15.68     12.76      3.79         3.29          82.0        8.3      E  \n",
       "3     15.61     10.93      3.28         2.95          80.0          8      E  \n",
       "4     11.27      8.89     10.22         1.00           NaN        NaN    NaN  \n",
       "5     23.20      2.26      4.22         0.58           NaN        NaN    NaN  \n",
       "6     11.28      9.14      6.50         2.88          89.0        8.5      E  \n",
       "7     13.96      9.18      2.93         2.84          58.0        6.6      E  \n",
       "8     14.44      6.94      4.70         2.24          87.0        8.4      E  \n",
       "9     26.93      0.63      0.28         0.47           NaN        NaN    NaN  "
      ]
     },
     "execution_count": 44,
     "metadata": {},
     "output_type": "execute_result"
    }
   ],
   "source": [
    "pd.set_option('display.max_columns', None)\n",
    "data = pd.read_csv( '/datasets/games.csv')\n",
    "# сохраняем размер изначальный размер данных\n",
    "data_sh = data.shape[0]\n",
    "data.head(10)\n"
   ]
  },
  {
   "cell_type": "code",
   "execution_count": 45,
   "metadata": {},
   "outputs": [
    {
     "name": "stdout",
     "output_type": "stream",
     "text": [
      "<class 'pandas.core.frame.DataFrame'>\n",
      "RangeIndex: 16715 entries, 0 to 16714\n",
      "Data columns (total 11 columns):\n",
      " #   Column           Non-Null Count  Dtype  \n",
      "---  ------           --------------  -----  \n",
      " 0   Name             16713 non-null  object \n",
      " 1   Platform         16715 non-null  object \n",
      " 2   Year_of_Release  16446 non-null  float64\n",
      " 3   Genre            16713 non-null  object \n",
      " 4   NA_sales         16715 non-null  float64\n",
      " 5   EU_sales         16715 non-null  float64\n",
      " 6   JP_sales         16715 non-null  float64\n",
      " 7   Other_sales      16715 non-null  float64\n",
      " 8   Critic_Score     8137 non-null   float64\n",
      " 9   User_Score       10014 non-null  object \n",
      " 10  Rating           9949 non-null   object \n",
      "dtypes: float64(6), object(5)\n",
      "memory usage: 1.4+ MB\n"
     ]
    }
   ],
   "source": [
    "data.info()"
   ]
  },
  {
   "cell_type": "code",
   "execution_count": 46,
   "metadata": {
    "scrolled": true
   },
   "outputs": [
    {
     "name": "stdout",
     "output_type": "stream",
     "text": [
      "Количество дубликатов в данных 0\n"
     ]
    }
   ],
   "source": [
    "print('Количество дубликатов в данных', data.duplicated().sum())"
   ]
  },
  {
   "cell_type": "code",
   "execution_count": 47,
   "metadata": {},
   "outputs": [
    {
     "data": {
      "text/plain": [
       "array([[<AxesSubplot:title={'center':'Year_of_Release'}>,\n",
       "        <AxesSubplot:title={'center':'NA_sales'}>],\n",
       "       [<AxesSubplot:title={'center':'EU_sales'}>,\n",
       "        <AxesSubplot:title={'center':'JP_sales'}>],\n",
       "       [<AxesSubplot:title={'center':'Other_sales'}>,\n",
       "        <AxesSubplot:title={'center':'Critic_Score'}>]], dtype=object)"
      ]
     },
     "execution_count": 47,
     "metadata": {},
     "output_type": "execute_result"
    },
    {
     "data": {
      "image/png": "[encoded data removed]",
      "text/plain": [
       "<Figure size 1080x1440 with 6 Axes>"
      ]
     },
     "metadata": {
      "needs_background": "light"
     },
     "output_type": "display_data"
    }
   ],
   "source": [
    "data.hist(figsize=(15, 20))"
   ]
  },
  {
   "cell_type": "markdown",
   "metadata": {},
   "source": [
    "### Итоги ознакомления с данными"
   ]
  },
  {
   "cell_type": "markdown",
   "metadata": {},
   "source": [
    " - Тип данных стоблца `Year_of_Release` - float, нужно заменить на int.\n",
    " - Тип данных столбца `User_Score` - object, нужно заменить на float.\n",
    " - Тип данных столбца `Critic_Score` - float, нужно заменить на int.\n",
    " - Видно, что больше всего пропусков в столбцах `Critic_Score,  User_Score, Rating`.\n",
    " - Явных дубликатов в данных нет.\n",
    " - Данные о продажах имеют явные выбросы из общей статистики.\n"
   ]
  },
  {
   "cell_type": "markdown",
   "metadata": {},
   "source": [
    "## Подгодотвка данных"
   ]
  },
  {
   "cell_type": "markdown",
   "metadata": {},
   "source": [
    "###  Приводим названия столбцов к нижнему регистру"
   ]
  },
  {
   "cell_type": "code",
   "execution_count": 48,
   "metadata": {},
   "outputs": [],
   "source": [
    "data.columns = data.columns.str.lower()\n"
   ]
  },
  {
   "cell_type": "markdown",
   "metadata": {},
   "source": [
    "### Обрабатываем пропущенные значения и приводим столбцы к нужному типу"
   ]
  },
  {
   "cell_type": "code",
   "execution_count": 49,
   "metadata": {},
   "outputs": [
    {
     "data": {
      "text/plain": [
       "name                  2\n",
       "platform              0\n",
       "year_of_release     269\n",
       "genre                 2\n",
       "na_sales              0\n",
       "eu_sales              0\n",
       "jp_sales              0\n",
       "other_sales           0\n",
       "critic_score       8578\n",
       "user_score         6701\n",
       "rating             6766\n",
       "dtype: int64"
      ]
     },
     "execution_count": 49,
     "metadata": {},
     "output_type": "execute_result"
    }
   ],
   "source": [
    "# выводим количество пропущенных значений каждого стобца\n",
    "data.isna().sum()"
   ]
  },
  {
   "cell_type": "markdown",
   "metadata": {},
   "source": [
    "- Пропущенных значений стобца `year_of_release` не так много (1.6 % количества строк датасета), их можно просто удалить.\n",
    "- Также как и 2 пропуска в столбцах `name`,`genre`\n",
    "- Столбцы `critic_score, user_score, rating`, наоброт, имеют большое количество пропусков, их просто удалить нельзя."
   ]
  },
  {
   "cell_type": "markdown",
   "metadata": {},
   "source": [
    "#### Обработка столбцов `year_of_release`, `name`, `genre`"
   ]
  },
  {
   "cell_type": "code",
   "execution_count": 50,
   "metadata": {},
   "outputs": [],
   "source": [
    "# удаляем строки с пропусками в столбцах year_of_release, name, genre\n",
    "data = data.dropna(subset=['year_of_release', 'name', 'genre']) \n",
    "# год выпуска должен иметь целочисленный тип\n",
    "data['year_of_release'] = data['year_of_release'].astype('int')"
   ]
  },
  {
   "cell_type": "markdown",
   "metadata": {},
   "source": [
    "#### Обработка столбца `user_score`"
   ]
  },
  {
   "cell_type": "code",
   "execution_count": 52,
   "metadata": {},
   "outputs": [
    {
     "name": "stdout",
     "output_type": "stream",
     "text": [
      "<class 'pandas.core.frame.DataFrame'>\n",
      "Int64Index: 16444 entries, 0 to 16714\n",
      "Data columns (total 11 columns):\n",
      " #   Column           Non-Null Count  Dtype  \n",
      "---  ------           --------------  -----  \n",
      " 0   name             16444 non-null  object \n",
      " 1   platform         16444 non-null  object \n",
      " 2   year_of_release  16444 non-null  int64  \n",
      " 3   genre            16444 non-null  object \n",
      " 4   na_sales         16444 non-null  float64\n",
      " 5   eu_sales         16444 non-null  float64\n",
      " 6   jp_sales         16444 non-null  float64\n",
      " 7   other_sales      16444 non-null  float64\n",
      " 8   critic_score     7983 non-null   float64\n",
      " 9   user_score       9839 non-null   object \n",
      " 10  rating           9768 non-null   object \n",
      "dtypes: float64(5), int64(1), object(5)\n",
      "memory usage: 1.5+ MB\n"
     ]
    }
   ],
   "source": [
    "data.info()"
   ]
  },
  {
   "cell_type": "code",
   "execution_count": 53,
   "metadata": {},
   "outputs": [],
   "source": [
    "# много значений tbd - to be determined, в 'user_score'. \n",
    "# заменим их на NaN\n",
    "\n",
    "data.loc[data['user_score']=='tbd','user_score'] = 'NaN'\n",
    "\n",
    "#приводим user_score к типу данных float\n",
    "data['user_score'] = data['user_score'].astype('float64')"
   ]
  },
  {
   "cell_type": "markdown",
   "metadata": {},
   "source": [
    "#### Обработка столбца `rating`"
   ]
  },
  {
   "cell_type": "code",
   "execution_count": 54,
   "metadata": {},
   "outputs": [],
   "source": [
    "# заменим NaN на 'unknown'\n",
    "data['rating'] = data['rating'].fillna('unknown')"
   ]
  },
  {
   "cell_type": "markdown",
   "metadata": {},
   "source": [
    "*Заменили NaN столбца `rating` на 'unknown', \n",
    "потому что пропущенных значений много и в анализе нужно отобразить, если rating будет неопределен*"
   ]
  },
  {
   "cell_type": "markdown",
   "metadata": {},
   "source": [
    "### Суммарные продажи во всех регионах"
   ]
  },
  {
   "cell_type": "code",
   "execution_count": 55,
   "metadata": {},
   "outputs": [],
   "source": [
    "# создаем новый столбец с суммарными продажами по регионам\n",
    "\n",
    "data['all_sales'] = data[['na_sales','eu_sales','jp_sales', 'other_sales']].sum(axis = 1)"
   ]
  },
  {
   "cell_type": "markdown",
   "metadata": {},
   "source": [
    "### Итоги предобработки данных"
   ]
  },
  {
   "cell_type": "markdown",
   "metadata": {},
   "source": [
    " - привели названия столбцов к нижнему регистру\n",
    " - там, где пропусков мало: `year_of_release`, `name`, `genre` удалили данные\n",
    " - заменили `year_of_release` на целочисленный тип данных, `user_score` к типу float\n",
    " - значение tbd столбца `user_score` заменили на NaN\n",
    " - NaN в столбце `rating` заменили на 'unknown'"
   ]
  },
  {
   "cell_type": "code",
   "execution_count": 56,
   "metadata": {},
   "outputs": [
    {
     "name": "stdout",
     "output_type": "stream",
     "text": [
      "Количество сохраненных данных: 98.37870176488184 %\n"
     ]
    }
   ],
   "source": [
    "print('Количество сохраненных данных:',data.shape[0] / data_sh*100, '%')"
   ]
  },
  {
   "cell_type": "markdown",
   "metadata": {},
   "source": [
    "## Исследовательский анализ данных"
   ]
  },
  {
   "cell_type": "markdown",
   "metadata": {},
   "source": [
    "### Количество выпускаемых игр в разные годы"
   ]
  },
  {
   "cell_type": "code",
   "execution_count": 57,
   "metadata": {},
   "outputs": [
    {
     "data": {
      "text/plain": [
       "<AxesSubplot:title={'center':'Количество выпускаемых игр в разные годы'}, xlabel='Год релиза', ylabel='Количнство выпущенных игр'>"
      ]
     },
     "execution_count": 57,
     "metadata": {},
     "output_type": "execute_result"
    },
    {
     "data": {
      "image/png": "[encoded data removed]",
      "text/plain": [
       "<Figure size 864x576 with 1 Axes>"
      ]
     },
     "metadata": {
      "needs_background": "light"
     },
     "output_type": "display_data"
    }
   ],
   "source": [
    "data.groupby('year_of_release').agg(count=('name', 'count'))\\\n",
    ".plot(kind = 'line', title = 'Количество выпускаемых игр в разные годы', figsize = (12,8),\\\n",
    "     style = 'o-',grid = True, xlabel = 'Год релиза', ylabel = 'Количнство выпущенных игр',\\\n",
    "      fontsize = 'xx-large') "
   ]
  },
  {
   "cell_type": "markdown",
   "metadata": {},
   "source": [
    "*Меньше всего игр было с 1994-2000, после восходящий тренд, больше всего игр выпустилось в 2008-2009 годах, после количество выпускаемых игр идет на спад*\n"
   ]
  },
  {
   "cell_type": "markdown",
   "metadata": {},
   "source": [
    " ### Динамика продаж по платформам"
   ]
  },
  {
   "cell_type": "code",
   "execution_count": 58,
   "metadata": {},
   "outputs": [
    {
     "data": {
      "text/html": [
       "<div>\n",
       "<style scoped>\n",
       "    .dataframe tbody tr th:only-of-type {\n",
       "        vertical-align: middle;\n",
       "    }\n",
       "\n",
       "    .dataframe tbody tr th {\n",
       "        vertical-align: top;\n",
       "    }\n",
       "\n",
       "    .dataframe thead th {\n",
       "        text-align: right;\n",
       "    }\n",
       "</style>\n",
       "<table border=\"1\" class=\"dataframe\">\n",
       "  <thead>\n",
       "    <tr style=\"text-align: right;\">\n",
       "      <th></th>\n",
       "      <th>sales</th>\n",
       "    </tr>\n",
       "    <tr>\n",
       "      <th>platform</th>\n",
       "      <th></th>\n",
       "    </tr>\n",
       "  </thead>\n",
       "  <tbody>\n",
       "    <tr>\n",
       "      <th>PS2</th>\n",
       "      <td>1233.56</td>\n",
       "    </tr>\n",
       "    <tr>\n",
       "      <th>X360</th>\n",
       "      <td>961.24</td>\n",
       "    </tr>\n",
       "    <tr>\n",
       "      <th>PS3</th>\n",
       "      <td>931.34</td>\n",
       "    </tr>\n",
       "    <tr>\n",
       "      <th>Wii</th>\n",
       "      <td>891.18</td>\n",
       "    </tr>\n",
       "    <tr>\n",
       "      <th>DS</th>\n",
       "      <td>802.78</td>\n",
       "    </tr>\n",
       "    <tr>\n",
       "      <th>PS</th>\n",
       "      <td>727.58</td>\n",
       "    </tr>\n",
       "    <tr>\n",
       "      <th>PS4</th>\n",
       "      <td>314.14</td>\n",
       "    </tr>\n",
       "    <tr>\n",
       "      <th>GBA</th>\n",
       "      <td>312.88</td>\n",
       "    </tr>\n",
       "    <tr>\n",
       "      <th>PSP</th>\n",
       "      <td>289.53</td>\n",
       "    </tr>\n",
       "    <tr>\n",
       "      <th>3DS</th>\n",
       "      <td>257.81</td>\n",
       "    </tr>\n",
       "  </tbody>\n",
       "</table>\n",
       "</div>"
      ],
      "text/plain": [
       "            sales\n",
       "platform         \n",
       "PS2       1233.56\n",
       "X360       961.24\n",
       "PS3        931.34\n",
       "Wii        891.18\n",
       "DS         802.78\n",
       "PS         727.58\n",
       "PS4        314.14\n",
       "GBA        312.88\n",
       "PSP        289.53\n",
       "3DS        257.81"
      ]
     },
     "execution_count": 58,
     "metadata": {},
     "output_type": "execute_result"
    }
   ],
   "source": [
    "# сгруппируем данные по платформам, найдем среднее количество суммарных продаж, выберем 10 лучших\n",
    "data_grouped = data.groupby(['platform'])\\\n",
    ".agg(sales=('all_sales', 'sum'))\\\n",
    ".sort_values(by = 'sales', ascending = False)\\\n",
    ".head(10)\n",
    "\n",
    "data_grouped"
   ]
  },
  {
   "cell_type": "markdown",
   "metadata": {},
   "source": [
    "*Больше всего продаж на платформах PS2, X360, PS3, Wii и DS*"
   ]
  },
  {
   "cell_type": "code",
   "execution_count": 59,
   "metadata": {},
   "outputs": [
    {
     "data": {
      "text/plain": [
       "<AxesSubplot:title={'center':'Динамика цен по годам. Топ 10 платформ'}, xlabel='Год релиза', ylabel='Суммарные продажи'>"
      ]
     },
     "execution_count": 59,
     "metadata": {},
     "output_type": "execute_result"
    },
    {
     "data": {
      "image/png": "[encoded data removed]",
      "text/plain": [
       "<Figure size 864x576 with 1 Axes>"
      ]
     },
     "metadata": {
      "needs_background": "light"
     },
     "output_type": "display_data"
    }
   ],
   "source": [
    "top_platform = data_grouped.index\n",
    "\n",
    "# оставим данные по самым популярным платформам, сгруппируем по году и платформе, построим график\n",
    "\n",
    "data.query('platform in @top_platform')\\\n",
    ".pivot_table(index = 'year_of_release', columns = 'platform', values = 'all_sales', aggfunc = 'sum')\\\n",
    ".plot(kind = 'line', title = 'Динамика цен по годам. Топ 10 платформ', figsize = (12,8),\\\n",
    "     style = 'o-',grid = True, xlabel = 'Год релиза', ylabel = 'Суммарные продажи',\\\n",
    "      fontsize = 'xx-large') "
   ]
  },
  {
   "cell_type": "markdown",
   "metadata": {},
   "source": [
    "- На платформе PS2 пик продаж достигался в 2004 году, после идёт резкий спад\n",
    "- На платформе X360 пик продаж достигался в 2010 году, после идёт резкий спад\n",
    "- На платформе Wii пик продаж достигался в 2009 году, а на платформе PS3 в 2011\n",
    "- На платформе DS пик продаж достигался в 2007-2008 годах\n",
    "- PS были популярны до 2000 года, после появилось PS2 и стала лидировать по продажам\n",
    "- С 2006-2007 года PS2 обогнали Wii, DS, X360 и PS3\n",
    "- C 2014 года самой популярной является PS4\n",
    "- Характерный срок жизни платформ топ-10: 7-10 лет \n",
    "- Будем считать актуальными данные с 2014 года"
   ]
  },
  {
   "cell_type": "code",
   "execution_count": 60,
   "metadata": {},
   "outputs": [],
   "source": [
    "data = data.query('year_of_release >= 2014')"
   ]
  },
  {
   "cell_type": "code",
   "execution_count": 61,
   "metadata": {
    "scrolled": true
   },
   "outputs": [
    {
     "data": {
      "text/html": [
       "<div>\n",
       "<style scoped>\n",
       "    .dataframe tbody tr th:only-of-type {\n",
       "        vertical-align: middle;\n",
       "    }\n",
       "\n",
       "    .dataframe tbody tr th {\n",
       "        vertical-align: top;\n",
       "    }\n",
       "\n",
       "    .dataframe thead th {\n",
       "        text-align: right;\n",
       "    }\n",
       "</style>\n",
       "<table border=\"1\" class=\"dataframe\">\n",
       "  <thead>\n",
       "    <tr style=\"text-align: right;\">\n",
       "      <th></th>\n",
       "      <th>sales</th>\n",
       "    </tr>\n",
       "    <tr>\n",
       "      <th>platform</th>\n",
       "      <th></th>\n",
       "    </tr>\n",
       "  </thead>\n",
       "  <tbody>\n",
       "    <tr>\n",
       "      <th>PS4</th>\n",
       "      <td>288.15</td>\n",
       "    </tr>\n",
       "    <tr>\n",
       "      <th>XOne</th>\n",
       "      <td>140.36</td>\n",
       "    </tr>\n",
       "    <tr>\n",
       "      <th>3DS</th>\n",
       "      <td>86.68</td>\n",
       "    </tr>\n",
       "    <tr>\n",
       "      <th>PS3</th>\n",
       "      <td>68.18</td>\n",
       "    </tr>\n",
       "    <tr>\n",
       "      <th>X360</th>\n",
       "      <td>48.22</td>\n",
       "    </tr>\n",
       "    <tr>\n",
       "      <th>WiiU</th>\n",
       "      <td>42.98</td>\n",
       "    </tr>\n",
       "    <tr>\n",
       "      <th>PC</th>\n",
       "      <td>27.05</td>\n",
       "    </tr>\n",
       "    <tr>\n",
       "      <th>PSV</th>\n",
       "      <td>22.40</td>\n",
       "    </tr>\n",
       "    <tr>\n",
       "      <th>Wii</th>\n",
       "      <td>5.07</td>\n",
       "    </tr>\n",
       "    <tr>\n",
       "      <th>PSP</th>\n",
       "      <td>0.36</td>\n",
       "    </tr>\n",
       "  </tbody>\n",
       "</table>\n",
       "</div>"
      ],
      "text/plain": [
       "           sales\n",
       "platform        \n",
       "PS4       288.15\n",
       "XOne      140.36\n",
       "3DS        86.68\n",
       "PS3        68.18\n",
       "X360       48.22\n",
       "WiiU       42.98\n",
       "PC         27.05\n",
       "PSV        22.40\n",
       "Wii         5.07\n",
       "PSP         0.36"
      ]
     },
     "execution_count": 61,
     "metadata": {},
     "output_type": "execute_result"
    }
   ],
   "source": [
    "data_grouped_last = data.groupby(['platform'])\\\n",
    ".agg(sales=('all_sales', 'sum'))\\\n",
    ".sort_values(by = 'sales', ascending = False)\\\n",
    ".head(10)\n",
    "\n",
    "data_grouped_last"
   ]
  },
  {
   "cell_type": "code",
   "execution_count": 62,
   "metadata": {},
   "outputs": [
    {
     "data": {
      "text/plain": [
       "<AxesSubplot:title={'center':'Динамика цен по годам. Топ 10 платформ за последние 3 года'}, xlabel='Год релиза', ylabel='Суммарные продажи'>"
      ]
     },
     "execution_count": 62,
     "metadata": {},
     "output_type": "execute_result"
    },
    {
     "data": {
      "image/png": "[encoded data removed]",
      "text/plain": [
       "<Figure size 864x432 with 1 Axes>"
      ]
     },
     "metadata": {
      "needs_background": "light"
     },
     "output_type": "display_data"
    }
   ],
   "source": [
    "top_platform_last = data_grouped_last.index\n",
    "\n",
    "# оставим данные по самым популярным платформам, сгруппируем по году и платформе, построим график\n",
    "\n",
    "data.query('platform in @top_platform_last')\\\n",
    ".pivot_table(index = 'year_of_release', columns = 'platform', values = 'all_sales', aggfunc = 'sum')\\\n",
    ".plot(kind = 'line', title = 'Динамика цен по годам. Топ 10 платформ за последние 3 года', figsize = (12,6),\\\n",
    "     style = 'o-',grid = True, xlabel = 'Год релиза', ylabel = 'Суммарные продажи',\\\n",
    "      fontsize = 'xx-large') "
   ]
  },
  {
   "cell_type": "markdown",
   "metadata": {},
   "source": [
    " *Потенциально прибылиные платформы: PS4 и XOne,\n",
    " они появились относительно недавно и являюся самыми популярными на 2016 год.\n",
    " При этом PS4 лидирут*"
   ]
  },
  {
   "cell_type": "code",
   "execution_count": 63,
   "metadata": {},
   "outputs": [
    {
     "data": {
      "text/plain": [
       "Text(0.5, 1.0, 'boxplot for the best')"
      ]
     },
     "execution_count": 63,
     "metadata": {},
     "output_type": "execute_result"
    },
    {
     "data": {
      "image/png": "[encoded data removed]",
      "text/plain": [
       "<Figure size 720x720 with 1 Axes>"
      ]
     },
     "metadata": {
      "needs_background": "light"
     },
     "output_type": "display_data"
    }
   ],
   "source": [
    "plt.figure(figsize=(10,10))\n",
    "box = sns.boxplot(x=\"platform\", y=\"all_sales\", \\\n",
    "            data = data.query('platform == \"PS4\" or platform == \"XOne\"'))\n",
    "\n",
    "box.set_title('boxplot for the best')\n"
   ]
  },
  {
   "cell_type": "markdown",
   "metadata": {},
   "source": [
    "*Видно, что в данных по этим платформам есть большие выбросы, которые дают вклад в суммарные продажи. Построим данный график без выросов*"
   ]
  },
  {
   "cell_type": "code",
   "execution_count": 64,
   "metadata": {},
   "outputs": [
    {
     "data": {
      "text/plain": [
       "(-0.5, 1.5, 0.0, 1.6)"
      ]
     },
     "execution_count": 64,
     "metadata": {},
     "output_type": "execute_result"
    },
    {
     "data": {
      "image/png": "[encoded data removed]",
      "text/plain": [
       "<Figure size 720x720 with 1 Axes>"
      ]
     },
     "metadata": {
      "needs_background": "light"
     },
     "output_type": "display_data"
    }
   ],
   "source": [
    "plt.figure(figsize=(10,10))\n",
    "box = sns.boxplot(x=\"platform\", y=\"all_sales\", \\\n",
    "            data = data.query('platform == \"PS4\" or platform == \"XOne\"'))\n",
    "\n",
    "box.set_title('boxplot for the best')\n",
    "box.axis(ymin=0,ymax=1.6)\n"
   ]
  },
  {
   "cell_type": "markdown",
   "metadata": {},
   "source": [
    "*Медианные значения примерно на одном уровне, также как и межквартильный размах*"
   ]
  },
  {
   "cell_type": "markdown",
   "metadata": {},
   "source": [
    "### Влияние на продажи  отзывов пользователей и критиков."
   ]
  },
  {
   "cell_type": "code",
   "execution_count": 65,
   "metadata": {},
   "outputs": [
    {
     "data": {
      "text/plain": [
       "Text(0.5, 1.0, 'Диаграмма рассеяния: оценки пользователей и суммарные продажи')"
      ]
     },
     "execution_count": 65,
     "metadata": {},
     "output_type": "execute_result"
    },
    {
     "data": {
      "image/png": "[encoded data removed]",
      "text/plain": [
       "<Figure size 864x576 with 1 Axes>"
      ]
     },
     "metadata": {
      "needs_background": "light"
     },
     "output_type": "display_data"
    }
   ],
   "source": [
    "# рассмотрим одну популярную платформу: PS4\n",
    "# построим диаграмму рессеяния оценки пользователей и суммарные продажи\n",
    "\n",
    "plt.figure(figsize=(12,8))\n",
    "diag = sns.scatterplot(x='user_score', y='all_sales', data = data.query('platform == \"PS4\"'))\n",
    "diag.set_title('Диаграмма рассеяния: оценки пользователей и суммарные продажи')"
   ]
  },
  {
   "cell_type": "code",
   "execution_count": 66,
   "metadata": {},
   "outputs": [
    {
     "name": "stdout",
     "output_type": "stream",
     "text": [
      "Кэффициент корреляции между отзывами пользователей и суммарными продажами: -0.040131589472697356\n"
     ]
    }
   ],
   "source": [
    "#посчитаем коэффициент корреляции\n",
    "\n",
    "print('Кэффициент корреляции между отзывами пользователей и суммарными продажами:', \\\n",
    "      data.query('platform == \"PS4\"')['user_score'].corr(data.query('platform == \"PS4\"')['all_sales']))"
   ]
  },
  {
   "cell_type": "markdown",
   "metadata": {},
   "source": [
    "*По диаграмме рассеяния видно, что суммарные продажи всё же растут с оцеками пользователей, хоть и есть игры с низким рейтингом и высокими продажами. Коэффициент корреляции при этом низкий, но по графику видно, что связь не линейная.*"
   ]
  },
  {
   "cell_type": "code",
   "execution_count": 67,
   "metadata": {},
   "outputs": [
    {
     "data": {
      "text/plain": [
       "Text(0.5, 1.0, 'Диаграмма рассеяния: оценки критиков и суммарные продажи')"
      ]
     },
     "execution_count": 67,
     "metadata": {},
     "output_type": "execute_result"
    },
    {
     "data": {
      "image/png": "[encoded data removed]",
      "text/plain": [
       "<Figure size 864x576 with 1 Axes>"
      ]
     },
     "metadata": {
      "needs_background": "light"
     },
     "output_type": "display_data"
    }
   ],
   "source": [
    "# рассмотрим одну популярную платформу: PS4\n",
    "# построим диаграмму рессеяния оценки критиков и суммарные продажи\n",
    "\n",
    "plt.figure(figsize=(12,8))\n",
    "diag = sns.scatterplot(x='critic_score', y='all_sales', data = data.query('platform == \"PS4\"'))\n",
    "diag.set_title('Диаграмма рассеяния: оценки критиков и суммарные продажи')"
   ]
  },
  {
   "cell_type": "code",
   "execution_count": 68,
   "metadata": {},
   "outputs": [
    {
     "name": "stdout",
     "output_type": "stream",
     "text": [
      "Кэффициент корреляции между отзывами критиков и суммарными продажами: 0.40266141068104083\n"
     ]
    }
   ],
   "source": [
    "#посчитаем коэффициент корреляции\n",
    "\n",
    "print('Кэффициент корреляции между отзывами критиков и суммарными продажами:', \\\n",
    "      data.query('platform == \"PS4\"')['critic_score'].corr(data.query('platform == \"PS4\"')['all_sales']))\n"
   ]
  },
  {
   "cell_type": "markdown",
   "metadata": {},
   "source": [
    "*По диаграмме рассеяния видно, что суммарные продажи растут с оцеками критиков. \n",
    "Коэффициент корреляции при этом 0.4*"
   ]
  },
  {
   "cell_type": "code",
   "execution_count": 69,
   "metadata": {},
   "outputs": [
    {
     "data": {
      "text/html": [
       "<div>\n",
       "<style scoped>\n",
       "    .dataframe tbody tr th:only-of-type {\n",
       "        vertical-align: middle;\n",
       "    }\n",
       "\n",
       "    .dataframe tbody tr th {\n",
       "        vertical-align: top;\n",
       "    }\n",
       "\n",
       "    .dataframe thead th {\n",
       "        text-align: right;\n",
       "    }\n",
       "</style>\n",
       "<table border=\"1\" class=\"dataframe\">\n",
       "  <thead>\n",
       "    <tr style=\"text-align: right;\">\n",
       "      <th></th>\n",
       "      <th>all_sales</th>\n",
       "    </tr>\n",
       "    <tr>\n",
       "      <th>genre</th>\n",
       "      <th></th>\n",
       "    </tr>\n",
       "  </thead>\n",
       "  <tbody>\n",
       "    <tr>\n",
       "      <th>Shooter</th>\n",
       "      <td>0.515</td>\n",
       "    </tr>\n",
       "    <tr>\n",
       "      <th>Sports</th>\n",
       "      <td>0.180</td>\n",
       "    </tr>\n",
       "    <tr>\n",
       "      <th>Platform</th>\n",
       "      <td>0.140</td>\n",
       "    </tr>\n",
       "    <tr>\n",
       "      <th>Fighting</th>\n",
       "      <td>0.125</td>\n",
       "    </tr>\n",
       "    <tr>\n",
       "      <th>Role-Playing</th>\n",
       "      <td>0.110</td>\n",
       "    </tr>\n",
       "    <tr>\n",
       "      <th>Simulation</th>\n",
       "      <td>0.100</td>\n",
       "    </tr>\n",
       "    <tr>\n",
       "      <th>Action</th>\n",
       "      <td>0.090</td>\n",
       "    </tr>\n",
       "    <tr>\n",
       "      <th>Misc</th>\n",
       "      <td>0.090</td>\n",
       "    </tr>\n",
       "    <tr>\n",
       "      <th>Racing</th>\n",
       "      <td>0.090</td>\n",
       "    </tr>\n",
       "    <tr>\n",
       "      <th>Strategy</th>\n",
       "      <td>0.060</td>\n",
       "    </tr>\n",
       "    <tr>\n",
       "      <th>Puzzle</th>\n",
       "      <td>0.045</td>\n",
       "    </tr>\n",
       "    <tr>\n",
       "      <th>Adventure</th>\n",
       "      <td>0.030</td>\n",
       "    </tr>\n",
       "  </tbody>\n",
       "</table>\n",
       "</div>"
      ],
      "text/plain": [
       "              all_sales\n",
       "genre                  \n",
       "Shooter           0.515\n",
       "Sports            0.180\n",
       "Platform          0.140\n",
       "Fighting          0.125\n",
       "Role-Playing      0.110\n",
       "Simulation        0.100\n",
       "Action            0.090\n",
       "Misc              0.090\n",
       "Racing            0.090\n",
       "Strategy          0.060\n",
       "Puzzle            0.045\n",
       "Adventure         0.030"
      ]
     },
     "execution_count": 69,
     "metadata": {},
     "output_type": "execute_result"
    }
   ],
   "source": [
    "# построим сводную таблицу для каждого жанра по медиане суммарных продаж, чтобы избежать влияние выбросов\n",
    "data.pivot_table(index = 'genre', values = 'all_sales', aggfunc = 'median')\\\n",
    ".sort_values(by = 'all_sales',ascending = False)"
   ]
  },
  {
   "cell_type": "markdown",
   "metadata": {},
   "source": [
    "*Самыми прибылиными являются жанры: Shooter, Sports, Platform, Fighting и Role-Playing*"
   ]
  },
  {
   "cell_type": "code",
   "execution_count": 70,
   "metadata": {},
   "outputs": [
    {
     "data": {
      "text/html": [
       "<div>\n",
       "<style scoped>\n",
       "    .dataframe tbody tr th:only-of-type {\n",
       "        vertical-align: middle;\n",
       "    }\n",
       "\n",
       "    .dataframe tbody tr th {\n",
       "        vertical-align: top;\n",
       "    }\n",
       "\n",
       "    .dataframe thead th {\n",
       "        text-align: right;\n",
       "    }\n",
       "</style>\n",
       "<table border=\"1\" class=\"dataframe\">\n",
       "  <thead>\n",
       "    <tr style=\"text-align: right;\">\n",
       "      <th></th>\n",
       "      <th>all_sales</th>\n",
       "    </tr>\n",
       "    <tr>\n",
       "      <th>genre</th>\n",
       "      <th></th>\n",
       "    </tr>\n",
       "  </thead>\n",
       "  <tbody>\n",
       "    <tr>\n",
       "      <th>Adventure</th>\n",
       "      <td>0.030</td>\n",
       "    </tr>\n",
       "    <tr>\n",
       "      <th>Puzzle</th>\n",
       "      <td>0.045</td>\n",
       "    </tr>\n",
       "    <tr>\n",
       "      <th>Strategy</th>\n",
       "      <td>0.060</td>\n",
       "    </tr>\n",
       "    <tr>\n",
       "      <th>Action</th>\n",
       "      <td>0.090</td>\n",
       "    </tr>\n",
       "    <tr>\n",
       "      <th>Misc</th>\n",
       "      <td>0.090</td>\n",
       "    </tr>\n",
       "  </tbody>\n",
       "</table>\n",
       "</div>"
      ],
      "text/plain": [
       "           all_sales\n",
       "genre               \n",
       "Adventure      0.030\n",
       "Puzzle         0.045\n",
       "Strategy       0.060\n",
       "Action         0.090\n",
       "Misc           0.090"
      ]
     },
     "execution_count": 70,
     "metadata": {},
     "output_type": "execute_result"
    }
   ],
   "source": [
    "# построим сводную таблицу для каждого жанра по суммарным продажам\n",
    "data.pivot_table(index = 'genre', values = 'all_sales', aggfunc = 'median')\\\n",
    ".sort_values(by = 'all_sales').head()\n"
   ]
  },
  {
   "cell_type": "markdown",
   "metadata": {},
   "source": [
    "*Самыми низкоприбылиные жанры: Strategy, Puzzle, Adventure*"
   ]
  },
  {
   "cell_type": "markdown",
   "metadata": {},
   "source": [
    "## Портрет пользователя каждого региона"
   ]
  },
  {
   "cell_type": "markdown",
   "metadata": {},
   "source": [
    "### Самые популярные платформы (топ-5)"
   ]
  },
  {
   "cell_type": "code",
   "execution_count": 71,
   "metadata": {},
   "outputs": [
    {
     "data": {
      "text/html": [
       "<div>\n",
       "<style scoped>\n",
       "    .dataframe tbody tr th:only-of-type {\n",
       "        vertical-align: middle;\n",
       "    }\n",
       "\n",
       "    .dataframe tbody tr th {\n",
       "        vertical-align: top;\n",
       "    }\n",
       "\n",
       "    .dataframe thead th {\n",
       "        text-align: right;\n",
       "    }\n",
       "</style>\n",
       "<table border=\"1\" class=\"dataframe\">\n",
       "  <thead>\n",
       "    <tr style=\"text-align: right;\">\n",
       "      <th></th>\n",
       "      <th>sales</th>\n",
       "    </tr>\n",
       "    <tr>\n",
       "      <th>platform</th>\n",
       "      <th></th>\n",
       "    </tr>\n",
       "  </thead>\n",
       "  <tbody>\n",
       "    <tr>\n",
       "      <th>PS4</th>\n",
       "      <td>98.61</td>\n",
       "    </tr>\n",
       "    <tr>\n",
       "      <th>XOne</th>\n",
       "      <td>81.27</td>\n",
       "    </tr>\n",
       "    <tr>\n",
       "      <th>X360</th>\n",
       "      <td>28.30</td>\n",
       "    </tr>\n",
       "    <tr>\n",
       "      <th>3DS</th>\n",
       "      <td>22.64</td>\n",
       "    </tr>\n",
       "    <tr>\n",
       "      <th>PS3</th>\n",
       "      <td>22.05</td>\n",
       "    </tr>\n",
       "  </tbody>\n",
       "</table>\n",
       "</div>"
      ],
      "text/plain": [
       "          sales\n",
       "platform       \n",
       "PS4       98.61\n",
       "XOne      81.27\n",
       "X360      28.30\n",
       "3DS       22.64\n",
       "PS3       22.05"
      ]
     },
     "execution_count": 71,
     "metadata": {},
     "output_type": "execute_result"
    }
   ],
   "source": [
    "#Самые популярные платформы по продажам в Северной Америке\n",
    "\n",
    "data.groupby(['platform'])\\\n",
    ".agg(sales=('na_sales', 'sum'))\\\n",
    ".sort_values(by = 'sales', ascending = False)\\\n",
    ".head()"
   ]
  },
  {
   "cell_type": "code",
   "execution_count": 72,
   "metadata": {},
   "outputs": [
    {
     "data": {
      "text/html": [
       "<div>\n",
       "<style scoped>\n",
       "    .dataframe tbody tr th:only-of-type {\n",
       "        vertical-align: middle;\n",
       "    }\n",
       "\n",
       "    .dataframe tbody tr th {\n",
       "        vertical-align: top;\n",
       "    }\n",
       "\n",
       "    .dataframe thead th {\n",
       "        text-align: right;\n",
       "    }\n",
       "</style>\n",
       "<table border=\"1\" class=\"dataframe\">\n",
       "  <thead>\n",
       "    <tr style=\"text-align: right;\">\n",
       "      <th></th>\n",
       "      <th>sales</th>\n",
       "    </tr>\n",
       "    <tr>\n",
       "      <th>platform</th>\n",
       "      <th></th>\n",
       "    </tr>\n",
       "  </thead>\n",
       "  <tbody>\n",
       "    <tr>\n",
       "      <th>PS4</th>\n",
       "      <td>130.04</td>\n",
       "    </tr>\n",
       "    <tr>\n",
       "      <th>XOne</th>\n",
       "      <td>46.25</td>\n",
       "    </tr>\n",
       "    <tr>\n",
       "      <th>PS3</th>\n",
       "      <td>25.54</td>\n",
       "    </tr>\n",
       "    <tr>\n",
       "      <th>PC</th>\n",
       "      <td>17.97</td>\n",
       "    </tr>\n",
       "    <tr>\n",
       "      <th>3DS</th>\n",
       "      <td>16.12</td>\n",
       "    </tr>\n",
       "  </tbody>\n",
       "</table>\n",
       "</div>"
      ],
      "text/plain": [
       "           sales\n",
       "platform        \n",
       "PS4       130.04\n",
       "XOne       46.25\n",
       "PS3        25.54\n",
       "PC         17.97\n",
       "3DS        16.12"
      ]
     },
     "execution_count": 72,
     "metadata": {},
     "output_type": "execute_result"
    }
   ],
   "source": [
    "#Самые популярные платформы по продажам в Европе\n",
    "\n",
    "data.groupby(['platform'])\\\n",
    ".agg(sales=('eu_sales', 'sum'))\\\n",
    ".sort_values(by = 'sales', ascending = False)\\\n",
    ".head()"
   ]
  },
  {
   "cell_type": "code",
   "execution_count": 73,
   "metadata": {},
   "outputs": [
    {
     "data": {
      "text/html": [
       "<div>\n",
       "<style scoped>\n",
       "    .dataframe tbody tr th:only-of-type {\n",
       "        vertical-align: middle;\n",
       "    }\n",
       "\n",
       "    .dataframe tbody tr th {\n",
       "        vertical-align: top;\n",
       "    }\n",
       "\n",
       "    .dataframe thead th {\n",
       "        text-align: right;\n",
       "    }\n",
       "</style>\n",
       "<table border=\"1\" class=\"dataframe\">\n",
       "  <thead>\n",
       "    <tr style=\"text-align: right;\">\n",
       "      <th></th>\n",
       "      <th>sales</th>\n",
       "    </tr>\n",
       "    <tr>\n",
       "      <th>platform</th>\n",
       "      <th></th>\n",
       "    </tr>\n",
       "  </thead>\n",
       "  <tbody>\n",
       "    <tr>\n",
       "      <th>3DS</th>\n",
       "      <td>44.24</td>\n",
       "    </tr>\n",
       "    <tr>\n",
       "      <th>PS4</th>\n",
       "      <td>15.02</td>\n",
       "    </tr>\n",
       "    <tr>\n",
       "      <th>PSV</th>\n",
       "      <td>14.54</td>\n",
       "    </tr>\n",
       "    <tr>\n",
       "      <th>PS3</th>\n",
       "      <td>11.22</td>\n",
       "    </tr>\n",
       "    <tr>\n",
       "      <th>WiiU</th>\n",
       "      <td>7.31</td>\n",
       "    </tr>\n",
       "  </tbody>\n",
       "</table>\n",
       "</div>"
      ],
      "text/plain": [
       "          sales\n",
       "platform       \n",
       "3DS       44.24\n",
       "PS4       15.02\n",
       "PSV       14.54\n",
       "PS3       11.22\n",
       "WiiU       7.31"
      ]
     },
     "execution_count": 73,
     "metadata": {},
     "output_type": "execute_result"
    }
   ],
   "source": [
    "#Самые популярные платформы по продажам в Японии\n",
    "\n",
    "data.groupby(['platform'])\\\n",
    ".agg(sales=('jp_sales', 'sum'))\\\n",
    ".sort_values(by = 'sales', ascending = False)\\\n",
    ".head()"
   ]
  },
  {
   "cell_type": "markdown",
   "metadata": {},
   "source": [
    "- В Северной Америке топовыми являются платформы: X360, PS3, 3DS, PS4, XOne\n",
    "- В Европе топовыми являются платформы: PS3, X360, XOne, PS4, 3DS\n",
    "- В Японии топовыми являются платформы: PS4, 3DS, PS3, PSV, WiiU"
   ]
  },
  {
   "cell_type": "markdown",
   "metadata": {},
   "source": [
    "### Самые популярные жанры (топ-5)"
   ]
  },
  {
   "cell_type": "code",
   "execution_count": 74,
   "metadata": {},
   "outputs": [
    {
     "data": {
      "text/html": [
       "<div>\n",
       "<style scoped>\n",
       "    .dataframe tbody tr th:only-of-type {\n",
       "        vertical-align: middle;\n",
       "    }\n",
       "\n",
       "    .dataframe tbody tr th {\n",
       "        vertical-align: top;\n",
       "    }\n",
       "\n",
       "    .dataframe thead th {\n",
       "        text-align: right;\n",
       "    }\n",
       "</style>\n",
       "<table border=\"1\" class=\"dataframe\">\n",
       "  <thead>\n",
       "    <tr style=\"text-align: right;\">\n",
       "      <th></th>\n",
       "      <th>sales</th>\n",
       "    </tr>\n",
       "    <tr>\n",
       "      <th>genre</th>\n",
       "      <th></th>\n",
       "    </tr>\n",
       "  </thead>\n",
       "  <tbody>\n",
       "    <tr>\n",
       "      <th>Shooter</th>\n",
       "      <td>79.02</td>\n",
       "    </tr>\n",
       "    <tr>\n",
       "      <th>Action</th>\n",
       "      <td>72.53</td>\n",
       "    </tr>\n",
       "    <tr>\n",
       "      <th>Sports</th>\n",
       "      <td>46.13</td>\n",
       "    </tr>\n",
       "    <tr>\n",
       "      <th>Role-Playing</th>\n",
       "      <td>33.47</td>\n",
       "    </tr>\n",
       "    <tr>\n",
       "      <th>Misc</th>\n",
       "      <td>15.05</td>\n",
       "    </tr>\n",
       "  </tbody>\n",
       "</table>\n",
       "</div>"
      ],
      "text/plain": [
       "              sales\n",
       "genre              \n",
       "Shooter       79.02\n",
       "Action        72.53\n",
       "Sports        46.13\n",
       "Role-Playing  33.47\n",
       "Misc          15.05"
      ]
     },
     "execution_count": 74,
     "metadata": {},
     "output_type": "execute_result"
    }
   ],
   "source": [
    "#Самые популярные жанры по продажам в Северной Америке\n",
    "\n",
    "data.groupby(['genre'])\\\n",
    ".agg(sales=('na_sales', 'sum'))\\\n",
    ".sort_values(by = 'sales', ascending = False)\\\n",
    ".head()"
   ]
  },
  {
   "cell_type": "code",
   "execution_count": 75,
   "metadata": {},
   "outputs": [
    {
     "data": {
      "text/html": [
       "<div>\n",
       "<style scoped>\n",
       "    .dataframe tbody tr th:only-of-type {\n",
       "        vertical-align: middle;\n",
       "    }\n",
       "\n",
       "    .dataframe tbody tr th {\n",
       "        vertical-align: top;\n",
       "    }\n",
       "\n",
       "    .dataframe thead th {\n",
       "        text-align: right;\n",
       "    }\n",
       "</style>\n",
       "<table border=\"1\" class=\"dataframe\">\n",
       "  <thead>\n",
       "    <tr style=\"text-align: right;\">\n",
       "      <th></th>\n",
       "      <th>sales</th>\n",
       "    </tr>\n",
       "    <tr>\n",
       "      <th>genre</th>\n",
       "      <th></th>\n",
       "    </tr>\n",
       "  </thead>\n",
       "  <tbody>\n",
       "    <tr>\n",
       "      <th>Action</th>\n",
       "      <td>74.68</td>\n",
       "    </tr>\n",
       "    <tr>\n",
       "      <th>Shooter</th>\n",
       "      <td>65.52</td>\n",
       "    </tr>\n",
       "    <tr>\n",
       "      <th>Sports</th>\n",
       "      <td>45.73</td>\n",
       "    </tr>\n",
       "    <tr>\n",
       "      <th>Role-Playing</th>\n",
       "      <td>28.17</td>\n",
       "    </tr>\n",
       "    <tr>\n",
       "      <th>Racing</th>\n",
       "      <td>14.13</td>\n",
       "    </tr>\n",
       "  </tbody>\n",
       "</table>\n",
       "</div>"
      ],
      "text/plain": [
       "              sales\n",
       "genre              \n",
       "Action        74.68\n",
       "Shooter       65.52\n",
       "Sports        45.73\n",
       "Role-Playing  28.17\n",
       "Racing        14.13"
      ]
     },
     "execution_count": 75,
     "metadata": {},
     "output_type": "execute_result"
    }
   ],
   "source": [
    "#Самые популярные жанры по продажам в Европе\n",
    "\n",
    "data.groupby(['genre'])\\\n",
    ".agg(sales=('eu_sales', 'sum'))\\\n",
    ".sort_values(by = 'sales', ascending = False)\\\n",
    ".head()"
   ]
  },
  {
   "cell_type": "code",
   "execution_count": 76,
   "metadata": {},
   "outputs": [
    {
     "data": {
      "text/html": [
       "<div>\n",
       "<style scoped>\n",
       "    .dataframe tbody tr th:only-of-type {\n",
       "        vertical-align: middle;\n",
       "    }\n",
       "\n",
       "    .dataframe tbody tr th {\n",
       "        vertical-align: top;\n",
       "    }\n",
       "\n",
       "    .dataframe thead th {\n",
       "        text-align: right;\n",
       "    }\n",
       "</style>\n",
       "<table border=\"1\" class=\"dataframe\">\n",
       "  <thead>\n",
       "    <tr style=\"text-align: right;\">\n",
       "      <th></th>\n",
       "      <th>sales</th>\n",
       "    </tr>\n",
       "    <tr>\n",
       "      <th>genre</th>\n",
       "      <th></th>\n",
       "    </tr>\n",
       "  </thead>\n",
       "  <tbody>\n",
       "    <tr>\n",
       "      <th>Role-Playing</th>\n",
       "      <td>31.16</td>\n",
       "    </tr>\n",
       "    <tr>\n",
       "      <th>Action</th>\n",
       "      <td>29.58</td>\n",
       "    </tr>\n",
       "    <tr>\n",
       "      <th>Fighting</th>\n",
       "      <td>6.37</td>\n",
       "    </tr>\n",
       "    <tr>\n",
       "      <th>Misc</th>\n",
       "      <td>5.61</td>\n",
       "    </tr>\n",
       "    <tr>\n",
       "      <th>Shooter</th>\n",
       "      <td>4.87</td>\n",
       "    </tr>\n",
       "  </tbody>\n",
       "</table>\n",
       "</div>"
      ],
      "text/plain": [
       "              sales\n",
       "genre              \n",
       "Role-Playing  31.16\n",
       "Action        29.58\n",
       "Fighting       6.37\n",
       "Misc           5.61\n",
       "Shooter        4.87"
      ]
     },
     "execution_count": 76,
     "metadata": {},
     "output_type": "execute_result"
    }
   ],
   "source": [
    "#Самые популярные жанры по продажам в Японии\n",
    "\n",
    "data.groupby(['genre'])\\\n",
    ".agg(sales=('jp_sales', 'sum'))\\\n",
    ".sort_values(by = 'sales', ascending = False)\\\n",
    ".head()"
   ]
  },
  {
   "cell_type": "markdown",
   "metadata": {},
   "source": [
    "- В Северной Америке топовыми являются жанры: Action, Shooter, Sports, Misc, Role-Playing\n",
    "- В Европе топовыми являются жанры: Action, Shooter, Sports, Role-Playing, Racing\n",
    "- В Японии топовыми являются жанры: Role-Playing, Action, Fighting, Misc, Shooter"
   ]
  },
  {
   "cell_type": "markdown",
   "metadata": {},
   "source": [
    "### Влияние рейтинга ESRB на продажи в отдельном регионе"
   ]
  },
  {
   "cell_type": "code",
   "execution_count": 77,
   "metadata": {},
   "outputs": [
    {
     "data": {
      "text/html": [
       "<div>\n",
       "<style scoped>\n",
       "    .dataframe tbody tr th:only-of-type {\n",
       "        vertical-align: middle;\n",
       "    }\n",
       "\n",
       "    .dataframe tbody tr th {\n",
       "        vertical-align: top;\n",
       "    }\n",
       "\n",
       "    .dataframe thead th {\n",
       "        text-align: right;\n",
       "    }\n",
       "</style>\n",
       "<table border=\"1\" class=\"dataframe\">\n",
       "  <thead>\n",
       "    <tr style=\"text-align: right;\">\n",
       "      <th></th>\n",
       "      <th>sales</th>\n",
       "    </tr>\n",
       "    <tr>\n",
       "      <th>rating</th>\n",
       "      <th></th>\n",
       "    </tr>\n",
       "  </thead>\n",
       "  <tbody>\n",
       "    <tr>\n",
       "      <th>M</th>\n",
       "      <td>96.42</td>\n",
       "    </tr>\n",
       "    <tr>\n",
       "      <th>unknown</th>\n",
       "      <td>64.72</td>\n",
       "    </tr>\n",
       "    <tr>\n",
       "      <th>E</th>\n",
       "      <td>50.74</td>\n",
       "    </tr>\n",
       "    <tr>\n",
       "      <th>T</th>\n",
       "      <td>38.95</td>\n",
       "    </tr>\n",
       "    <tr>\n",
       "      <th>E10+</th>\n",
       "      <td>33.23</td>\n",
       "    </tr>\n",
       "  </tbody>\n",
       "</table>\n",
       "</div>"
      ],
      "text/plain": [
       "         sales\n",
       "rating        \n",
       "M        96.42\n",
       "unknown  64.72\n",
       "E        50.74\n",
       "T        38.95\n",
       "E10+     33.23"
      ]
     },
     "execution_count": 77,
     "metadata": {},
     "output_type": "execute_result"
    }
   ],
   "source": [
    "# посмотрим влияние рейтинга ESRB на продажи в Северной Америке\n",
    "\n",
    "data.groupby('rating')\\\n",
    ".agg(sales=('na_sales', 'sum'))\\\n",
    ".sort_values(by = 'sales', ascending = False)\\\n",
    ".head(10)"
   ]
  },
  {
   "cell_type": "code",
   "execution_count": 78,
   "metadata": {},
   "outputs": [
    {
     "data": {
      "text/html": [
       "<div>\n",
       "<style scoped>\n",
       "    .dataframe tbody tr th:only-of-type {\n",
       "        vertical-align: middle;\n",
       "    }\n",
       "\n",
       "    .dataframe tbody tr th {\n",
       "        vertical-align: top;\n",
       "    }\n",
       "\n",
       "    .dataframe thead th {\n",
       "        text-align: right;\n",
       "    }\n",
       "</style>\n",
       "<table border=\"1\" class=\"dataframe\">\n",
       "  <thead>\n",
       "    <tr style=\"text-align: right;\">\n",
       "      <th></th>\n",
       "      <th>sales</th>\n",
       "    </tr>\n",
       "    <tr>\n",
       "      <th>rating</th>\n",
       "      <th></th>\n",
       "    </tr>\n",
       "  </thead>\n",
       "  <tbody>\n",
       "    <tr>\n",
       "      <th>M</th>\n",
       "      <td>93.44</td>\n",
       "    </tr>\n",
       "    <tr>\n",
       "      <th>unknown</th>\n",
       "      <td>58.95</td>\n",
       "    </tr>\n",
       "    <tr>\n",
       "      <th>E</th>\n",
       "      <td>58.06</td>\n",
       "    </tr>\n",
       "    <tr>\n",
       "      <th>T</th>\n",
       "      <td>34.07</td>\n",
       "    </tr>\n",
       "    <tr>\n",
       "      <th>E10+</th>\n",
       "      <td>26.16</td>\n",
       "    </tr>\n",
       "  </tbody>\n",
       "</table>\n",
       "</div>"
      ],
      "text/plain": [
       "         sales\n",
       "rating        \n",
       "M        93.44\n",
       "unknown  58.95\n",
       "E        58.06\n",
       "T        34.07\n",
       "E10+     26.16"
      ]
     },
     "execution_count": 78,
     "metadata": {},
     "output_type": "execute_result"
    }
   ],
   "source": [
    "# посмотрим влияние рейтинга ESRB на продажи в Европе\n",
    "\n",
    "data.groupby('rating')\\\n",
    ".agg(sales=('eu_sales', 'sum'))\\\n",
    ".sort_values(by = 'sales', ascending = False)\\\n",
    ".head(10)"
   ]
  },
  {
   "cell_type": "code",
   "execution_count": 79,
   "metadata": {},
   "outputs": [
    {
     "data": {
      "text/html": [
       "<div>\n",
       "<style scoped>\n",
       "    .dataframe tbody tr th:only-of-type {\n",
       "        vertical-align: middle;\n",
       "    }\n",
       "\n",
       "    .dataframe tbody tr th {\n",
       "        vertical-align: top;\n",
       "    }\n",
       "\n",
       "    .dataframe thead th {\n",
       "        text-align: right;\n",
       "    }\n",
       "</style>\n",
       "<table border=\"1\" class=\"dataframe\">\n",
       "  <thead>\n",
       "    <tr style=\"text-align: right;\">\n",
       "      <th></th>\n",
       "      <th>sales</th>\n",
       "    </tr>\n",
       "    <tr>\n",
       "      <th>rating</th>\n",
       "      <th></th>\n",
       "    </tr>\n",
       "  </thead>\n",
       "  <tbody>\n",
       "    <tr>\n",
       "      <th>unknown</th>\n",
       "      <td>56.90</td>\n",
       "    </tr>\n",
       "    <tr>\n",
       "      <th>T</th>\n",
       "      <td>14.78</td>\n",
       "    </tr>\n",
       "    <tr>\n",
       "      <th>E</th>\n",
       "      <td>8.94</td>\n",
       "    </tr>\n",
       "    <tr>\n",
       "      <th>M</th>\n",
       "      <td>8.01</td>\n",
       "    </tr>\n",
       "    <tr>\n",
       "      <th>E10+</th>\n",
       "      <td>4.46</td>\n",
       "    </tr>\n",
       "  </tbody>\n",
       "</table>\n",
       "</div>"
      ],
      "text/plain": [
       "         sales\n",
       "rating        \n",
       "unknown  56.90\n",
       "T        14.78\n",
       "E         8.94\n",
       "M         8.01\n",
       "E10+      4.46"
      ]
     },
     "execution_count": 79,
     "metadata": {},
     "output_type": "execute_result"
    }
   ],
   "source": [
    "# посмотрим влияние рейтинга ESRB на продажи в Японии\n",
    "\n",
    "data.groupby('rating')\\\n",
    ".agg(sales=('jp_sales', 'sum'))\\\n",
    ".sort_values(by = 'sales', ascending = False)\\\n",
    ".head(10)"
   ]
  },
  {
   "cell_type": "markdown",
   "metadata": {},
   "source": [
    "*В Северной Америке и Европе лидируют рейтинги E, M, T. В Японии на первом месте неопределенный рейтинг, после идут также E, M, T. E - Для всех, M - Для взрослых, T -подростки. Причём в Японии игры для взрослых покупают реже, чем для тинейджеров. А в Северной Америке и Европе больше всего берут игры для всех и взрослых. Организация ESRB принадлежит США, так что с этим может быть связано так много unknown для Японцев.*"
   ]
  },
  {
   "cell_type": "code",
   "execution_count": 80,
   "metadata": {},
   "outputs": [
    {
     "data": {
      "text/plain": [
       "<AxesSubplot:title={'center':'влияние рейтинга ESRB на продажи в Северной Америке'}, ylabel='sales'>"
      ]
     },
     "execution_count": 80,
     "metadata": {},
     "output_type": "execute_result"
    },
    {
     "data": {
      "image/png": "[encoded data removed]",
      "text/plain": [
       "<Figure size 576x576 with 1 Axes>"
      ]
     },
     "metadata": {},
     "output_type": "display_data"
    }
   ],
   "source": [
    "data.groupby('rating')\\\n",
    ".agg(sales=('na_sales', 'sum'))\\\n",
    ".plot(y = 'sales', kind = 'pie', figsize = (8,8),\\\n",
    "title = 'влияние рейтинга ESRB на продажи в Северной Америке')"
   ]
  },
  {
   "cell_type": "code",
   "execution_count": 81,
   "metadata": {},
   "outputs": [
    {
     "data": {
      "text/plain": [
       "<AxesSubplot:title={'center':'влияние рейтинга ESRB на продажи в Европе'}, ylabel='sales'>"
      ]
     },
     "execution_count": 81,
     "metadata": {},
     "output_type": "execute_result"
    },
    {
     "data": {
      "image/png": "[encoded data removed]",
      "text/plain": [
       "<Figure size 576x576 with 1 Axes>"
      ]
     },
     "metadata": {},
     "output_type": "display_data"
    }
   ],
   "source": [
    "data.groupby('rating')\\\n",
    ".agg(sales=('eu_sales', 'sum'))\\\n",
    ".plot(y = 'sales', kind = 'pie', figsize = (8,8),\\\n",
    "title = 'влияние рейтинга ESRB на продажи в Европе')"
   ]
  },
  {
   "cell_type": "code",
   "execution_count": 82,
   "metadata": {},
   "outputs": [
    {
     "data": {
      "text/plain": [
       "<AxesSubplot:title={'center':'влияние рейтинга ESRB на продажи в Японии'}, ylabel='sales'>"
      ]
     },
     "execution_count": 82,
     "metadata": {},
     "output_type": "execute_result"
    },
    {
     "data": {
      "image/png": "[encoded data removed]",
      "text/plain": [
       "<Figure size 576x576 with 1 Axes>"
      ]
     },
     "metadata": {},
     "output_type": "display_data"
    }
   ],
   "source": [
    "data.groupby('rating')\\\n",
    ".agg(sales=('jp_sales', 'sum'))\\\n",
    ".plot(y = 'sales', kind = 'pie', figsize = (8,8),\\\n",
    "title = 'влияние рейтинга ESRB на продажи в Японии')"
   ]
  },
  {
   "cell_type": "markdown",
   "metadata": {},
   "source": [
    "## Проверка гипотез"
   ]
  },
  {
   "cell_type": "markdown",
   "metadata": {},
   "source": [
    "### Гипотиза 1"
   ]
  },
  {
   "cell_type": "markdown",
   "metadata": {},
   "source": [
    "Проверка гипотезы: cредние пользовательские рейтинги платформ Xbox One и PC одинаковые;\n",
    "\n",
    "```\n",
    "H_0: cредние пользовательские рейтинги платформ Xbox One и PC равны\n",
    "H_1: cредние пользовательские рейтинги платформ Xbox One и PC не равны\n",
    "alpha = 0.05\n",
    "```"
   ]
  },
  {
   "cell_type": "code",
   "execution_count": 83,
   "metadata": {},
   "outputs": [
    {
     "name": "stdout",
     "output_type": "stream",
     "text": [
      "0.11601398086668832\n",
      "Не получилось отвергнуть нулевую гипотезу\n"
     ]
    }
   ],
   "source": [
    "# results = вызов метода для проверки гипотезы\n",
    "# alpha - значение уровня значимости\n",
    "\n",
    "\n",
    "xone = data.query('platform == \"XOne\" and ~user_score.isna()')['user_score']\n",
    "pc = data.query('platform == \"PC\" and ~user_score.isna()')['user_score']\n",
    "\n",
    "results = st.ttest_ind(xone, pc, equal_var = False)\n",
    "\n",
    "alpha = 0.05\n",
    "# вывод значения p-value на экран \n",
    "print(results.pvalue)\n",
    "# условный оператор с выводом строки с ответом\n",
    "if results.pvalue < alpha:\n",
    "    print('Отвергаем нулевую гипотезу')\n",
    "else:\n",
    "    print('Не получилось отвергнуть нулевую гипотезу')\n",
    "    \n"
   ]
  },
  {
   "cell_type": "markdown",
   "metadata": {},
   "source": [
    "*Гипотеза о том, что средние пользовательские рейтинги платформ Xbox One и PC равны не была отвергнута*"
   ]
  },
  {
   "cell_type": "markdown",
   "metadata": {},
   "source": [
    "### Гипотеза 2"
   ]
  },
  {
   "cell_type": "markdown",
   "metadata": {},
   "source": [
    "Проверка гипотезы: Средние пользовательские рейтинги жанров Action и Sports разные;\n",
    "\n",
    "```\n",
    "H_0: Средние пользовательские рейтинги жанров Action и Sports не равны\n",
    "H_1: Средние пользовательские рейтинги жанров Action и Sports равны\n",
    "alpha = 0.05\n",
    "```"
   ]
  },
  {
   "cell_type": "code",
   "execution_count": 84,
   "metadata": {},
   "outputs": [
    {
     "name": "stdout",
     "output_type": "stream",
     "text": [
      "1.1825550382644557e-14\n",
      "Не получилось отвергнуть нулевую гипотезу\n"
     ]
    }
   ],
   "source": [
    "# results = вызов метода для проверки гипотезы\n",
    "# alpha - значение уровня значимости\n",
    "\n",
    "action = data.query('genre == \"Action\" and ~user_score.isna()')['user_score']\n",
    "sports = data.query('genre == \"Sports\" and ~user_score.isna()')['user_score']\n",
    "\n",
    "results = st.ttest_ind(action, sports, equal_var = False)\n",
    "\n",
    "alpha = 0.05\n",
    "# вывод значения p-value на экран \n",
    "print(results.pvalue)\n",
    "# условный оператор с выводом строки с ответом\n",
    "if results.pvalue < alpha:\n",
    "    print('Не получилось отвергнуть нулевую гипотезу')    \n",
    "else:\n",
    "    print('Отвергаем нулевую гипотезу')"
   ]
  },
  {
   "cell_type": "markdown",
   "metadata": {},
   "source": [
    "*Гипотезу, что средние пользовательские рейтинги жанров Action и Sports разные не удалось отвергнуть*"
   ]
  },
  {
   "cell_type": "markdown",
   "metadata": {},
   "source": [
    "## Общий вывод"
   ]
  },
  {
   "cell_type": "markdown",
   "metadata": {},
   "source": [
    "- Меньше всего игр было с 1996-2000, после восходящий тренд, больше всего игр выпустилось в 2008-2009 годах, после количество выпускаемых игр идет на спад\n",
    "- Больше всего продаж на платформах PS2, X360, PS3, Wii и DS\n",
    "- На платформе PS2 пик продаж достигался в 2004 году, после идёт резкий спад\n",
    "- На платформе X360 пик продаж достигался в 2010 году, после идёт резкий спад\n",
    "- На платформе Wii пик продаж достигался в 2009 году, а на платформе PS3 в 2011\n",
    "- На платформе DS пик продаж достигался в 2007-2008 годах\n",
    "- PS были популярны до 2000 года, после появилось PS2 и стала лидировать по продажам\n",
    "- С 2006-2007 года PS2 обогнали Wii, DS, X360 и PS3\n",
    "- C 2014 года самой популярной является PS4\n",
    "- Характерный срок жизни платформ топ-10: 7-10 лет \n",
    "- Будем считать актуальными данные с 2014 года\n",
    "- Потенциально прибылиные платформы: PS4 и XOne,  они появились относительно недавно и являюся самыми популярными на 2016 год.При этом PS4 лидирут.\n",
    "- Суммарные продажи растут с оцеками пользователей, связь не линейная.\n",
    "- Суммарные продажи растут с оцеками критиков. \n",
    "- Самыми прибылиными являются жанры: Shooter, Sports, Platform, Fighting и Role-Playing\n",
    "- Самыми низкоприбылиные жанры: Strategy, Puzzle, Adventure\n",
    "- В Северной Америке топовыми являются платформы: X360, PS3, 3DS, PS4, XOne\n",
    "- В Европе топовыми являются платформы: PS3, X360, XOne, PS4, 3DS\n",
    "- В Японии топовыми являются платформы: PS4, 3DS, PS3, PSV, WiiU\n",
    "- В Северной Америке топовыми являются жанры: Action, Shooter, Sports, Misc, Role-Playing\n",
    "- В Европе топовыми являются жанры: Action, Shooter, Sports, Role-Playing, Racing\n",
    "- В Японии топовыми являются жанры: Role-Playing, Action, Fighting, Misc, Shooter\n",
    "- В Северной Америке и Европе лидируют рейтинги E, M, T. В Японии на первом месте неопределенный рейтинг, после идут также E, M, T. E - Для всех, M - Для взрослых, T -подростки. Причём в Японии игры для взрослых покупают реже, чем для тинейджеров. А в Северной Америке и Европе больше всего берут игры для всех и взрослых. Организация ESRB принадлежит США, так что с этим может быть связано так много unknown для Японцев.\n",
    "- Гипотеза о том, что средние пользовательские рейтинги платформ Xbox One и PC равны не была отвергнута\n",
    "- Гипотезу, что средние пользовательские рейтинги жанров Action и Sports разные не удалось отвергнуть"
   ]
  }
 ],
 "metadata": {
  "ExecuteTimeLog": [
   {
    "duration": 370,
    "start_time": "2022-11-15T14:22:03.731Z"
   },
   {
    "duration": 86,
    "start_time": "2022-11-15T14:22:06.517Z"
   },
   {
    "duration": 58,
    "start_time": "2022-11-15T14:22:55.441Z"
   },
   {
    "duration": 57,
    "start_time": "2022-11-15T14:23:35.909Z"
   },
   {
    "duration": 52,
    "start_time": "2022-11-15T14:23:52.884Z"
   },
   {
    "duration": 50,
    "start_time": "2022-11-15T14:24:02.008Z"
   },
   {
    "duration": 66,
    "start_time": "2022-11-15T14:24:05.627Z"
   },
   {
    "duration": 14,
    "start_time": "2022-11-15T14:24:21.649Z"
   },
   {
    "duration": 13,
    "start_time": "2022-11-15T14:25:22.442Z"
   },
   {
    "duration": 1100,
    "start_time": "2022-11-15T14:29:42.426Z"
   },
   {
    "duration": 63,
    "start_time": "2022-11-15T14:49:02.384Z"
   },
   {
    "duration": 15,
    "start_time": "2022-11-15T14:49:07.514Z"
   },
   {
    "duration": 819,
    "start_time": "2022-11-15T14:49:10.205Z"
   },
   {
    "duration": 49,
    "start_time": "2022-11-16T02:33:50.935Z"
   },
   {
    "duration": 444,
    "start_time": "2022-11-16T02:33:56.100Z"
   },
   {
    "duration": 202,
    "start_time": "2022-11-16T02:33:58.016Z"
   },
   {
    "duration": 15,
    "start_time": "2022-11-16T02:34:00.427Z"
   },
   {
    "duration": 4,
    "start_time": "2022-11-16T02:34:07.420Z"
   },
   {
    "duration": 27,
    "start_time": "2022-11-16T02:34:15.871Z"
   },
   {
    "duration": 6,
    "start_time": "2022-11-16T02:34:49.176Z"
   },
   {
    "duration": 17,
    "start_time": "2022-11-16T02:35:28.859Z"
   },
   {
    "duration": 4,
    "start_time": "2022-11-16T02:35:56.439Z"
   },
   {
    "duration": 25,
    "start_time": "2022-11-16T02:36:02.396Z"
   },
   {
    "duration": 3,
    "start_time": "2022-11-16T02:37:09.968Z"
   },
   {
    "duration": 3,
    "start_time": "2022-11-16T02:37:13.564Z"
   },
   {
    "duration": 14,
    "start_time": "2022-11-16T02:44:43.310Z"
   },
   {
    "duration": 13,
    "start_time": "2022-11-16T02:45:49.322Z"
   },
   {
    "duration": 12,
    "start_time": "2022-11-16T02:45:58.259Z"
   },
   {
    "duration": 235,
    "start_time": "2022-11-16T02:47:29.951Z"
   },
   {
    "duration": 2,
    "start_time": "2022-11-16T02:52:42.695Z"
   },
   {
    "duration": 227,
    "start_time": "2022-11-16T02:55:41.233Z"
   },
   {
    "duration": 184,
    "start_time": "2022-11-16T02:58:25.373Z"
   },
   {
    "duration": 23,
    "start_time": "2022-11-16T02:58:33.096Z"
   },
   {
    "duration": 7,
    "start_time": "2022-11-16T02:59:11.729Z"
   },
   {
    "duration": 190,
    "start_time": "2022-11-16T02:59:30.975Z"
   },
   {
    "duration": 331,
    "start_time": "2022-11-16T03:00:08.854Z"
   },
   {
    "duration": 14,
    "start_time": "2022-11-16T03:01:14.943Z"
   },
   {
    "duration": 14,
    "start_time": "2022-11-16T03:04:07.199Z"
   },
   {
    "duration": 13,
    "start_time": "2022-11-16T03:04:32.993Z"
   },
   {
    "duration": 10,
    "start_time": "2022-11-16T03:05:01.852Z"
   },
   {
    "duration": 9,
    "start_time": "2022-11-16T03:05:26.803Z"
   },
   {
    "duration": 11,
    "start_time": "2022-11-16T03:05:36.541Z"
   },
   {
    "duration": 6,
    "start_time": "2022-11-16T03:10:29.744Z"
   },
   {
    "duration": 22,
    "start_time": "2022-11-16T03:10:37.419Z"
   },
   {
    "duration": 16,
    "start_time": "2022-11-16T03:10:58.211Z"
   },
   {
    "duration": 381,
    "start_time": "2022-11-16T03:11:58.358Z"
   },
   {
    "duration": 65,
    "start_time": "2022-11-16T03:12:00.859Z"
   },
   {
    "duration": 14,
    "start_time": "2022-11-16T03:12:02.968Z"
   },
   {
    "duration": 15,
    "start_time": "2022-11-16T03:12:04.690Z"
   },
   {
    "duration": 1222,
    "start_time": "2022-11-16T03:12:05.945Z"
   },
   {
    "duration": 3,
    "start_time": "2022-11-16T03:12:09.745Z"
   },
   {
    "duration": 81,
    "start_time": "2022-11-16T03:12:12.407Z"
   },
   {
    "duration": 15,
    "start_time": "2022-11-16T03:16:15.897Z"
   },
   {
    "duration": 18,
    "start_time": "2022-11-16T03:16:40.576Z"
   },
   {
    "duration": 19,
    "start_time": "2022-11-16T03:18:39.492Z"
   },
   {
    "duration": 383,
    "start_time": "2022-11-16T03:18:56.433Z"
   },
   {
    "duration": 71,
    "start_time": "2022-11-16T03:19:04.180Z"
   },
   {
    "duration": 65,
    "start_time": "2022-11-16T03:19:23.262Z"
   },
   {
    "duration": 47,
    "start_time": "2022-11-16T03:20:02.871Z"
   },
   {
    "duration": 787,
    "start_time": "2022-11-16T03:20:07.551Z"
   },
   {
    "duration": 52,
    "start_time": "2022-11-16T03:20:17.015Z"
   },
   {
    "duration": 15,
    "start_time": "2022-11-16T03:20:29.997Z"
   },
   {
    "duration": 14,
    "start_time": "2022-11-16T03:20:33.180Z"
   },
   {
    "duration": 1029,
    "start_time": "2022-11-16T03:20:34.386Z"
   },
   {
    "duration": 3,
    "start_time": "2022-11-16T03:20:38.067Z"
   },
   {
    "duration": 19,
    "start_time": "2022-11-16T03:20:39.758Z"
   },
   {
    "duration": 10,
    "start_time": "2022-11-16T03:21:03.198Z"
   },
   {
    "duration": 6,
    "start_time": "2022-11-16T03:21:59.219Z"
   },
   {
    "duration": 2,
    "start_time": "2022-11-16T03:24:34.923Z"
   },
   {
    "duration": 52,
    "start_time": "2022-11-16T03:24:35.898Z"
   },
   {
    "duration": 47,
    "start_time": "2022-11-16T03:24:40.115Z"
   },
   {
    "duration": 15,
    "start_time": "2022-11-16T03:24:42.170Z"
   },
   {
    "duration": 17,
    "start_time": "2022-11-16T03:24:43.899Z"
   },
   {
    "duration": 65,
    "start_time": "2022-11-16T03:24:55.091Z"
   },
   {
    "duration": 729,
    "start_time": "2022-11-16T03:25:27.640Z"
   },
   {
    "duration": 47,
    "start_time": "2022-11-16T03:25:48.590Z"
   },
   {
    "duration": 399,
    "start_time": "2022-11-16T03:25:52.024Z"
   },
   {
    "duration": 74,
    "start_time": "2022-11-16T03:25:52.425Z"
   },
   {
    "duration": 14,
    "start_time": "2022-11-16T03:25:52.501Z"
   },
   {
    "duration": 14,
    "start_time": "2022-11-16T03:25:52.517Z"
   },
   {
    "duration": 1010,
    "start_time": "2022-11-16T03:25:52.533Z"
   },
   {
    "duration": 3,
    "start_time": "2022-11-16T03:25:53.545Z"
   },
   {
    "duration": 7,
    "start_time": "2022-11-16T03:25:55.412Z"
   },
   {
    "duration": 23,
    "start_time": "2022-11-16T03:25:58.468Z"
   },
   {
    "duration": 18,
    "start_time": "2022-11-16T03:27:54.029Z"
   },
   {
    "duration": 18,
    "start_time": "2022-11-16T03:28:40.725Z"
   },
   {
    "duration": 22,
    "start_time": "2022-11-16T03:28:56.278Z"
   },
   {
    "duration": 404,
    "start_time": "2022-11-16T03:29:17.219Z"
   },
   {
    "duration": 72,
    "start_time": "2022-11-16T03:29:17.626Z"
   },
   {
    "duration": 14,
    "start_time": "2022-11-16T03:29:17.699Z"
   },
   {
    "duration": 18,
    "start_time": "2022-11-16T03:29:17.715Z"
   },
   {
    "duration": 993,
    "start_time": "2022-11-16T03:29:17.735Z"
   },
   {
    "duration": 3,
    "start_time": "2022-11-16T03:29:18.730Z"
   },
   {
    "duration": 22,
    "start_time": "2022-11-16T03:29:18.735Z"
   },
   {
    "duration": 15,
    "start_time": "2022-11-16T03:30:29.172Z"
   },
   {
    "duration": 8,
    "start_time": "2022-11-16T03:30:33.711Z"
   },
   {
    "duration": 10,
    "start_time": "2022-11-16T03:30:46.509Z"
   },
   {
    "duration": 11,
    "start_time": "2022-11-16T03:31:06.416Z"
   },
   {
    "duration": 23,
    "start_time": "2022-11-16T03:31:11.434Z"
   },
   {
    "duration": 83,
    "start_time": "2022-11-16T03:32:07.090Z"
   },
   {
    "duration": 23,
    "start_time": "2022-11-16T03:32:39.791Z"
   },
   {
    "duration": 8,
    "start_time": "2022-11-16T03:36:22.966Z"
   },
   {
    "duration": 7,
    "start_time": "2022-11-16T03:38:20.447Z"
   },
   {
    "duration": 22,
    "start_time": "2022-11-16T03:38:28.052Z"
   },
   {
    "duration": 22,
    "start_time": "2022-11-16T03:38:43.949Z"
   },
   {
    "duration": 10,
    "start_time": "2022-11-16T03:40:20.408Z"
   },
   {
    "duration": 15,
    "start_time": "2022-11-16T03:40:35.888Z"
   },
   {
    "duration": 13,
    "start_time": "2022-11-16T03:45:20.247Z"
   },
   {
    "duration": 26,
    "start_time": "2022-11-16T03:45:27.870Z"
   },
   {
    "duration": 363,
    "start_time": "2022-11-16T03:47:36.457Z"
   },
   {
    "duration": 74,
    "start_time": "2022-11-16T03:47:37.748Z"
   },
   {
    "duration": 14,
    "start_time": "2022-11-16T03:47:40.253Z"
   },
   {
    "duration": 15,
    "start_time": "2022-11-16T03:47:42.319Z"
   },
   {
    "duration": 996,
    "start_time": "2022-11-16T03:47:43.954Z"
   },
   {
    "duration": 3,
    "start_time": "2022-11-16T03:47:47.791Z"
   },
   {
    "duration": 10,
    "start_time": "2022-11-16T03:48:09.245Z"
   },
   {
    "duration": 7,
    "start_time": "2022-11-16T03:49:09.846Z"
   },
   {
    "duration": 24,
    "start_time": "2022-11-16T03:49:14.679Z"
   },
   {
    "duration": 32,
    "start_time": "2022-11-16T03:53:16.845Z"
   },
   {
    "duration": 20,
    "start_time": "2022-11-16T03:53:28.462Z"
   },
   {
    "duration": 82,
    "start_time": "2022-11-16T03:57:34.190Z"
   },
   {
    "duration": 15,
    "start_time": "2022-11-16T03:57:47.351Z"
   },
   {
    "duration": 22,
    "start_time": "2022-11-16T03:58:00.646Z"
   },
   {
    "duration": 21,
    "start_time": "2022-11-16T03:59:34.040Z"
   },
   {
    "duration": 22,
    "start_time": "2022-11-16T03:59:47.934Z"
   },
   {
    "duration": 383,
    "start_time": "2022-11-16T04:00:34.234Z"
   },
   {
    "duration": 75,
    "start_time": "2022-11-16T04:00:34.619Z"
   },
   {
    "duration": 13,
    "start_time": "2022-11-16T04:00:34.696Z"
   },
   {
    "duration": 14,
    "start_time": "2022-11-16T04:00:34.711Z"
   },
   {
    "duration": 1037,
    "start_time": "2022-11-16T04:00:34.728Z"
   },
   {
    "duration": 4,
    "start_time": "2022-11-16T04:00:35.767Z"
   },
   {
    "duration": 40,
    "start_time": "2022-11-16T04:00:35.772Z"
   },
   {
    "duration": 20,
    "start_time": "2022-11-16T04:39:30.219Z"
   },
   {
    "duration": 33,
    "start_time": "2022-11-16T04:39:38.148Z"
   },
   {
    "duration": 392,
    "start_time": "2022-11-16T04:48:27.319Z"
   },
   {
    "duration": 75,
    "start_time": "2022-11-16T04:48:27.713Z"
   },
   {
    "duration": 13,
    "start_time": "2022-11-16T04:48:27.790Z"
   },
   {
    "duration": 13,
    "start_time": "2022-11-16T04:48:27.805Z"
   },
   {
    "duration": 970,
    "start_time": "2022-11-16T04:48:27.820Z"
   },
   {
    "duration": 3,
    "start_time": "2022-11-16T04:48:28.792Z"
   },
   {
    "duration": 737,
    "start_time": "2022-11-16T04:48:33.142Z"
   },
   {
    "duration": 14,
    "start_time": "2022-11-16T04:48:47.657Z"
   },
   {
    "duration": 11,
    "start_time": "2022-11-16T04:48:58.664Z"
   },
   {
    "duration": 23,
    "start_time": "2022-11-16T04:50:31.895Z"
   },
   {
    "duration": 14,
    "start_time": "2022-11-16T04:54:48.954Z"
   },
   {
    "duration": 7,
    "start_time": "2022-11-16T04:54:57.656Z"
   },
   {
    "duration": 7,
    "start_time": "2022-11-16T04:55:12.986Z"
   },
   {
    "duration": 24,
    "start_time": "2022-11-16T04:56:26.818Z"
   },
   {
    "duration": 10,
    "start_time": "2022-11-16T05:02:01.731Z"
   },
   {
    "duration": 11,
    "start_time": "2022-11-16T05:02:37.032Z"
   },
   {
    "duration": 23,
    "start_time": "2022-11-16T05:03:17.579Z"
   },
   {
    "duration": 21,
    "start_time": "2022-11-16T05:03:30.359Z"
   },
   {
    "duration": 10,
    "start_time": "2022-11-16T12:43:45.436Z"
   },
   {
    "duration": 3,
    "start_time": "2022-11-16T12:57:58.749Z"
   },
   {
    "duration": 7,
    "start_time": "2022-11-16T13:00:27.161Z"
   },
   {
    "duration": 11,
    "start_time": "2022-11-16T13:00:37.958Z"
   },
   {
    "duration": 22,
    "start_time": "2022-11-16T13:01:00.676Z"
   },
   {
    "duration": 7,
    "start_time": "2022-11-16T13:01:25.792Z"
   },
   {
    "duration": 1193,
    "start_time": "2022-11-16T13:01:35.789Z"
   },
   {
    "duration": 419,
    "start_time": "2022-11-16T13:02:00.930Z"
   },
   {
    "duration": 82,
    "start_time": "2022-11-16T13:02:01.351Z"
   },
   {
    "duration": 27,
    "start_time": "2022-11-16T13:02:01.435Z"
   },
   {
    "duration": 73,
    "start_time": "2022-11-16T13:02:01.464Z"
   },
   {
    "duration": 1271,
    "start_time": "2022-11-16T13:02:01.539Z"
   },
   {
    "duration": 4,
    "start_time": "2022-11-16T13:02:02.812Z"
   },
   {
    "duration": 35,
    "start_time": "2022-11-16T13:02:02.818Z"
   },
   {
    "duration": 10,
    "start_time": "2022-11-16T13:02:02.855Z"
   },
   {
    "duration": 25,
    "start_time": "2022-11-16T13:02:05.251Z"
   },
   {
    "duration": 12,
    "start_time": "2022-11-16T13:02:29.687Z"
   },
   {
    "duration": 18,
    "start_time": "2022-11-16T13:04:31.625Z"
   },
   {
    "duration": 10,
    "start_time": "2022-11-16T13:04:40.959Z"
   },
   {
    "duration": 74,
    "start_time": "2022-11-16T13:06:20.807Z"
   },
   {
    "duration": 24,
    "start_time": "2022-11-16T13:06:45.999Z"
   },
   {
    "duration": 21,
    "start_time": "2022-11-16T13:06:59.466Z"
   },
   {
    "duration": 24,
    "start_time": "2022-11-16T13:07:15.599Z"
   },
   {
    "duration": 28,
    "start_time": "2022-11-16T13:07:24.171Z"
   },
   {
    "duration": 23,
    "start_time": "2022-11-16T13:07:37.768Z"
   },
   {
    "duration": 24,
    "start_time": "2022-11-16T13:09:51.644Z"
   },
   {
    "duration": 84,
    "start_time": "2022-11-16T13:12:32.789Z"
   },
   {
    "duration": 47,
    "start_time": "2022-11-16T13:13:25.975Z"
   },
   {
    "duration": 94,
    "start_time": "2022-11-16T13:14:54.434Z"
   },
   {
    "duration": 23,
    "start_time": "2022-11-16T13:15:59.837Z"
   },
   {
    "duration": 26,
    "start_time": "2022-11-16T13:16:50.799Z"
   },
   {
    "duration": 26,
    "start_time": "2022-11-16T13:17:15.097Z"
   },
   {
    "duration": 23,
    "start_time": "2022-11-16T13:19:16.243Z"
   },
   {
    "duration": 24,
    "start_time": "2022-11-16T13:20:38.572Z"
   },
   {
    "duration": 25,
    "start_time": "2022-11-16T13:20:56.131Z"
   },
   {
    "duration": 13,
    "start_time": "2022-11-16T13:21:30.769Z"
   },
   {
    "duration": 13,
    "start_time": "2022-11-16T13:21:53.805Z"
   },
   {
    "duration": 23,
    "start_time": "2022-11-16T13:22:00.550Z"
   },
   {
    "duration": 18,
    "start_time": "2022-11-16T13:25:14.700Z"
   },
   {
    "duration": 850,
    "start_time": "2022-11-16T13:26:31.840Z"
   },
   {
    "duration": 29,
    "start_time": "2022-11-16T13:30:26.474Z"
   },
   {
    "duration": 48,
    "start_time": "2022-11-16T13:31:24.760Z"
   },
   {
    "duration": 33,
    "start_time": "2022-11-16T13:31:31.879Z"
   },
   {
    "duration": 25,
    "start_time": "2022-11-16T13:32:16.753Z"
   },
   {
    "duration": 15,
    "start_time": "2022-11-16T13:32:32.881Z"
   },
   {
    "duration": 11,
    "start_time": "2022-11-16T13:33:31.323Z"
   },
   {
    "duration": 17,
    "start_time": "2022-11-16T13:38:22.097Z"
   },
   {
    "duration": 14,
    "start_time": "2022-11-16T13:38:35.311Z"
   },
   {
    "duration": 15,
    "start_time": "2022-11-16T13:38:48.785Z"
   },
   {
    "duration": 14,
    "start_time": "2022-11-16T13:40:23.295Z"
   },
   {
    "duration": 19,
    "start_time": "2022-11-16T13:40:47.304Z"
   },
   {
    "duration": 958,
    "start_time": "2022-11-16T13:43:10.956Z"
   },
   {
    "duration": 20,
    "start_time": "2022-11-16T13:43:20.558Z"
   },
   {
    "duration": 15,
    "start_time": "2022-11-16T13:45:36.248Z"
   },
   {
    "duration": 40,
    "start_time": "2022-11-16T13:45:43.129Z"
   },
   {
    "duration": 23,
    "start_time": "2022-11-16T13:49:00.591Z"
   },
   {
    "duration": 26,
    "start_time": "2022-11-16T13:49:19.036Z"
   },
   {
    "duration": 73,
    "start_time": "2022-11-16T13:54:22.161Z"
   },
   {
    "duration": 34,
    "start_time": "2022-11-16T13:54:34.762Z"
   },
   {
    "duration": 33,
    "start_time": "2022-11-16T13:54:45.444Z"
   },
   {
    "duration": 21,
    "start_time": "2022-11-16T13:55:21.421Z"
   },
   {
    "duration": 73,
    "start_time": "2022-11-16T14:01:41.093Z"
   },
   {
    "duration": 11,
    "start_time": "2022-11-16T14:01:53.306Z"
   },
   {
    "duration": 26,
    "start_time": "2022-11-16T14:01:59.831Z"
   },
   {
    "duration": 28,
    "start_time": "2022-11-16T14:03:49.771Z"
   },
   {
    "duration": 36,
    "start_time": "2022-11-16T14:04:31.695Z"
   },
   {
    "duration": 33,
    "start_time": "2022-11-16T14:04:40.381Z"
   },
   {
    "duration": 25,
    "start_time": "2022-11-16T14:05:27.646Z"
   },
   {
    "duration": 21,
    "start_time": "2022-11-16T14:07:23.188Z"
   },
   {
    "duration": 19,
    "start_time": "2022-11-16T14:07:31.435Z"
   },
   {
    "duration": 18,
    "start_time": "2022-11-16T14:07:49.413Z"
   },
   {
    "duration": 23,
    "start_time": "2022-11-16T14:10:30.585Z"
   },
   {
    "duration": 23,
    "start_time": "2022-11-16T14:10:36.814Z"
   },
   {
    "duration": 29,
    "start_time": "2022-11-16T14:15:18.081Z"
   },
   {
    "duration": 16,
    "start_time": "2022-11-16T14:15:27.018Z"
   },
   {
    "duration": 28,
    "start_time": "2022-11-16T14:15:39.319Z"
   },
   {
    "duration": 25,
    "start_time": "2022-11-16T14:17:03.424Z"
   },
   {
    "duration": 26,
    "start_time": "2022-11-16T14:20:17.204Z"
   },
   {
    "duration": 23,
    "start_time": "2022-11-16T14:22:06.788Z"
   },
   {
    "duration": 22,
    "start_time": "2022-11-16T14:22:44.083Z"
   },
   {
    "duration": 52,
    "start_time": "2022-11-16T14:23:07.887Z"
   },
   {
    "duration": 19,
    "start_time": "2022-11-16T14:23:12.638Z"
   },
   {
    "duration": 1441,
    "start_time": "2022-11-16T14:24:54.016Z"
   },
   {
    "duration": 36,
    "start_time": "2022-11-16T14:25:03.331Z"
   },
   {
    "duration": 857,
    "start_time": "2022-11-16T14:25:09.181Z"
   },
   {
    "duration": 17,
    "start_time": "2022-11-16T14:25:19.483Z"
   },
   {
    "duration": 24,
    "start_time": "2022-11-16T14:25:29.883Z"
   },
   {
    "duration": 445,
    "start_time": "2022-11-16T14:26:40.723Z"
   },
   {
    "duration": 78,
    "start_time": "2022-11-16T14:26:41.170Z"
   },
   {
    "duration": 15,
    "start_time": "2022-11-16T14:26:41.249Z"
   },
   {
    "duration": 17,
    "start_time": "2022-11-16T14:26:41.266Z"
   },
   {
    "duration": 1074,
    "start_time": "2022-11-16T14:26:41.286Z"
   },
   {
    "duration": 4,
    "start_time": "2022-11-16T14:26:42.362Z"
   },
   {
    "duration": 107,
    "start_time": "2022-11-16T14:26:42.368Z"
   },
   {
    "duration": 0,
    "start_time": "2022-11-16T14:26:42.477Z"
   },
   {
    "duration": 0,
    "start_time": "2022-11-16T14:26:42.478Z"
   },
   {
    "duration": 10,
    "start_time": "2022-11-16T14:27:03.138Z"
   },
   {
    "duration": 11,
    "start_time": "2022-11-16T14:27:05.882Z"
   },
   {
    "duration": 32,
    "start_time": "2022-11-16T14:27:07.844Z"
   },
   {
    "duration": 24,
    "start_time": "2022-11-16T14:27:17.809Z"
   },
   {
    "duration": 18,
    "start_time": "2022-11-16T14:27:56.993Z"
   },
   {
    "duration": 12,
    "start_time": "2022-11-16T14:29:12.917Z"
   },
   {
    "duration": 20,
    "start_time": "2022-11-16T14:29:18.879Z"
   },
   {
    "duration": 19,
    "start_time": "2022-11-16T14:29:35.524Z"
   },
   {
    "duration": 19,
    "start_time": "2022-11-16T14:30:52.799Z"
   },
   {
    "duration": 1007,
    "start_time": "2022-11-16T14:31:00.108Z"
   },
   {
    "duration": 17,
    "start_time": "2022-11-16T14:31:08.536Z"
   },
   {
    "duration": 835,
    "start_time": "2022-11-16T14:33:14.335Z"
   },
   {
    "duration": 23,
    "start_time": "2022-11-16T14:33:18.442Z"
   },
   {
    "duration": 18,
    "start_time": "2022-11-16T14:33:40.980Z"
   },
   {
    "duration": 427,
    "start_time": "2022-11-16T14:33:56.903Z"
   },
   {
    "duration": 79,
    "start_time": "2022-11-16T14:33:57.332Z"
   },
   {
    "duration": 14,
    "start_time": "2022-11-16T14:33:57.413Z"
   },
   {
    "duration": 15,
    "start_time": "2022-11-16T14:33:57.429Z"
   },
   {
    "duration": 1040,
    "start_time": "2022-11-16T14:33:57.446Z"
   },
   {
    "duration": 4,
    "start_time": "2022-11-16T14:33:58.487Z"
   },
   {
    "duration": 12,
    "start_time": "2022-11-16T14:33:58.492Z"
   },
   {
    "duration": 19,
    "start_time": "2022-11-16T14:33:58.505Z"
   },
   {
    "duration": 25,
    "start_time": "2022-11-16T14:33:58.526Z"
   },
   {
    "duration": 20,
    "start_time": "2022-11-16T14:34:05.974Z"
   },
   {
    "duration": 22,
    "start_time": "2022-11-16T14:34:14.297Z"
   },
   {
    "duration": 13,
    "start_time": "2022-11-16T14:34:38.553Z"
   },
   {
    "duration": 62,
    "start_time": "2022-11-16T14:46:41.581Z"
   },
   {
    "duration": 89,
    "start_time": "2022-11-16T14:47:01.400Z"
   },
   {
    "duration": 48,
    "start_time": "2022-11-16T14:47:06.309Z"
   },
   {
    "duration": 43,
    "start_time": "2022-11-16T14:47:09.055Z"
   },
   {
    "duration": 48,
    "start_time": "2022-11-16T14:47:13.705Z"
   },
   {
    "duration": 13,
    "start_time": "2022-11-16T14:47:21.916Z"
   },
   {
    "duration": 212,
    "start_time": "2022-11-16T14:47:52.113Z"
   },
   {
    "duration": 89,
    "start_time": "2022-11-16T14:48:40.502Z"
   },
   {
    "duration": 25,
    "start_time": "2022-11-16T14:49:03.507Z"
   },
   {
    "duration": 23,
    "start_time": "2022-11-16T14:49:19.833Z"
   },
   {
    "duration": 25,
    "start_time": "2022-11-16T14:50:29.716Z"
   },
   {
    "duration": 29,
    "start_time": "2022-11-16T14:53:06.824Z"
   },
   {
    "duration": 77,
    "start_time": "2022-11-16T14:53:28.226Z"
   },
   {
    "duration": 24,
    "start_time": "2022-11-16T14:53:40.379Z"
   },
   {
    "duration": 15,
    "start_time": "2022-11-16T14:56:47.320Z"
   },
   {
    "duration": 431,
    "start_time": "2022-11-16T14:57:00.506Z"
   },
   {
    "duration": 83,
    "start_time": "2022-11-16T14:57:00.940Z"
   },
   {
    "duration": 16,
    "start_time": "2022-11-16T14:57:01.025Z"
   },
   {
    "duration": 19,
    "start_time": "2022-11-16T14:57:01.042Z"
   },
   {
    "duration": 1093,
    "start_time": "2022-11-16T14:57:01.063Z"
   },
   {
    "duration": 4,
    "start_time": "2022-11-16T14:57:02.158Z"
   },
   {
    "duration": 76,
    "start_time": "2022-11-16T14:57:02.164Z"
   },
   {
    "duration": 34,
    "start_time": "2022-11-16T14:57:02.242Z"
   },
   {
    "duration": 29,
    "start_time": "2022-11-16T14:57:02.277Z"
   },
   {
    "duration": 82,
    "start_time": "2022-11-16T14:57:12.540Z"
   },
   {
    "duration": 26,
    "start_time": "2022-11-16T14:57:47.330Z"
   },
   {
    "duration": 6,
    "start_time": "2022-11-16T15:02:27.000Z"
   },
   {
    "duration": 444,
    "start_time": "2022-11-16T15:02:53.707Z"
   },
   {
    "duration": 85,
    "start_time": "2022-11-16T15:02:54.153Z"
   },
   {
    "duration": 15,
    "start_time": "2022-11-16T15:02:54.240Z"
   },
   {
    "duration": 24,
    "start_time": "2022-11-16T15:02:54.257Z"
   },
   {
    "duration": 1133,
    "start_time": "2022-11-16T15:02:54.284Z"
   },
   {
    "duration": 3,
    "start_time": "2022-11-16T15:02:55.419Z"
   },
   {
    "duration": 17,
    "start_time": "2022-11-16T15:02:55.424Z"
   },
   {
    "duration": 20,
    "start_time": "2022-11-16T15:02:55.443Z"
   },
   {
    "duration": 14,
    "start_time": "2022-11-16T15:02:55.465Z"
   },
   {
    "duration": 6,
    "start_time": "2022-11-16T15:02:57.442Z"
   },
   {
    "duration": 6,
    "start_time": "2022-11-16T15:04:06.091Z"
   },
   {
    "duration": 8,
    "start_time": "2022-11-16T15:04:13.649Z"
   },
   {
    "duration": 29,
    "start_time": "2022-11-16T15:04:22.207Z"
   },
   {
    "duration": 8,
    "start_time": "2022-11-16T15:04:52.076Z"
   },
   {
    "duration": 8,
    "start_time": "2022-11-16T15:04:55.717Z"
   },
   {
    "duration": 28,
    "start_time": "2022-11-16T15:05:11.970Z"
   },
   {
    "duration": 81,
    "start_time": "2022-11-16T15:13:19.624Z"
   },
   {
    "duration": 67,
    "start_time": "2022-11-16T15:13:43.608Z"
   },
   {
    "duration": 127,
    "start_time": "2022-11-16T15:20:21.952Z"
   },
   {
    "duration": 110,
    "start_time": "2022-11-16T15:20:39.709Z"
   },
   {
    "duration": 27,
    "start_time": "2022-11-16T15:21:33.349Z"
   },
   {
    "duration": 16,
    "start_time": "2022-11-16T15:21:42.337Z"
   },
   {
    "duration": 17,
    "start_time": "2022-11-16T15:22:21.947Z"
   },
   {
    "duration": 56,
    "start_time": "2022-11-16T15:22:28.677Z"
   },
   {
    "duration": 57,
    "start_time": "2022-11-16T15:22:43.706Z"
   },
   {
    "duration": 55,
    "start_time": "2022-11-16T15:22:51.431Z"
   },
   {
    "duration": 105,
    "start_time": "2022-11-16T15:23:06.684Z"
   },
   {
    "duration": 374,
    "start_time": "2022-11-16T15:23:43.343Z"
   },
   {
    "duration": 74,
    "start_time": "2022-11-16T15:23:43.720Z"
   },
   {
    "duration": 14,
    "start_time": "2022-11-16T15:23:43.796Z"
   },
   {
    "duration": 14,
    "start_time": "2022-11-16T15:23:43.811Z"
   },
   {
    "duration": 963,
    "start_time": "2022-11-16T15:23:43.827Z"
   },
   {
    "duration": 4,
    "start_time": "2022-11-16T15:23:44.791Z"
   },
   {
    "duration": 17,
    "start_time": "2022-11-16T15:23:44.796Z"
   },
   {
    "duration": 24,
    "start_time": "2022-11-16T15:23:44.815Z"
   },
   {
    "duration": 18,
    "start_time": "2022-11-16T15:23:44.840Z"
   },
   {
    "duration": 125,
    "start_time": "2022-11-16T15:23:51.123Z"
   },
   {
    "duration": 103,
    "start_time": "2022-11-16T15:25:02.842Z"
   },
   {
    "duration": 71,
    "start_time": "2022-11-16T15:25:13.636Z"
   },
   {
    "duration": 52,
    "start_time": "2022-11-16T15:26:15.133Z"
   },
   {
    "duration": 137,
    "start_time": "2022-11-16T15:26:42.226Z"
   },
   {
    "duration": 4,
    "start_time": "2022-11-16T15:27:07.749Z"
   },
   {
    "duration": 70,
    "start_time": "2022-11-16T15:27:21.708Z"
   },
   {
    "duration": 211,
    "start_time": "2022-11-16T15:30:06.544Z"
   },
   {
    "duration": 69,
    "start_time": "2022-11-16T15:30:20.896Z"
   },
   {
    "duration": 77,
    "start_time": "2022-11-16T15:31:20.328Z"
   },
   {
    "duration": 5195,
    "start_time": "2022-11-16T15:31:25.108Z"
   },
   {
    "duration": 24,
    "start_time": "2022-11-16T15:32:43.360Z"
   },
   {
    "duration": 281,
    "start_time": "2022-11-16T15:32:56.775Z"
   },
   {
    "duration": 208,
    "start_time": "2022-11-16T15:33:05.635Z"
   },
   {
    "duration": 19,
    "start_time": "2022-11-16T15:33:32.680Z"
   },
   {
    "duration": 25,
    "start_time": "2022-11-16T15:33:44.734Z"
   },
   {
    "duration": 17,
    "start_time": "2022-11-16T15:34:04.144Z"
   },
   {
    "duration": 15,
    "start_time": "2022-11-16T15:38:39.582Z"
   },
   {
    "duration": 17,
    "start_time": "2022-11-16T15:39:21.693Z"
   },
   {
    "duration": 16,
    "start_time": "2022-11-16T15:40:14.748Z"
   },
   {
    "duration": 18,
    "start_time": "2022-11-16T15:40:35.210Z"
   },
   {
    "duration": 19,
    "start_time": "2022-11-16T15:40:43.372Z"
   },
   {
    "duration": 16,
    "start_time": "2022-11-16T15:41:02.302Z"
   },
   {
    "duration": 25,
    "start_time": "2022-11-16T15:41:25.303Z"
   },
   {
    "duration": 25,
    "start_time": "2022-11-16T15:43:51.902Z"
   },
   {
    "duration": 736,
    "start_time": "2022-11-16T15:44:32.682Z"
   },
   {
    "duration": 22,
    "start_time": "2022-11-16T15:44:40.843Z"
   },
   {
    "duration": 283,
    "start_time": "2022-11-16T15:48:14.019Z"
   },
   {
    "duration": 946,
    "start_time": "2022-11-16T15:49:02.580Z"
   },
   {
    "duration": 125,
    "start_time": "2022-11-16T15:49:42.941Z"
   },
   {
    "duration": 21,
    "start_time": "2022-11-16T15:49:49.268Z"
   },
   {
    "duration": 392,
    "start_time": "2022-11-16T15:49:59.843Z"
   },
   {
    "duration": 77,
    "start_time": "2022-11-16T15:50:00.237Z"
   },
   {
    "duration": 14,
    "start_time": "2022-11-16T15:50:00.316Z"
   },
   {
    "duration": 37,
    "start_time": "2022-11-16T15:50:00.332Z"
   },
   {
    "duration": 1059,
    "start_time": "2022-11-16T15:50:00.371Z"
   },
   {
    "duration": 4,
    "start_time": "2022-11-16T15:50:01.432Z"
   },
   {
    "duration": 15,
    "start_time": "2022-11-16T15:50:01.438Z"
   },
   {
    "duration": 40,
    "start_time": "2022-11-16T15:50:01.455Z"
   },
   {
    "duration": 37,
    "start_time": "2022-11-16T15:50:01.497Z"
   },
   {
    "duration": 18,
    "start_time": "2022-11-16T15:50:03.602Z"
   },
   {
    "duration": 22,
    "start_time": "2022-11-16T15:50:16.907Z"
   },
   {
    "duration": 24,
    "start_time": "2022-11-16T15:50:34.800Z"
   },
   {
    "duration": 91,
    "start_time": "2022-11-16T15:50:58.614Z"
   },
   {
    "duration": 449,
    "start_time": "2022-11-16T15:51:17.685Z"
   },
   {
    "duration": 84,
    "start_time": "2022-11-16T15:51:18.137Z"
   },
   {
    "duration": 17,
    "start_time": "2022-11-16T15:51:18.224Z"
   },
   {
    "duration": 17,
    "start_time": "2022-11-16T15:51:18.243Z"
   },
   {
    "duration": 1138,
    "start_time": "2022-11-16T15:51:18.263Z"
   },
   {
    "duration": 10,
    "start_time": "2022-11-16T15:51:19.403Z"
   },
   {
    "duration": 5,
    "start_time": "2022-11-16T15:51:19.415Z"
   },
   {
    "duration": 13,
    "start_time": "2022-11-16T15:51:19.422Z"
   },
   {
    "duration": 12,
    "start_time": "2022-11-16T15:51:19.437Z"
   },
   {
    "duration": 105,
    "start_time": "2022-11-16T15:51:19.451Z"
   },
   {
    "duration": 29,
    "start_time": "2022-11-16T15:51:20.147Z"
   },
   {
    "duration": 17,
    "start_time": "2022-11-16T15:51:25.171Z"
   },
   {
    "duration": 7,
    "start_time": "2022-11-16T15:51:34.896Z"
   },
   {
    "duration": 17,
    "start_time": "2022-11-16T15:51:38.087Z"
   },
   {
    "duration": 24,
    "start_time": "2022-11-16T15:51:45.282Z"
   },
   {
    "duration": 219,
    "start_time": "2022-11-16T15:56:30.418Z"
   },
   {
    "duration": 42,
    "start_time": "2022-11-16T15:57:05.081Z"
   },
   {
    "duration": 230,
    "start_time": "2022-11-16T15:57:35.720Z"
   },
   {
    "duration": 46,
    "start_time": "2022-11-16T15:58:45.292Z"
   },
   {
    "duration": 1076,
    "start_time": "2022-11-16T15:58:49.584Z"
   },
   {
    "duration": 993,
    "start_time": "2022-11-16T15:59:24.000Z"
   },
   {
    "duration": 1101,
    "start_time": "2022-11-16T15:59:36.280Z"
   },
   {
    "duration": 1059,
    "start_time": "2022-11-16T15:59:48.013Z"
   },
   {
    "duration": 1076,
    "start_time": "2022-11-16T16:00:15.976Z"
   },
   {
    "duration": 1069,
    "start_time": "2022-11-16T16:01:05.667Z"
   },
   {
    "duration": 1081,
    "start_time": "2022-11-16T16:01:58.288Z"
   },
   {
    "duration": 1025,
    "start_time": "2022-11-16T16:02:03.134Z"
   },
   {
    "duration": 208,
    "start_time": "2022-11-16T16:03:13.115Z"
   },
   {
    "duration": 40,
    "start_time": "2022-11-16T16:08:19.913Z"
   },
   {
    "duration": 541,
    "start_time": "2022-11-16T16:08:25.043Z"
   },
   {
    "duration": 20,
    "start_time": "2022-11-16T16:14:12.073Z"
   },
   {
    "duration": 22,
    "start_time": "2022-11-16T16:14:22.799Z"
   },
   {
    "duration": 20,
    "start_time": "2022-11-16T16:15:51.287Z"
   },
   {
    "duration": 17,
    "start_time": "2022-11-16T16:16:01.912Z"
   },
   {
    "duration": 42,
    "start_time": "2022-11-16T16:16:12.800Z"
   },
   {
    "duration": 227,
    "start_time": "2022-11-16T16:16:18.817Z"
   },
   {
    "duration": 208,
    "start_time": "2022-11-16T16:21:32.888Z"
   },
   {
    "duration": 37,
    "start_time": "2022-11-16T16:58:47.856Z"
   },
   {
    "duration": 20,
    "start_time": "2022-11-16T16:59:25.077Z"
   },
   {
    "duration": 19,
    "start_time": "2022-11-16T16:59:50.211Z"
   },
   {
    "duration": 36,
    "start_time": "2022-11-16T17:00:02.889Z"
   },
   {
    "duration": 48,
    "start_time": "2022-11-16T17:00:36.834Z"
   },
   {
    "duration": 438,
    "start_time": "2022-11-16T17:01:01.600Z"
   },
   {
    "duration": 81,
    "start_time": "2022-11-16T17:01:02.040Z"
   },
   {
    "duration": 15,
    "start_time": "2022-11-16T17:01:02.122Z"
   },
   {
    "duration": 36,
    "start_time": "2022-11-16T17:01:02.138Z"
   },
   {
    "duration": 1094,
    "start_time": "2022-11-16T17:01:02.176Z"
   },
   {
    "duration": 3,
    "start_time": "2022-11-16T17:01:03.272Z"
   },
   {
    "duration": 43,
    "start_time": "2022-11-16T17:01:03.277Z"
   },
   {
    "duration": 14,
    "start_time": "2022-11-16T17:01:03.322Z"
   },
   {
    "duration": 35,
    "start_time": "2022-11-16T17:01:03.338Z"
   },
   {
    "duration": 41,
    "start_time": "2022-11-16T17:01:10.592Z"
   },
   {
    "duration": 42,
    "start_time": "2022-11-16T17:01:18.976Z"
   },
   {
    "duration": 38,
    "start_time": "2022-11-16T17:01:29.285Z"
   },
   {
    "duration": 453,
    "start_time": "2022-11-16T17:02:00.486Z"
   },
   {
    "duration": 79,
    "start_time": "2022-11-16T17:02:00.941Z"
   },
   {
    "duration": 14,
    "start_time": "2022-11-16T17:02:01.022Z"
   },
   {
    "duration": 58,
    "start_time": "2022-11-16T17:02:01.037Z"
   },
   {
    "duration": 1124,
    "start_time": "2022-11-16T17:02:01.098Z"
   },
   {
    "duration": 4,
    "start_time": "2022-11-16T17:02:02.224Z"
   },
   {
    "duration": 87,
    "start_time": "2022-11-16T17:02:02.230Z"
   },
   {
    "duration": 65,
    "start_time": "2022-11-16T17:02:02.319Z"
   },
   {
    "duration": 54,
    "start_time": "2022-11-16T17:02:02.386Z"
   },
   {
    "duration": 39,
    "start_time": "2022-11-16T17:02:08.384Z"
   },
   {
    "duration": 41,
    "start_time": "2022-11-16T17:02:55.000Z"
   },
   {
    "duration": 42,
    "start_time": "2022-11-16T17:03:04.593Z"
   },
   {
    "duration": 27,
    "start_time": "2022-11-16T17:03:28.753Z"
   },
   {
    "duration": 37,
    "start_time": "2022-11-16T17:06:25.824Z"
   },
   {
    "duration": 24,
    "start_time": "2022-11-16T17:06:39.402Z"
   },
   {
    "duration": 39,
    "start_time": "2022-11-16T17:07:33.251Z"
   },
   {
    "duration": 40,
    "start_time": "2022-11-16T17:07:41.197Z"
   },
   {
    "duration": 14,
    "start_time": "2022-11-16T17:11:48.155Z"
   },
   {
    "duration": 10,
    "start_time": "2022-11-16T17:11:59.309Z"
   },
   {
    "duration": 10,
    "start_time": "2022-11-16T17:12:28.284Z"
   },
   {
    "duration": 10,
    "start_time": "2022-11-16T17:13:24.108Z"
   },
   {
    "duration": 11,
    "start_time": "2022-11-16T17:13:35.880Z"
   },
   {
    "duration": 51,
    "start_time": "2022-11-16T17:13:51.162Z"
   },
   {
    "duration": 10,
    "start_time": "2022-11-16T17:14:01.885Z"
   },
   {
    "duration": 10,
    "start_time": "2022-11-16T17:14:13.107Z"
   },
   {
    "duration": 57,
    "start_time": "2022-11-16T17:16:10.008Z"
   },
   {
    "duration": 67,
    "start_time": "2022-11-16T17:16:17.184Z"
   },
   {
    "duration": 12,
    "start_time": "2022-11-16T17:16:23.515Z"
   },
   {
    "duration": 75,
    "start_time": "2022-11-16T17:16:33.587Z"
   },
   {
    "duration": 400,
    "start_time": "2022-11-16T17:17:03.643Z"
   },
   {
    "duration": 81,
    "start_time": "2022-11-16T17:17:04.045Z"
   },
   {
    "duration": 15,
    "start_time": "2022-11-16T17:17:04.127Z"
   },
   {
    "duration": 25,
    "start_time": "2022-11-16T17:17:04.144Z"
   },
   {
    "duration": 1087,
    "start_time": "2022-11-16T17:17:04.172Z"
   },
   {
    "duration": 4,
    "start_time": "2022-11-16T17:17:05.261Z"
   },
   {
    "duration": 24,
    "start_time": "2022-11-16T17:17:05.267Z"
   },
   {
    "duration": 21,
    "start_time": "2022-11-16T17:17:05.293Z"
   },
   {
    "duration": 14,
    "start_time": "2022-11-16T17:17:05.315Z"
   },
   {
    "duration": 23,
    "start_time": "2022-11-16T17:17:05.331Z"
   },
   {
    "duration": 417,
    "start_time": "2022-11-16T17:17:40.510Z"
   },
   {
    "duration": 78,
    "start_time": "2022-11-16T17:17:40.929Z"
   },
   {
    "duration": 14,
    "start_time": "2022-11-16T17:17:41.009Z"
   },
   {
    "duration": 15,
    "start_time": "2022-11-16T17:17:41.025Z"
   },
   {
    "duration": 1061,
    "start_time": "2022-11-16T17:17:41.042Z"
   },
   {
    "duration": 4,
    "start_time": "2022-11-16T17:17:42.105Z"
   },
   {
    "duration": 12,
    "start_time": "2022-11-16T17:17:42.111Z"
   },
   {
    "duration": 13,
    "start_time": "2022-11-16T17:17:42.125Z"
   },
   {
    "duration": 16,
    "start_time": "2022-11-16T17:17:48.932Z"
   },
   {
    "duration": 21,
    "start_time": "2022-11-16T17:17:51.365Z"
   },
   {
    "duration": 80,
    "start_time": "2022-11-16T17:18:27.472Z"
   },
   {
    "duration": 393,
    "start_time": "2022-11-16T17:19:20.125Z"
   },
   {
    "duration": 76,
    "start_time": "2022-11-16T17:19:20.520Z"
   },
   {
    "duration": 15,
    "start_time": "2022-11-16T17:19:20.597Z"
   },
   {
    "duration": 16,
    "start_time": "2022-11-16T17:19:20.613Z"
   },
   {
    "duration": 1023,
    "start_time": "2022-11-16T17:19:20.631Z"
   },
   {
    "duration": 4,
    "start_time": "2022-11-16T17:19:21.656Z"
   },
   {
    "duration": 17,
    "start_time": "2022-11-16T17:19:21.662Z"
   },
   {
    "duration": 19,
    "start_time": "2022-11-16T17:19:21.681Z"
   },
   {
    "duration": 13,
    "start_time": "2022-11-16T17:19:21.702Z"
   },
   {
    "duration": 13,
    "start_time": "2022-11-16T17:19:27.423Z"
   },
   {
    "duration": 430,
    "start_time": "2022-11-16T17:20:31.601Z"
   },
   {
    "duration": 87,
    "start_time": "2022-11-16T17:20:32.033Z"
   },
   {
    "duration": 14,
    "start_time": "2022-11-16T17:20:32.122Z"
   },
   {
    "duration": 36,
    "start_time": "2022-11-16T17:20:32.138Z"
   },
   {
    "duration": 1052,
    "start_time": "2022-11-16T17:20:32.176Z"
   },
   {
    "duration": 3,
    "start_time": "2022-11-16T17:20:33.229Z"
   },
   {
    "duration": 28,
    "start_time": "2022-11-16T17:20:33.234Z"
   },
   {
    "duration": 24,
    "start_time": "2022-11-16T17:20:33.264Z"
   },
   {
    "duration": 35,
    "start_time": "2022-11-16T17:20:33.290Z"
   },
   {
    "duration": 13,
    "start_time": "2022-11-16T17:21:11.003Z"
   },
   {
    "duration": 379,
    "start_time": "2022-11-16T17:22:19.344Z"
   },
   {
    "duration": 80,
    "start_time": "2022-11-16T17:22:19.725Z"
   },
   {
    "duration": 14,
    "start_time": "2022-11-16T17:22:19.807Z"
   },
   {
    "duration": 17,
    "start_time": "2022-11-16T17:22:19.822Z"
   },
   {
    "duration": 1042,
    "start_time": "2022-11-16T17:22:19.841Z"
   },
   {
    "duration": 4,
    "start_time": "2022-11-16T17:22:20.885Z"
   },
   {
    "duration": 6,
    "start_time": "2022-11-16T17:22:20.891Z"
   },
   {
    "duration": 25,
    "start_time": "2022-11-16T17:22:20.899Z"
   },
   {
    "duration": 10,
    "start_time": "2022-11-16T17:22:20.926Z"
   },
   {
    "duration": 12,
    "start_time": "2022-11-16T17:22:29.387Z"
   },
   {
    "duration": 29,
    "start_time": "2022-11-16T17:22:39.901Z"
   },
   {
    "duration": 75,
    "start_time": "2022-11-16T17:23:01.945Z"
   },
   {
    "duration": 17,
    "start_time": "2022-11-16T17:23:07.628Z"
   },
   {
    "duration": 22,
    "start_time": "2022-11-16T17:23:37.639Z"
   },
   {
    "duration": 36,
    "start_time": "2022-11-16T17:26:05.568Z"
   },
   {
    "duration": 61,
    "start_time": "2022-11-16T17:31:20.280Z"
   },
   {
    "duration": 40,
    "start_time": "2022-11-16T17:31:30.785Z"
   },
   {
    "duration": 37,
    "start_time": "2022-11-16T17:32:04.992Z"
   },
   {
    "duration": 23,
    "start_time": "2022-11-16T17:32:17.883Z"
   },
   {
    "duration": 450,
    "start_time": "2022-11-16T17:32:28.989Z"
   },
   {
    "duration": 83,
    "start_time": "2022-11-16T17:32:29.441Z"
   },
   {
    "duration": 16,
    "start_time": "2022-11-16T17:32:29.526Z"
   },
   {
    "duration": 17,
    "start_time": "2022-11-16T17:32:29.544Z"
   },
   {
    "duration": 1174,
    "start_time": "2022-11-16T17:32:29.564Z"
   },
   {
    "duration": 4,
    "start_time": "2022-11-16T17:32:30.740Z"
   },
   {
    "duration": 35,
    "start_time": "2022-11-16T17:32:30.745Z"
   },
   {
    "duration": 37,
    "start_time": "2022-11-16T17:32:30.782Z"
   },
   {
    "duration": 21,
    "start_time": "2022-11-16T17:32:30.821Z"
   },
   {
    "duration": 41,
    "start_time": "2022-11-16T17:32:38.730Z"
   },
   {
    "duration": 32,
    "start_time": "2022-11-16T17:35:47.949Z"
   },
   {
    "duration": 34,
    "start_time": "2022-11-16T17:37:22.014Z"
   },
   {
    "duration": 40,
    "start_time": "2022-11-16T17:38:03.151Z"
   },
   {
    "duration": 19,
    "start_time": "2022-11-16T17:39:10.443Z"
   },
   {
    "duration": 444,
    "start_time": "2022-11-16T17:39:27.323Z"
   },
   {
    "duration": 80,
    "start_time": "2022-11-16T17:39:27.769Z"
   },
   {
    "duration": 15,
    "start_time": "2022-11-16T17:39:27.850Z"
   },
   {
    "duration": 29,
    "start_time": "2022-11-16T17:39:27.867Z"
   },
   {
    "duration": 1119,
    "start_time": "2022-11-16T17:39:27.898Z"
   },
   {
    "duration": 5,
    "start_time": "2022-11-16T17:39:29.019Z"
   },
   {
    "duration": 20,
    "start_time": "2022-11-16T17:39:29.027Z"
   },
   {
    "duration": 31,
    "start_time": "2022-11-16T17:39:29.049Z"
   },
   {
    "duration": 15,
    "start_time": "2022-11-16T17:39:29.081Z"
   },
   {
    "duration": 47,
    "start_time": "2022-11-16T17:39:29.098Z"
   },
   {
    "duration": 54,
    "start_time": "2022-11-16T17:40:48.082Z"
   },
   {
    "duration": 432,
    "start_time": "2022-11-16T17:40:55.285Z"
   },
   {
    "duration": 79,
    "start_time": "2022-11-16T17:40:55.719Z"
   },
   {
    "duration": 14,
    "start_time": "2022-11-16T17:40:55.800Z"
   },
   {
    "duration": 22,
    "start_time": "2022-11-16T17:40:55.815Z"
   },
   {
    "duration": 1106,
    "start_time": "2022-11-16T17:40:55.840Z"
   },
   {
    "duration": 5,
    "start_time": "2022-11-16T17:40:56.948Z"
   },
   {
    "duration": 5,
    "start_time": "2022-11-16T17:40:56.955Z"
   },
   {
    "duration": 15,
    "start_time": "2022-11-16T17:40:56.962Z"
   },
   {
    "duration": 14,
    "start_time": "2022-11-16T17:40:56.979Z"
   },
   {
    "duration": 57,
    "start_time": "2022-11-16T17:40:56.995Z"
   },
   {
    "duration": 35,
    "start_time": "2022-11-16T17:40:59.168Z"
   },
   {
    "duration": 14,
    "start_time": "2022-11-16T17:43:06.777Z"
   },
   {
    "duration": 371,
    "start_time": "2022-11-16T17:43:29.670Z"
   },
   {
    "duration": 84,
    "start_time": "2022-11-16T17:43:30.043Z"
   },
   {
    "duration": 15,
    "start_time": "2022-11-16T17:43:30.129Z"
   },
   {
    "duration": 51,
    "start_time": "2022-11-16T17:43:30.146Z"
   },
   {
    "duration": 1145,
    "start_time": "2022-11-16T17:43:30.199Z"
   },
   {
    "duration": 4,
    "start_time": "2022-11-16T17:43:31.346Z"
   },
   {
    "duration": 37,
    "start_time": "2022-11-16T17:43:31.352Z"
   },
   {
    "duration": 29,
    "start_time": "2022-11-16T17:43:31.392Z"
   },
   {
    "duration": 45,
    "start_time": "2022-11-16T17:43:31.422Z"
   },
   {
    "duration": 26,
    "start_time": "2022-11-16T17:43:40.373Z"
   },
   {
    "duration": 9,
    "start_time": "2022-11-16T17:43:58.126Z"
   },
   {
    "duration": 9,
    "start_time": "2022-11-16T17:44:18.345Z"
   },
   {
    "duration": 26,
    "start_time": "2022-11-16T17:47:31.782Z"
   },
   {
    "duration": 431,
    "start_time": "2022-11-16T17:48:28.580Z"
   },
   {
    "duration": 90,
    "start_time": "2022-11-16T17:48:29.015Z"
   },
   {
    "duration": 23,
    "start_time": "2022-11-16T17:48:29.108Z"
   },
   {
    "duration": 21,
    "start_time": "2022-11-16T17:48:29.133Z"
   },
   {
    "duration": 1130,
    "start_time": "2022-11-16T17:48:29.157Z"
   },
   {
    "duration": 4,
    "start_time": "2022-11-16T17:48:30.288Z"
   },
   {
    "duration": 29,
    "start_time": "2022-11-16T17:48:30.294Z"
   },
   {
    "duration": 38,
    "start_time": "2022-11-16T17:48:30.325Z"
   },
   {
    "duration": 32,
    "start_time": "2022-11-16T17:48:30.365Z"
   },
   {
    "duration": 22,
    "start_time": "2022-11-16T17:48:32.168Z"
   },
   {
    "duration": 383,
    "start_time": "2022-11-16T17:48:49.269Z"
   },
   {
    "duration": 76,
    "start_time": "2022-11-16T17:48:49.653Z"
   },
   {
    "duration": 14,
    "start_time": "2022-11-16T17:48:49.731Z"
   },
   {
    "duration": 15,
    "start_time": "2022-11-16T17:48:49.746Z"
   },
   {
    "duration": 1059,
    "start_time": "2022-11-16T17:48:49.763Z"
   },
   {
    "duration": 4,
    "start_time": "2022-11-16T17:48:50.824Z"
   },
   {
    "duration": 16,
    "start_time": "2022-11-16T17:48:50.830Z"
   },
   {
    "duration": 23,
    "start_time": "2022-11-16T17:48:50.849Z"
   },
   {
    "duration": 14,
    "start_time": "2022-11-16T17:48:50.874Z"
   },
   {
    "duration": 23,
    "start_time": "2022-11-16T17:49:01.629Z"
   },
   {
    "duration": 10,
    "start_time": "2022-11-16T17:50:12.477Z"
   },
   {
    "duration": 25,
    "start_time": "2022-11-16T17:53:10.011Z"
   },
   {
    "duration": 9,
    "start_time": "2022-11-16T17:54:36.580Z"
   },
   {
    "duration": 7,
    "start_time": "2022-11-16T17:54:42.933Z"
   },
   {
    "duration": 78,
    "start_time": "2022-11-16T17:57:39.066Z"
   },
   {
    "duration": 9,
    "start_time": "2022-11-16T17:58:40.805Z"
   },
   {
    "duration": 9,
    "start_time": "2022-11-16T18:00:28.189Z"
   },
   {
    "duration": 14,
    "start_time": "2022-11-16T18:00:36.363Z"
   },
   {
    "duration": 15,
    "start_time": "2022-11-16T18:01:46.036Z"
   },
   {
    "duration": 15,
    "start_time": "2022-11-16T18:02:04.828Z"
   },
   {
    "duration": 15,
    "start_time": "2022-11-16T18:02:22.515Z"
   },
   {
    "duration": 13,
    "start_time": "2022-11-16T18:02:52.772Z"
   },
   {
    "duration": 411,
    "start_time": "2022-11-16T18:03:13.923Z"
   },
   {
    "duration": 92,
    "start_time": "2022-11-16T18:03:14.336Z"
   },
   {
    "duration": 16,
    "start_time": "2022-11-16T18:03:14.430Z"
   },
   {
    "duration": 29,
    "start_time": "2022-11-16T18:03:14.448Z"
   },
   {
    "duration": 1130,
    "start_time": "2022-11-16T18:03:14.480Z"
   },
   {
    "duration": 3,
    "start_time": "2022-11-16T18:03:15.613Z"
   },
   {
    "duration": 11,
    "start_time": "2022-11-16T18:03:15.617Z"
   },
   {
    "duration": 32,
    "start_time": "2022-11-16T18:03:15.630Z"
   },
   {
    "duration": 43,
    "start_time": "2022-11-16T18:03:15.664Z"
   },
   {
    "duration": 38,
    "start_time": "2022-11-16T18:03:15.709Z"
   },
   {
    "duration": 10,
    "start_time": "2022-11-16T18:03:15.749Z"
   },
   {
    "duration": 16,
    "start_time": "2022-11-16T18:03:27.033Z"
   },
   {
    "duration": 79,
    "start_time": "2022-11-16T18:04:23.069Z"
   },
   {
    "duration": 14,
    "start_time": "2022-11-16T18:04:58.990Z"
   },
   {
    "duration": 19,
    "start_time": "2022-11-16T18:05:11.798Z"
   },
   {
    "duration": 28,
    "start_time": "2022-11-16T18:05:42.027Z"
   },
   {
    "duration": 24,
    "start_time": "2022-11-16T18:06:09.368Z"
   },
   {
    "duration": 785,
    "start_time": "2022-11-16T18:10:48.485Z"
   },
   {
    "duration": 5,
    "start_time": "2022-11-16T18:11:42.247Z"
   },
   {
    "duration": 4,
    "start_time": "2022-11-16T18:12:51.987Z"
   },
   {
    "duration": 4,
    "start_time": "2022-11-16T18:13:02.691Z"
   },
   {
    "duration": 5,
    "start_time": "2022-11-16T18:13:08.334Z"
   },
   {
    "duration": 5,
    "start_time": "2022-11-16T18:13:18.149Z"
   },
   {
    "duration": 416,
    "start_time": "2022-11-17T03:37:55.632Z"
   },
   {
    "duration": 221,
    "start_time": "2022-11-17T03:37:57.565Z"
   },
   {
    "duration": 13,
    "start_time": "2022-11-17T03:37:59.971Z"
   },
   {
    "duration": 1141,
    "start_time": "2022-11-17T03:38:03.025Z"
   },
   {
    "duration": 4,
    "start_time": "2022-11-17T03:38:06.899Z"
   },
   {
    "duration": 9,
    "start_time": "2022-11-17T03:38:13.367Z"
   },
   {
    "duration": 12,
    "start_time": "2022-11-17T03:38:15.784Z"
   },
   {
    "duration": 77,
    "start_time": "2022-11-17T03:39:04.527Z"
   },
   {
    "duration": 39,
    "start_time": "2022-11-17T03:39:43.363Z"
   },
   {
    "duration": 30,
    "start_time": "2022-11-17T03:40:52.070Z"
   },
   {
    "duration": 109,
    "start_time": "2022-11-17T03:41:38.647Z"
   },
   {
    "duration": 363,
    "start_time": "2022-11-17T10:42:14.460Z"
   },
   {
    "duration": 76,
    "start_time": "2022-11-17T10:42:16.005Z"
   },
   {
    "duration": 63,
    "start_time": "2022-11-17T10:42:29.095Z"
   },
   {
    "duration": 16,
    "start_time": "2022-11-17T10:42:34.682Z"
   },
   {
    "duration": 14,
    "start_time": "2022-11-17T10:42:38.087Z"
   },
   {
    "duration": 986,
    "start_time": "2022-11-17T10:42:40.990Z"
   },
   {
    "duration": 3,
    "start_time": "2022-11-17T10:43:10.194Z"
   },
   {
    "duration": 11,
    "start_time": "2022-11-17T10:43:23.061Z"
   },
   {
    "duration": 11,
    "start_time": "2022-11-17T10:43:26.932Z"
   },
   {
    "duration": 127,
    "start_time": "2022-11-17T10:44:50.876Z"
   },
   {
    "duration": 100,
    "start_time": "2022-11-17T10:46:18.465Z"
   },
   {
    "duration": 9,
    "start_time": "2022-11-17T10:46:35.120Z"
   },
   {
    "duration": 71,
    "start_time": "2022-11-17T10:49:16.944Z"
   },
   {
    "duration": 372,
    "start_time": "2022-11-17T10:49:31.582Z"
   },
   {
    "duration": 85,
    "start_time": "2022-11-17T10:49:31.956Z"
   },
   {
    "duration": 16,
    "start_time": "2022-11-17T10:49:32.043Z"
   },
   {
    "duration": 16,
    "start_time": "2022-11-17T10:49:32.061Z"
   },
   {
    "duration": 1106,
    "start_time": "2022-11-17T10:49:32.079Z"
   },
   {
    "duration": 3,
    "start_time": "2022-11-17T10:49:33.188Z"
   },
   {
    "duration": 21,
    "start_time": "2022-11-17T10:49:33.193Z"
   },
   {
    "duration": 19,
    "start_time": "2022-11-17T10:49:33.216Z"
   },
   {
    "duration": 133,
    "start_time": "2022-11-17T10:49:33.237Z"
   },
   {
    "duration": 199,
    "start_time": "2022-11-17T10:49:33.372Z"
   },
   {
    "duration": 9,
    "start_time": "2022-11-17T10:49:33.573Z"
   },
   {
    "duration": 10,
    "start_time": "2022-11-17T10:49:33.584Z"
   },
   {
    "duration": 22,
    "start_time": "2022-11-17T10:49:33.596Z"
   },
   {
    "duration": 33,
    "start_time": "2022-11-17T10:49:33.620Z"
   },
   {
    "duration": 5,
    "start_time": "2022-11-17T10:49:33.654Z"
   },
   {
    "duration": 7,
    "start_time": "2022-11-17T10:49:33.660Z"
   },
   {
    "duration": 377,
    "start_time": "2022-11-17T10:51:51.974Z"
   },
   {
    "duration": 90,
    "start_time": "2022-11-17T10:51:52.353Z"
   },
   {
    "duration": 23,
    "start_time": "2022-11-17T10:51:52.445Z"
   },
   {
    "duration": 32,
    "start_time": "2022-11-17T10:51:52.471Z"
   },
   {
    "duration": 1018,
    "start_time": "2022-11-17T10:51:52.505Z"
   },
   {
    "duration": 10,
    "start_time": "2022-11-17T10:51:53.525Z"
   },
   {
    "duration": 15,
    "start_time": "2022-11-17T10:51:53.536Z"
   },
   {
    "duration": 19,
    "start_time": "2022-11-17T10:51:53.552Z"
   },
   {
    "duration": 141,
    "start_time": "2022-11-17T10:51:53.572Z"
   },
   {
    "duration": 8,
    "start_time": "2022-11-17T10:51:53.715Z"
   },
   {
    "duration": 13,
    "start_time": "2022-11-17T10:51:53.736Z"
   },
   {
    "duration": 25,
    "start_time": "2022-11-17T10:51:53.750Z"
   },
   {
    "duration": 23,
    "start_time": "2022-11-17T10:51:53.777Z"
   },
   {
    "duration": 5,
    "start_time": "2022-11-17T10:51:53.801Z"
   },
   {
    "duration": 29,
    "start_time": "2022-11-17T10:51:53.808Z"
   },
   {
    "duration": 135,
    "start_time": "2022-11-17T10:52:41.844Z"
   },
   {
    "duration": 360,
    "start_time": "2022-11-17T10:52:56.278Z"
   },
   {
    "duration": 92,
    "start_time": "2022-11-17T10:52:56.640Z"
   },
   {
    "duration": 16,
    "start_time": "2022-11-17T10:52:56.734Z"
   },
   {
    "duration": 32,
    "start_time": "2022-11-17T10:52:56.753Z"
   },
   {
    "duration": 966,
    "start_time": "2022-11-17T10:52:56.787Z"
   },
   {
    "duration": 4,
    "start_time": "2022-11-17T10:52:57.755Z"
   },
   {
    "duration": 40,
    "start_time": "2022-11-17T10:52:57.760Z"
   },
   {
    "duration": 30,
    "start_time": "2022-11-17T10:52:57.802Z"
   },
   {
    "duration": 129,
    "start_time": "2022-11-17T10:53:01.988Z"
   },
   {
    "duration": 402,
    "start_time": "2022-11-17T10:54:59.170Z"
   },
   {
    "duration": 77,
    "start_time": "2022-11-17T10:54:59.574Z"
   },
   {
    "duration": 15,
    "start_time": "2022-11-17T10:54:59.653Z"
   },
   {
    "duration": 24,
    "start_time": "2022-11-17T10:54:59.670Z"
   },
   {
    "duration": 1022,
    "start_time": "2022-11-17T10:54:59.696Z"
   },
   {
    "duration": 4,
    "start_time": "2022-11-17T10:55:00.720Z"
   },
   {
    "duration": 77,
    "start_time": "2022-11-17T10:55:00.736Z"
   },
   {
    "duration": 80,
    "start_time": "2022-11-17T10:55:00.815Z"
   },
   {
    "duration": 14,
    "start_time": "2022-11-17T10:55:23.643Z"
   },
   {
    "duration": 147,
    "start_time": "2022-11-17T10:57:41.894Z"
   },
   {
    "duration": 15,
    "start_time": "2022-11-17T10:57:58.942Z"
   },
   {
    "duration": 14,
    "start_time": "2022-11-17T10:59:10.895Z"
   },
   {
    "duration": 9,
    "start_time": "2022-11-17T11:00:03.643Z"
   },
   {
    "duration": 105,
    "start_time": "2022-11-17T11:01:11.111Z"
   },
   {
    "duration": 162,
    "start_time": "2022-11-17T11:05:41.117Z"
   },
   {
    "duration": 120,
    "start_time": "2022-11-17T11:06:48.155Z"
   },
   {
    "duration": 10,
    "start_time": "2022-11-17T11:21:25.611Z"
   },
   {
    "duration": 131,
    "start_time": "2022-11-17T11:23:32.884Z"
   },
   {
    "duration": 375,
    "start_time": "2022-11-17T11:24:31.969Z"
   },
   {
    "duration": 85,
    "start_time": "2022-11-17T11:24:32.345Z"
   },
   {
    "duration": 16,
    "start_time": "2022-11-17T11:24:32.433Z"
   },
   {
    "duration": 21,
    "start_time": "2022-11-17T11:24:32.451Z"
   },
   {
    "duration": 956,
    "start_time": "2022-11-17T11:24:32.474Z"
   },
   {
    "duration": 3,
    "start_time": "2022-11-17T11:24:33.435Z"
   },
   {
    "duration": 14,
    "start_time": "2022-11-17T11:24:33.440Z"
   },
   {
    "duration": 13,
    "start_time": "2022-11-17T11:24:33.456Z"
   },
   {
    "duration": 140,
    "start_time": "2022-11-17T11:24:33.470Z"
   },
   {
    "duration": 131,
    "start_time": "2022-11-17T11:24:33.612Z"
   },
   {
    "duration": 10,
    "start_time": "2022-11-17T11:24:33.745Z"
   },
   {
    "duration": 422,
    "start_time": "2022-11-17T11:26:11.774Z"
   },
   {
    "duration": 74,
    "start_time": "2022-11-17T11:26:12.199Z"
   },
   {
    "duration": 15,
    "start_time": "2022-11-17T11:26:12.274Z"
   },
   {
    "duration": 16,
    "start_time": "2022-11-17T11:26:12.291Z"
   },
   {
    "duration": 1099,
    "start_time": "2022-11-17T11:26:12.308Z"
   },
   {
    "duration": 3,
    "start_time": "2022-11-17T11:26:13.409Z"
   },
   {
    "duration": 26,
    "start_time": "2022-11-17T11:26:13.414Z"
   },
   {
    "duration": 17,
    "start_time": "2022-11-17T11:26:13.442Z"
   },
   {
    "duration": 120,
    "start_time": "2022-11-17T11:26:13.461Z"
   },
   {
    "duration": 130,
    "start_time": "2022-11-17T11:26:13.583Z"
   },
   {
    "duration": 9,
    "start_time": "2022-11-17T11:26:13.715Z"
   },
   {
    "duration": 4,
    "start_time": "2022-11-17T11:34:14.053Z"
   },
   {
    "duration": 24,
    "start_time": "2022-11-17T11:34:21.162Z"
   },
   {
    "duration": 5,
    "start_time": "2022-11-17T11:37:38.625Z"
   },
   {
    "duration": 22,
    "start_time": "2022-11-17T11:37:40.952Z"
   },
   {
    "duration": 2,
    "start_time": "2022-11-17T11:39:03.814Z"
   },
   {
    "duration": 5,
    "start_time": "2022-11-17T11:51:22.276Z"
   },
   {
    "duration": 118,
    "start_time": "2022-11-17T12:07:17.587Z"
   },
   {
    "duration": 23,
    "start_time": "2022-11-17T12:07:26.243Z"
   },
   {
    "duration": 22,
    "start_time": "2022-11-17T12:07:45.685Z"
   },
   {
    "duration": 5,
    "start_time": "2022-11-17T12:08:22.717Z"
   },
   {
    "duration": 21,
    "start_time": "2022-11-17T12:09:40.997Z"
   },
   {
    "duration": 15,
    "start_time": "2022-11-17T12:09:54.570Z"
   },
   {
    "duration": 12,
    "start_time": "2022-11-17T12:19:25.454Z"
   },
   {
    "duration": 24,
    "start_time": "2022-11-17T12:19:42.045Z"
   },
   {
    "duration": 76,
    "start_time": "2022-11-17T12:20:08.484Z"
   },
   {
    "duration": 9,
    "start_time": "2022-11-17T12:20:58.575Z"
   },
   {
    "duration": 5,
    "start_time": "2022-11-17T12:21:08.407Z"
   },
   {
    "duration": 5,
    "start_time": "2022-11-17T12:21:25.439Z"
   },
   {
    "duration": 16,
    "start_time": "2022-11-17T12:24:08.043Z"
   },
   {
    "duration": 17,
    "start_time": "2022-11-17T12:26:37.674Z"
   },
   {
    "duration": 16,
    "start_time": "2022-11-17T12:26:54.008Z"
   },
   {
    "duration": 51,
    "start_time": "2022-11-17T12:34:11.872Z"
   },
   {
    "duration": 44,
    "start_time": "2022-11-17T12:34:15.808Z"
   },
   {
    "duration": 46,
    "start_time": "2022-11-17T12:35:25.943Z"
   },
   {
    "duration": 55,
    "start_time": "2022-11-17T12:35:47.748Z"
   },
   {
    "duration": 269,
    "start_time": "2022-11-17T12:35:53.905Z"
   },
   {
    "duration": 51,
    "start_time": "2022-11-17T12:40:02.509Z"
   },
   {
    "duration": 260,
    "start_time": "2022-11-17T12:40:15.898Z"
   },
   {
    "duration": 43,
    "start_time": "2022-11-17T12:44:40.592Z"
   },
   {
    "duration": 150,
    "start_time": "2022-11-17T12:44:50.199Z"
   },
   {
    "duration": 19,
    "start_time": "2022-11-17T12:45:53.626Z"
   },
   {
    "duration": 10,
    "start_time": "2022-11-17T12:47:00.149Z"
   },
   {
    "duration": 17,
    "start_time": "2022-11-17T12:47:39.539Z"
   },
   {
    "duration": 16,
    "start_time": "2022-11-17T12:48:05.314Z"
   },
   {
    "duration": 62,
    "start_time": "2022-11-17T12:50:17.679Z"
   },
   {
    "duration": 16,
    "start_time": "2022-11-17T12:50:38.200Z"
   },
   {
    "duration": 681,
    "start_time": "2022-11-17T12:50:52.983Z"
   },
   {
    "duration": 51,
    "start_time": "2022-11-17T12:52:09.573Z"
   },
   {
    "duration": 21,
    "start_time": "2022-11-17T12:52:23.744Z"
   },
   {
    "duration": 18,
    "start_time": "2022-11-17T12:52:59.909Z"
   },
   {
    "duration": 23,
    "start_time": "2022-11-17T12:54:31.598Z"
   },
   {
    "duration": 24,
    "start_time": "2022-11-17T12:55:01.944Z"
   },
   {
    "duration": 23,
    "start_time": "2022-11-17T12:55:14.472Z"
   },
   {
    "duration": 453,
    "start_time": "2022-11-17T12:55:25.877Z"
   },
   {
    "duration": 21,
    "start_time": "2022-11-17T12:55:43.533Z"
   },
   {
    "duration": 142,
    "start_time": "2022-11-17T12:56:04.749Z"
   },
   {
    "duration": 20,
    "start_time": "2022-11-17T12:56:17.386Z"
   },
   {
    "duration": 438,
    "start_time": "2022-11-17T12:56:39.010Z"
   },
   {
    "duration": 227,
    "start_time": "2022-11-17T12:57:07.594Z"
   },
   {
    "duration": 467,
    "start_time": "2022-11-17T12:57:25.878Z"
   },
   {
    "duration": 23,
    "start_time": "2022-11-17T12:58:27.234Z"
   },
   {
    "duration": 13,
    "start_time": "2022-11-17T12:58:42.747Z"
   },
   {
    "duration": 17,
    "start_time": "2022-11-17T12:58:48.210Z"
   },
   {
    "duration": 15,
    "start_time": "2022-11-17T12:59:35.004Z"
   },
   {
    "duration": 15,
    "start_time": "2022-11-17T12:59:58.848Z"
   },
   {
    "duration": 18,
    "start_time": "2022-11-17T13:00:17.216Z"
   },
   {
    "duration": 14,
    "start_time": "2022-11-17T13:00:21.400Z"
   },
   {
    "duration": 12,
    "start_time": "2022-11-17T13:00:30.465Z"
   },
   {
    "duration": 12,
    "start_time": "2022-11-17T13:00:36.053Z"
   },
   {
    "duration": 16,
    "start_time": "2022-11-17T13:01:10.224Z"
   },
   {
    "duration": 12,
    "start_time": "2022-11-17T13:01:16.220Z"
   },
   {
    "duration": 20,
    "start_time": "2022-11-17T13:02:49.140Z"
   },
   {
    "duration": 14,
    "start_time": "2022-11-17T13:06:25.526Z"
   },
   {
    "duration": 36,
    "start_time": "2022-11-17T13:08:23.026Z"
   },
   {
    "duration": 33,
    "start_time": "2022-11-17T13:08:34.411Z"
   },
   {
    "duration": 18,
    "start_time": "2022-11-17T13:20:02.094Z"
   },
   {
    "duration": 9,
    "start_time": "2022-11-17T13:20:26.566Z"
   },
   {
    "duration": 26,
    "start_time": "2022-11-17T13:20:57.082Z"
   },
   {
    "duration": 21,
    "start_time": "2022-11-17T13:21:22.473Z"
   },
   {
    "duration": 22,
    "start_time": "2022-11-17T13:21:38.875Z"
   },
   {
    "duration": 22,
    "start_time": "2022-11-17T13:21:54.325Z"
   },
   {
    "duration": 1380,
    "start_time": "2022-11-17T13:22:05.860Z"
   },
   {
    "duration": 228,
    "start_time": "2022-11-17T13:22:33.578Z"
   },
   {
    "duration": 1371,
    "start_time": "2022-11-17T13:24:32.878Z"
   },
   {
    "duration": 57,
    "start_time": "2022-11-17T13:25:25.397Z"
   },
   {
    "duration": 140,
    "start_time": "2022-11-17T13:25:35.712Z"
   },
   {
    "duration": 130,
    "start_time": "2022-11-17T13:25:45.304Z"
   },
   {
    "duration": 123,
    "start_time": "2022-11-17T13:25:59.759Z"
   },
   {
    "duration": 147,
    "start_time": "2022-11-17T13:26:07.809Z"
   },
   {
    "duration": 166,
    "start_time": "2022-11-17T13:27:59.776Z"
   },
   {
    "duration": 187,
    "start_time": "2022-11-17T13:35:03.850Z"
   },
   {
    "duration": 10,
    "start_time": "2022-11-17T13:35:40.982Z"
   },
   {
    "duration": 10,
    "start_time": "2022-11-17T13:35:46.509Z"
   },
   {
    "duration": 14,
    "start_time": "2022-11-17T13:36:05.008Z"
   },
   {
    "duration": 53,
    "start_time": "2022-11-17T13:40:04.868Z"
   },
   {
    "duration": 13,
    "start_time": "2022-11-17T13:40:09.793Z"
   },
   {
    "duration": 15,
    "start_time": "2022-11-17T13:40:25.889Z"
   },
   {
    "duration": 13,
    "start_time": "2022-11-17T13:40:40.533Z"
   },
   {
    "duration": 27,
    "start_time": "2022-11-17T13:40:55.253Z"
   },
   {
    "duration": 249,
    "start_time": "2022-11-17T13:42:03.380Z"
   },
   {
    "duration": 271,
    "start_time": "2022-11-17T13:44:35.554Z"
   },
   {
    "duration": 335,
    "start_time": "2022-11-17T13:48:00.026Z"
   },
   {
    "duration": 305,
    "start_time": "2022-11-17T13:48:10.891Z"
   },
   {
    "duration": 296,
    "start_time": "2022-11-17T13:48:34.467Z"
   },
   {
    "duration": 44,
    "start_time": "2022-11-17T13:49:44.629Z"
   },
   {
    "duration": 302,
    "start_time": "2022-11-17T13:51:34.671Z"
   },
   {
    "duration": 295,
    "start_time": "2022-11-17T13:52:11.024Z"
   },
   {
    "duration": 309,
    "start_time": "2022-11-17T13:56:27.519Z"
   },
   {
    "duration": 428,
    "start_time": "2022-11-17T13:57:54.943Z"
   },
   {
    "duration": 315,
    "start_time": "2022-11-17T13:58:14.645Z"
   },
   {
    "duration": 331,
    "start_time": "2022-11-17T13:59:37.208Z"
   },
   {
    "duration": 314,
    "start_time": "2022-11-17T14:01:20.475Z"
   },
   {
    "duration": 96,
    "start_time": "2022-11-17T14:03:12.408Z"
   },
   {
    "duration": 155,
    "start_time": "2022-11-17T14:03:47.802Z"
   },
   {
    "duration": 157,
    "start_time": "2022-11-17T14:05:30.990Z"
   },
   {
    "duration": 303,
    "start_time": "2022-11-17T14:07:37.316Z"
   },
   {
    "duration": 298,
    "start_time": "2022-11-17T14:07:53.574Z"
   },
   {
    "duration": 340,
    "start_time": "2022-11-17T14:08:18.264Z"
   },
   {
    "duration": 308,
    "start_time": "2022-11-17T14:08:40.361Z"
   },
   {
    "duration": 341,
    "start_time": "2022-11-17T14:08:52.109Z"
   },
   {
    "duration": 324,
    "start_time": "2022-11-17T14:09:06.778Z"
   },
   {
    "duration": 4,
    "start_time": "2022-11-17T14:11:53.268Z"
   },
   {
    "duration": 40,
    "start_time": "2022-11-17T14:26:26.141Z"
   },
   {
    "duration": 18,
    "start_time": "2022-11-17T14:26:37.257Z"
   },
   {
    "duration": 11,
    "start_time": "2022-11-17T14:27:02.278Z"
   },
   {
    "duration": 15,
    "start_time": "2022-11-17T14:27:09.140Z"
   },
   {
    "duration": 19,
    "start_time": "2022-11-17T14:27:21.170Z"
   },
   {
    "duration": 11,
    "start_time": "2022-11-17T14:27:38.484Z"
   },
   {
    "duration": 268,
    "start_time": "2022-11-17T14:27:41.501Z"
   },
   {
    "duration": 17,
    "start_time": "2022-11-17T14:28:35.503Z"
   },
   {
    "duration": 13,
    "start_time": "2022-11-17T14:28:44.346Z"
   },
   {
    "duration": 11,
    "start_time": "2022-11-17T14:29:09.960Z"
   },
   {
    "duration": 17,
    "start_time": "2022-11-17T14:29:18.897Z"
   },
   {
    "duration": 320,
    "start_time": "2022-11-17T14:29:26.504Z"
   },
   {
    "duration": 8,
    "start_time": "2022-11-17T14:54:00.777Z"
   },
   {
    "duration": 29,
    "start_time": "2022-11-17T14:54:16.163Z"
   },
   {
    "duration": 6,
    "start_time": "2022-11-17T14:54:38.363Z"
   },
   {
    "duration": 15,
    "start_time": "2022-11-17T14:56:09.223Z"
   },
   {
    "duration": 14,
    "start_time": "2022-11-17T14:58:02.057Z"
   },
   {
    "duration": 14,
    "start_time": "2022-11-17T14:58:10.311Z"
   },
   {
    "duration": 276,
    "start_time": "2022-11-17T14:58:49.404Z"
   },
   {
    "duration": 14,
    "start_time": "2022-11-17T14:59:13.903Z"
   },
   {
    "duration": 242,
    "start_time": "2022-11-17T14:59:16.872Z"
   },
   {
    "duration": 16,
    "start_time": "2022-11-17T14:59:33.588Z"
   },
   {
    "duration": 454,
    "start_time": "2022-11-17T14:59:38.455Z"
   },
   {
    "duration": 1307,
    "start_time": "2022-11-18T09:43:58.100Z"
   },
   {
    "duration": 227,
    "start_time": "2022-11-18T09:43:59.409Z"
   },
   {
    "duration": 16,
    "start_time": "2022-11-18T09:43:59.638Z"
   },
   {
    "duration": 15,
    "start_time": "2022-11-18T09:43:59.656Z"
   },
   {
    "duration": 806,
    "start_time": "2022-11-18T09:43:59.674Z"
   },
   {
    "duration": 15,
    "start_time": "2022-11-18T09:44:00.483Z"
   },
   {
    "duration": 56,
    "start_time": "2022-11-18T09:44:00.500Z"
   },
   {
    "duration": 25,
    "start_time": "2022-11-18T09:44:00.558Z"
   },
   {
    "duration": 134,
    "start_time": "2022-11-18T09:44:00.584Z"
   },
   {
    "duration": 124,
    "start_time": "2022-11-18T09:44:00.720Z"
   },
   {
    "duration": 9,
    "start_time": "2022-11-18T09:44:00.846Z"
   },
   {
    "duration": 18,
    "start_time": "2022-11-18T09:44:00.857Z"
   },
   {
    "duration": 24,
    "start_time": "2022-11-18T09:44:00.876Z"
   },
   {
    "duration": 37,
    "start_time": "2022-11-18T09:44:00.903Z"
   },
   {
    "duration": 70,
    "start_time": "2022-11-18T09:44:00.942Z"
   },
   {
    "duration": 344,
    "start_time": "2022-11-18T09:44:01.014Z"
   },
   {
    "duration": 7,
    "start_time": "2022-11-18T09:44:01.359Z"
   },
   {
    "duration": 23,
    "start_time": "2022-11-18T09:44:01.368Z"
   },
   {
    "duration": 320,
    "start_time": "2022-11-18T09:44:01.393Z"
   },
   {
    "duration": 117,
    "start_time": "2022-11-18T09:52:40.158Z"
   },
   {
    "duration": 49,
    "start_time": "2022-11-18T09:52:53.334Z"
   },
   {
    "duration": 54,
    "start_time": "2022-11-18T09:53:07.544Z"
   },
   {
    "duration": 27,
    "start_time": "2022-11-18T09:53:14.792Z"
   },
   {
    "duration": 25,
    "start_time": "2022-11-18T09:54:43.976Z"
   },
   {
    "duration": 202,
    "start_time": "2022-11-18T09:54:55.182Z"
   },
   {
    "duration": 15,
    "start_time": "2022-11-18T09:55:29.658Z"
   },
   {
    "duration": 9,
    "start_time": "2022-11-18T09:55:43.873Z"
   },
   {
    "duration": 9,
    "start_time": "2022-11-18T10:36:59.778Z"
   },
   {
    "duration": 10,
    "start_time": "2022-11-18T10:37:14.157Z"
   },
   {
    "duration": 275,
    "start_time": "2022-11-18T10:38:55.379Z"
   },
   {
    "duration": 110,
    "start_time": "2022-11-18T10:39:27.318Z"
   },
   {
    "duration": 120,
    "start_time": "2022-11-18T10:39:59.576Z"
   },
   {
    "duration": 112,
    "start_time": "2022-11-18T10:40:08.653Z"
   },
   {
    "duration": 212,
    "start_time": "2022-11-18T10:40:37.250Z"
   },
   {
    "duration": 6,
    "start_time": "2022-11-18T10:42:27.226Z"
   },
   {
    "duration": 12,
    "start_time": "2022-11-18T10:42:54.553Z"
   },
   {
    "duration": 12,
    "start_time": "2022-11-18T10:43:02.603Z"
   },
   {
    "duration": 123,
    "start_time": "2022-11-18T10:43:10.019Z"
   },
   {
    "duration": 9,
    "start_time": "2022-11-18T10:43:28.310Z"
   },
   {
    "duration": 130,
    "start_time": "2022-11-18T10:43:41.210Z"
   },
   {
    "duration": 123,
    "start_time": "2022-11-18T10:44:13.425Z"
   },
   {
    "duration": 161,
    "start_time": "2022-11-18T10:45:15.166Z"
   },
   {
    "duration": 128,
    "start_time": "2022-11-18T10:48:25.402Z"
   },
   {
    "duration": 151,
    "start_time": "2022-11-18T10:49:31.598Z"
   },
   {
    "duration": 241,
    "start_time": "2022-11-18T10:49:59.771Z"
   },
   {
    "duration": 139,
    "start_time": "2022-11-18T10:51:02.313Z"
   },
   {
    "duration": 164,
    "start_time": "2022-11-18T10:55:13.756Z"
   },
   {
    "duration": 141,
    "start_time": "2022-11-18T10:55:30.530Z"
   },
   {
    "duration": 40,
    "start_time": "2022-11-18T10:57:21.715Z"
   },
   {
    "duration": 49,
    "start_time": "2022-11-18T10:57:42.457Z"
   },
   {
    "duration": 77,
    "start_time": "2022-11-18T10:58:20.196Z"
   },
   {
    "duration": 47,
    "start_time": "2022-11-18T10:58:44.477Z"
   },
   {
    "duration": 168,
    "start_time": "2022-11-18T10:59:18.585Z"
   },
   {
    "duration": 153,
    "start_time": "2022-11-18T11:23:59.608Z"
   },
   {
    "duration": 184,
    "start_time": "2022-11-18T11:35:56.183Z"
   },
   {
    "duration": 198,
    "start_time": "2022-11-18T11:36:20.983Z"
   },
   {
    "duration": 179,
    "start_time": "2022-11-18T11:36:44.900Z"
   },
   {
    "duration": 230,
    "start_time": "2022-11-18T11:38:16.371Z"
   },
   {
    "duration": 176,
    "start_time": "2022-11-18T11:38:57.334Z"
   },
   {
    "duration": 11,
    "start_time": "2022-11-18T11:41:34.773Z"
   },
   {
    "duration": 55,
    "start_time": "2022-11-18T11:43:35.838Z"
   },
   {
    "duration": 10,
    "start_time": "2022-11-18T11:43:56.384Z"
   },
   {
    "duration": 9,
    "start_time": "2022-11-18T11:47:08.539Z"
   },
   {
    "duration": 6,
    "start_time": "2022-11-18T11:47:24.359Z"
   },
   {
    "duration": 1123,
    "start_time": "2022-11-18T11:48:12.714Z"
   },
   {
    "duration": 81,
    "start_time": "2022-11-18T11:48:14.610Z"
   },
   {
    "duration": 14,
    "start_time": "2022-11-18T11:48:16.519Z"
   },
   {
    "duration": 16,
    "start_time": "2022-11-18T11:48:18.025Z"
   },
   {
    "duration": 780,
    "start_time": "2022-11-18T11:48:19.531Z"
   },
   {
    "duration": 3,
    "start_time": "2022-11-18T11:48:23.447Z"
   },
   {
    "duration": 14,
    "start_time": "2022-11-18T11:48:25.133Z"
   },
   {
    "duration": 288,
    "start_time": "2022-11-18T11:48:35.841Z"
   },
   {
    "duration": 12,
    "start_time": "2022-11-18T11:48:51.715Z"
   },
   {
    "duration": 210,
    "start_time": "2022-11-18T11:49:52.828Z"
   },
   {
    "duration": 18,
    "start_time": "2022-11-18T11:51:01.915Z"
   },
   {
    "duration": 4,
    "start_time": "2022-11-18T11:51:55.494Z"
   },
   {
    "duration": 16,
    "start_time": "2022-11-18T11:52:49.523Z"
   },
   {
    "duration": 13,
    "start_time": "2022-11-18T11:53:30.029Z"
   },
   {
    "duration": 54,
    "start_time": "2022-11-18T11:54:07.387Z"
   },
   {
    "duration": 1190,
    "start_time": "2022-11-18T11:54:12.811Z"
   },
   {
    "duration": 116,
    "start_time": "2022-11-18T11:54:14.967Z"
   },
   {
    "duration": 13,
    "start_time": "2022-11-18T11:54:17.373Z"
   },
   {
    "duration": 14,
    "start_time": "2022-11-18T11:54:18.905Z"
   },
   {
    "duration": 750,
    "start_time": "2022-11-18T11:54:20.713Z"
   },
   {
    "duration": 4,
    "start_time": "2022-11-18T11:54:24.387Z"
   },
   {
    "duration": 49,
    "start_time": "2022-11-18T11:54:43.697Z"
   },
   {
    "duration": 1135,
    "start_time": "2022-11-18T11:54:54.145Z"
   },
   {
    "duration": 112,
    "start_time": "2022-11-18T11:54:56.275Z"
   },
   {
    "duration": 14,
    "start_time": "2022-11-18T11:54:57.965Z"
   },
   {
    "duration": 15,
    "start_time": "2022-11-18T11:54:59.485Z"
   },
   {
    "duration": 5,
    "start_time": "2022-11-18T11:55:02.741Z"
   },
   {
    "duration": 1135,
    "start_time": "2022-11-18T11:55:54.127Z"
   },
   {
    "duration": 120,
    "start_time": "2022-11-18T11:55:55.264Z"
   },
   {
    "duration": 14,
    "start_time": "2022-11-18T11:55:55.386Z"
   },
   {
    "duration": 14,
    "start_time": "2022-11-18T11:55:55.402Z"
   },
   {
    "duration": 825,
    "start_time": "2022-11-18T11:55:55.418Z"
   },
   {
    "duration": 3,
    "start_time": "2022-11-18T11:55:56.245Z"
   },
   {
    "duration": 12,
    "start_time": "2022-11-18T11:55:56.249Z"
   },
   {
    "duration": 10,
    "start_time": "2022-11-18T11:55:56.263Z"
   },
   {
    "duration": 121,
    "start_time": "2022-11-18T11:55:56.275Z"
   },
   {
    "duration": 121,
    "start_time": "2022-11-18T11:55:56.398Z"
   },
   {
    "duration": 11,
    "start_time": "2022-11-18T11:55:56.520Z"
   },
   {
    "duration": 5,
    "start_time": "2022-11-18T11:55:56.532Z"
   },
   {
    "duration": 5,
    "start_time": "2022-11-18T11:55:56.539Z"
   },
   {
    "duration": 14,
    "start_time": "2022-11-18T11:55:56.546Z"
   },
   {
    "duration": 39,
    "start_time": "2022-11-18T11:55:56.561Z"
   },
   {
    "duration": 324,
    "start_time": "2022-11-18T11:55:56.602Z"
   },
   {
    "duration": 7,
    "start_time": "2022-11-18T11:55:56.928Z"
   },
   {
    "duration": 18,
    "start_time": "2022-11-18T11:55:56.936Z"
   },
   {
    "duration": 271,
    "start_time": "2022-11-18T11:55:56.956Z"
   },
   {
    "duration": 156,
    "start_time": "2022-11-18T11:55:57.229Z"
   },
   {
    "duration": 186,
    "start_time": "2022-11-18T11:55:57.387Z"
   },
   {
    "duration": 10,
    "start_time": "2022-11-18T11:55:57.575Z"
   },
   {
    "duration": 46,
    "start_time": "2022-11-18T11:55:57.586Z"
   },
   {
    "duration": 0,
    "start_time": "2022-11-18T11:55:57.634Z"
   },
   {
    "duration": 252,
    "start_time": "2022-11-18T12:00:06.395Z"
   },
   {
    "duration": 10,
    "start_time": "2022-11-18T12:00:42.482Z"
   },
   {
    "duration": 9,
    "start_time": "2022-11-18T12:00:52.462Z"
   },
   {
    "duration": 14,
    "start_time": "2022-11-18T12:08:45.377Z"
   },
   {
    "duration": 14,
    "start_time": "2022-11-18T12:09:22.551Z"
   },
   {
    "duration": 15,
    "start_time": "2022-11-18T12:09:37.026Z"
   },
   {
    "duration": 43,
    "start_time": "2022-11-18T12:09:46.688Z"
   },
   {
    "duration": 42,
    "start_time": "2022-11-18T12:09:55.402Z"
   },
   {
    "duration": 14,
    "start_time": "2022-11-18T12:10:08.492Z"
   },
   {
    "duration": 15,
    "start_time": "2022-11-18T12:12:43.815Z"
   },
   {
    "duration": 13,
    "start_time": "2022-11-18T12:13:07.210Z"
   },
   {
    "duration": 45,
    "start_time": "2022-11-18T12:14:00.498Z"
   },
   {
    "duration": 16,
    "start_time": "2022-11-18T12:20:44.840Z"
   },
   {
    "duration": 15,
    "start_time": "2022-11-18T12:21:35.822Z"
   },
   {
    "duration": 15,
    "start_time": "2022-11-18T12:23:19.703Z"
   },
   {
    "duration": 16,
    "start_time": "2022-11-18T12:24:44.584Z"
   },
   {
    "duration": 46,
    "start_time": "2022-11-18T12:25:40.329Z"
   },
   {
    "duration": 2,
    "start_time": "2022-11-18T12:27:14.897Z"
   },
   {
    "duration": 2,
    "start_time": "2022-11-18T12:27:40.557Z"
   },
   {
    "duration": 15,
    "start_time": "2022-11-18T12:28:13.744Z"
   },
   {
    "duration": 15,
    "start_time": "2022-11-18T12:30:13.929Z"
   },
   {
    "duration": 16,
    "start_time": "2022-11-18T12:31:17.933Z"
   },
   {
    "duration": 105,
    "start_time": "2022-11-18T12:32:21.130Z"
   },
   {
    "duration": 5,
    "start_time": "2022-11-18T12:34:20.348Z"
   },
   {
    "duration": 53,
    "start_time": "2022-11-18T12:35:05.221Z"
   },
   {
    "duration": 14,
    "start_time": "2022-11-18T12:35:11.277Z"
   },
   {
    "duration": 15,
    "start_time": "2022-11-18T12:35:30.173Z"
   },
   {
    "duration": 15,
    "start_time": "2022-11-18T12:37:08.471Z"
   },
   {
    "duration": 16,
    "start_time": "2022-11-18T12:37:10.335Z"
   },
   {
    "duration": 106,
    "start_time": "2022-11-18T12:55:03.379Z"
   },
   {
    "duration": 8,
    "start_time": "2022-11-18T12:56:12.117Z"
   },
   {
    "duration": 11,
    "start_time": "2022-11-18T12:56:37.475Z"
   },
   {
    "duration": 12,
    "start_time": "2022-11-18T12:56:49.451Z"
   },
   {
    "duration": 14,
    "start_time": "2022-11-18T12:56:57.700Z"
   },
   {
    "duration": 10,
    "start_time": "2022-11-18T12:57:30.779Z"
   },
   {
    "duration": 47,
    "start_time": "2022-11-18T12:59:37.921Z"
   },
   {
    "duration": 10,
    "start_time": "2022-11-18T13:05:35.778Z"
   },
   {
    "duration": 8,
    "start_time": "2022-11-18T13:06:12.067Z"
   },
   {
    "duration": 9,
    "start_time": "2022-11-18T13:09:47.933Z"
   },
   {
    "duration": 9,
    "start_time": "2022-11-18T13:10:46.965Z"
   },
   {
    "duration": 1192,
    "start_time": "2022-11-18T13:23:35.830Z"
   },
   {
    "duration": 67,
    "start_time": "2022-11-18T13:23:37.024Z"
   },
   {
    "duration": 13,
    "start_time": "2022-11-18T13:23:37.093Z"
   },
   {
    "duration": 18,
    "start_time": "2022-11-18T13:23:37.108Z"
   },
   {
    "duration": 770,
    "start_time": "2022-11-18T13:23:37.128Z"
   },
   {
    "duration": 4,
    "start_time": "2022-11-18T13:23:37.900Z"
   },
   {
    "duration": 29,
    "start_time": "2022-11-18T13:23:37.906Z"
   },
   {
    "duration": 48,
    "start_time": "2022-11-18T13:23:37.937Z"
   },
   {
    "duration": 125,
    "start_time": "2022-11-18T13:23:37.986Z"
   },
   {
    "duration": 128,
    "start_time": "2022-11-18T13:23:38.113Z"
   },
   {
    "duration": 10,
    "start_time": "2022-11-18T13:23:38.243Z"
   },
   {
    "duration": 28,
    "start_time": "2022-11-18T13:23:38.254Z"
   },
   {
    "duration": 36,
    "start_time": "2022-11-18T13:23:38.283Z"
   },
   {
    "duration": 36,
    "start_time": "2022-11-18T13:23:38.320Z"
   },
   {
    "duration": 37,
    "start_time": "2022-11-18T13:23:38.358Z"
   },
   {
    "duration": 329,
    "start_time": "2022-11-18T13:23:38.397Z"
   },
   {
    "duration": 7,
    "start_time": "2022-11-18T13:23:38.727Z"
   },
   {
    "duration": 34,
    "start_time": "2022-11-18T13:23:38.736Z"
   },
   {
    "duration": 301,
    "start_time": "2022-11-18T13:23:38.771Z"
   },
   {
    "duration": 168,
    "start_time": "2022-11-18T13:23:39.073Z"
   },
   {
    "duration": 191,
    "start_time": "2022-11-18T13:23:39.243Z"
   },
   {
    "duration": 9,
    "start_time": "2022-11-18T13:23:39.435Z"
   },
   {
    "duration": 274,
    "start_time": "2022-11-18T13:23:39.446Z"
   },
   {
    "duration": 10,
    "start_time": "2022-11-18T13:23:39.721Z"
   },
   {
    "duration": 43,
    "start_time": "2022-11-18T13:23:39.732Z"
   },
   {
    "duration": 24,
    "start_time": "2022-11-18T13:23:39.776Z"
   },
   {
    "duration": 62,
    "start_time": "2022-11-18T13:23:39.802Z"
   },
   {
    "duration": 20,
    "start_time": "2022-11-18T13:23:39.867Z"
   },
   {
    "duration": 31,
    "start_time": "2022-11-18T13:23:39.889Z"
   },
   {
    "duration": 30,
    "start_time": "2022-11-18T13:23:39.922Z"
   },
   {
    "duration": 25,
    "start_time": "2022-11-18T13:23:39.954Z"
   },
   {
    "duration": 56,
    "start_time": "2022-11-18T13:23:39.981Z"
   },
   {
    "duration": 73,
    "start_time": "2022-11-18T13:23:40.039Z"
   },
   {
    "duration": 40,
    "start_time": "2022-11-18T13:23:40.114Z"
   },
   {
    "duration": 21,
    "start_time": "2022-11-18T13:23:40.155Z"
   },
   {
    "duration": 41,
    "start_time": "2022-11-18T13:23:40.178Z"
   },
   {
    "duration": 65,
    "start_time": "2022-11-18T13:23:40.221Z"
   },
   {
    "duration": 1127,
    "start_time": "2022-11-18T13:24:59.006Z"
   },
   {
    "duration": 69,
    "start_time": "2022-11-18T13:25:00.135Z"
   },
   {
    "duration": 14,
    "start_time": "2022-11-18T13:25:00.205Z"
   },
   {
    "duration": 41,
    "start_time": "2022-11-18T13:25:00.221Z"
   },
   {
    "duration": 822,
    "start_time": "2022-11-18T13:25:00.264Z"
   },
   {
    "duration": 3,
    "start_time": "2022-11-18T13:25:01.088Z"
   },
   {
    "duration": 54,
    "start_time": "2022-11-18T13:25:01.095Z"
   },
   {
    "duration": 32,
    "start_time": "2022-11-18T13:25:01.150Z"
   },
   {
    "duration": 120,
    "start_time": "2022-11-18T13:25:01.183Z"
   },
   {
    "duration": 122,
    "start_time": "2022-11-18T13:25:01.306Z"
   },
   {
    "duration": 9,
    "start_time": "2022-11-18T13:25:01.430Z"
   },
   {
    "duration": 4,
    "start_time": "2022-11-18T13:25:01.441Z"
   },
   {
    "duration": 14,
    "start_time": "2022-11-18T13:25:01.447Z"
   },
   {
    "duration": 24,
    "start_time": "2022-11-18T13:25:01.462Z"
   },
   {
    "duration": 16,
    "start_time": "2022-11-18T13:25:01.495Z"
   },
   {
    "duration": 341,
    "start_time": "2022-11-18T13:25:01.513Z"
   },
   {
    "duration": 6,
    "start_time": "2022-11-18T13:25:01.856Z"
   },
   {
    "duration": 87,
    "start_time": "2022-11-18T13:25:01.864Z"
   },
   {
    "duration": 298,
    "start_time": "2022-11-18T13:25:01.953Z"
   },
   {
    "duration": 161,
    "start_time": "2022-11-18T13:25:02.253Z"
   },
   {
    "duration": 199,
    "start_time": "2022-11-18T13:25:02.416Z"
   },
   {
    "duration": 9,
    "start_time": "2022-11-18T13:25:02.617Z"
   },
   {
    "duration": 281,
    "start_time": "2022-11-18T13:25:02.628Z"
   },
   {
    "duration": 9,
    "start_time": "2022-11-18T13:25:02.910Z"
   },
   {
    "duration": 25,
    "start_time": "2022-11-18T13:25:02.921Z"
   },
   {
    "duration": 16,
    "start_time": "2022-11-18T13:25:02.948Z"
   },
   {
    "duration": 31,
    "start_time": "2022-11-18T13:25:02.966Z"
   },
   {
    "duration": 14,
    "start_time": "2022-11-18T13:25:03.000Z"
   },
   {
    "duration": 13,
    "start_time": "2022-11-18T13:25:03.016Z"
   },
   {
    "duration": 14,
    "start_time": "2022-11-18T13:25:03.031Z"
   },
   {
    "duration": 15,
    "start_time": "2022-11-18T13:25:03.047Z"
   },
   {
    "duration": 15,
    "start_time": "2022-11-18T13:25:03.096Z"
   },
   {
    "duration": 14,
    "start_time": "2022-11-18T13:25:03.113Z"
   },
   {
    "duration": 13,
    "start_time": "2022-11-18T13:25:03.129Z"
   },
   {
    "duration": 13,
    "start_time": "2022-11-18T13:25:03.144Z"
   },
   {
    "duration": 40,
    "start_time": "2022-11-18T13:25:03.159Z"
   },
   {
    "duration": 11,
    "start_time": "2022-11-18T13:25:03.201Z"
   },
   {
    "duration": 9,
    "start_time": "2022-11-18T13:25:32.283Z"
   },
   {
    "duration": 9,
    "start_time": "2022-11-18T13:25:57.422Z"
   },
   {
    "duration": 9,
    "start_time": "2022-11-18T13:26:06.414Z"
   },
   {
    "duration": 9,
    "start_time": "2022-11-18T13:26:39.539Z"
   },
   {
    "duration": 8,
    "start_time": "2022-11-18T13:28:24.454Z"
   },
   {
    "duration": 9,
    "start_time": "2022-11-18T13:29:06.277Z"
   },
   {
    "duration": 9,
    "start_time": "2022-11-18T13:29:25.709Z"
   },
   {
    "duration": 10,
    "start_time": "2022-11-18T13:29:46.831Z"
   },
   {
    "duration": 1163,
    "start_time": "2022-11-18T13:30:03.300Z"
   },
   {
    "duration": 71,
    "start_time": "2022-11-18T13:30:04.465Z"
   },
   {
    "duration": 14,
    "start_time": "2022-11-18T13:30:04.537Z"
   },
   {
    "duration": 22,
    "start_time": "2022-11-18T13:30:04.553Z"
   },
   {
    "duration": 802,
    "start_time": "2022-11-18T13:30:04.576Z"
   },
   {
    "duration": 4,
    "start_time": "2022-11-18T13:30:05.379Z"
   },
   {
    "duration": 32,
    "start_time": "2022-11-18T13:30:05.384Z"
   },
   {
    "duration": 15,
    "start_time": "2022-11-18T13:30:05.417Z"
   },
   {
    "duration": 101,
    "start_time": "2022-11-18T13:30:05.434Z"
   },
   {
    "duration": 130,
    "start_time": "2022-11-18T13:30:05.538Z"
   },
   {
    "duration": 10,
    "start_time": "2022-11-18T13:30:05.670Z"
   },
   {
    "duration": 16,
    "start_time": "2022-11-18T13:30:05.682Z"
   },
   {
    "duration": 21,
    "start_time": "2022-11-18T13:30:05.700Z"
   },
   {
    "duration": 18,
    "start_time": "2022-11-18T13:30:05.722Z"
   },
   {
    "duration": 16,
    "start_time": "2022-11-18T13:30:05.741Z"
   },
   {
    "duration": 395,
    "start_time": "2022-11-18T13:30:05.759Z"
   },
   {
    "duration": 8,
    "start_time": "2022-11-18T13:30:06.156Z"
   },
   {
    "duration": 31,
    "start_time": "2022-11-18T13:30:06.166Z"
   },
   {
    "duration": 282,
    "start_time": "2022-11-18T13:30:06.199Z"
   },
   {
    "duration": 167,
    "start_time": "2022-11-18T13:30:06.482Z"
   },
   {
    "duration": 199,
    "start_time": "2022-11-18T13:30:06.650Z"
   },
   {
    "duration": 9,
    "start_time": "2022-11-18T13:30:06.851Z"
   },
   {
    "duration": 271,
    "start_time": "2022-11-18T13:30:06.862Z"
   },
   {
    "duration": 9,
    "start_time": "2022-11-18T13:30:07.134Z"
   },
   {
    "duration": 16,
    "start_time": "2022-11-18T13:30:07.145Z"
   },
   {
    "duration": 34,
    "start_time": "2022-11-18T13:30:07.162Z"
   },
   {
    "duration": 14,
    "start_time": "2022-11-18T13:30:07.198Z"
   },
   {
    "duration": 14,
    "start_time": "2022-11-18T13:30:07.216Z"
   },
   {
    "duration": 14,
    "start_time": "2022-11-18T13:30:07.231Z"
   },
   {
    "duration": 14,
    "start_time": "2022-11-18T13:30:07.247Z"
   },
   {
    "duration": 47,
    "start_time": "2022-11-18T13:30:07.262Z"
   },
   {
    "duration": 16,
    "start_time": "2022-11-18T13:30:07.311Z"
   },
   {
    "duration": 13,
    "start_time": "2022-11-18T13:30:07.329Z"
   },
   {
    "duration": 13,
    "start_time": "2022-11-18T13:30:07.343Z"
   },
   {
    "duration": 44,
    "start_time": "2022-11-18T13:30:07.358Z"
   },
   {
    "duration": 9,
    "start_time": "2022-11-18T13:30:07.404Z"
   },
   {
    "duration": 8,
    "start_time": "2022-11-18T13:30:07.414Z"
   },
   {
    "duration": 1229,
    "start_time": "2022-11-18T13:34:50.908Z"
   },
   {
    "duration": 69,
    "start_time": "2022-11-18T13:34:52.139Z"
   },
   {
    "duration": 13,
    "start_time": "2022-11-18T13:34:52.210Z"
   },
   {
    "duration": 24,
    "start_time": "2022-11-18T13:34:52.225Z"
   },
   {
    "duration": 752,
    "start_time": "2022-11-18T13:34:52.251Z"
   },
   {
    "duration": 4,
    "start_time": "2022-11-18T13:34:53.005Z"
   },
   {
    "duration": 26,
    "start_time": "2022-11-18T13:34:53.010Z"
   },
   {
    "duration": 20,
    "start_time": "2022-11-18T13:34:53.038Z"
   },
   {
    "duration": 103,
    "start_time": "2022-11-18T13:34:53.060Z"
   },
   {
    "duration": 122,
    "start_time": "2022-11-18T13:34:53.166Z"
   },
   {
    "duration": 15,
    "start_time": "2022-11-18T13:34:53.289Z"
   },
   {
    "duration": 5,
    "start_time": "2022-11-18T13:34:53.306Z"
   },
   {
    "duration": 6,
    "start_time": "2022-11-18T13:34:53.312Z"
   },
   {
    "duration": 31,
    "start_time": "2022-11-18T13:34:53.319Z"
   },
   {
    "duration": 15,
    "start_time": "2022-11-18T13:34:53.352Z"
   },
   {
    "duration": 379,
    "start_time": "2022-11-18T13:34:53.369Z"
   },
   {
    "duration": 7,
    "start_time": "2022-11-18T13:34:53.750Z"
   },
   {
    "duration": 25,
    "start_time": "2022-11-18T13:34:53.758Z"
   },
   {
    "duration": 282,
    "start_time": "2022-11-18T13:34:53.785Z"
   },
   {
    "duration": 168,
    "start_time": "2022-11-18T13:34:54.069Z"
   },
   {
    "duration": 203,
    "start_time": "2022-11-18T13:34:54.239Z"
   },
   {
    "duration": 9,
    "start_time": "2022-11-18T13:34:54.444Z"
   },
   {
    "duration": 271,
    "start_time": "2022-11-18T13:34:54.454Z"
   },
   {
    "duration": 10,
    "start_time": "2022-11-18T13:34:54.727Z"
   },
   {
    "duration": 45,
    "start_time": "2022-11-18T13:34:54.738Z"
   },
   {
    "duration": 16,
    "start_time": "2022-11-18T13:34:54.784Z"
   },
   {
    "duration": 16,
    "start_time": "2022-11-18T13:34:54.802Z"
   },
   {
    "duration": 13,
    "start_time": "2022-11-18T13:34:54.822Z"
   },
   {
    "duration": 14,
    "start_time": "2022-11-18T13:34:54.836Z"
   },
   {
    "duration": 14,
    "start_time": "2022-11-18T13:34:54.851Z"
   },
   {
    "duration": 16,
    "start_time": "2022-11-18T13:34:54.897Z"
   },
   {
    "duration": 15,
    "start_time": "2022-11-18T13:34:54.915Z"
   },
   {
    "duration": 27,
    "start_time": "2022-11-18T13:34:54.932Z"
   },
   {
    "duration": 38,
    "start_time": "2022-11-18T13:34:54.961Z"
   },
   {
    "duration": 16,
    "start_time": "2022-11-18T13:34:55.001Z"
   },
   {
    "duration": 11,
    "start_time": "2022-11-18T13:34:55.019Z"
   },
   {
    "duration": 13,
    "start_time": "2022-11-18T13:34:55.033Z"
   },
   {
    "duration": 1294,
    "start_time": "2022-11-19T13:31:10.371Z"
   },
   {
    "duration": 107,
    "start_time": "2022-11-19T13:31:11.667Z"
   },
   {
    "duration": 15,
    "start_time": "2022-11-19T13:31:11.775Z"
   },
   {
    "duration": 15,
    "start_time": "2022-11-19T13:31:11.792Z"
   },
   {
    "duration": 739,
    "start_time": "2022-11-19T13:31:11.808Z"
   },
   {
    "duration": 3,
    "start_time": "2022-11-19T13:31:12.549Z"
   },
   {
    "duration": 12,
    "start_time": "2022-11-19T13:31:12.553Z"
   },
   {
    "duration": 11,
    "start_time": "2022-11-19T13:31:12.566Z"
   },
   {
    "duration": 17,
    "start_time": "2022-11-19T13:31:12.579Z"
   },
   {
    "duration": 8,
    "start_time": "2022-11-19T13:31:15.842Z"
   },
   {
    "duration": 10,
    "start_time": "2022-11-19T13:33:07.890Z"
   },
   {
    "duration": 4,
    "start_time": "2022-11-19T13:35:07.704Z"
   },
   {
    "duration": 1108,
    "start_time": "2022-11-19T13:41:20.820Z"
   },
   {
    "duration": 67,
    "start_time": "2022-11-19T13:41:21.930Z"
   },
   {
    "duration": 13,
    "start_time": "2022-11-19T13:41:21.999Z"
   },
   {
    "duration": 13,
    "start_time": "2022-11-19T13:41:22.014Z"
   },
   {
    "duration": 788,
    "start_time": "2022-11-19T13:41:22.029Z"
   },
   {
    "duration": 3,
    "start_time": "2022-11-19T13:41:22.819Z"
   },
   {
    "duration": 11,
    "start_time": "2022-11-19T13:41:22.824Z"
   },
   {
    "duration": 10,
    "start_time": "2022-11-19T13:41:22.837Z"
   },
   {
    "duration": 3,
    "start_time": "2022-11-19T13:41:22.849Z"
   },
   {
    "duration": 12,
    "start_time": "2022-11-19T13:41:22.854Z"
   },
   {
    "duration": 5,
    "start_time": "2022-11-19T13:41:29.278Z"
   },
   {
    "duration": 4,
    "start_time": "2022-11-19T13:41:32.342Z"
   },
   {
    "duration": 14,
    "start_time": "2022-11-19T13:41:36.417Z"
   },
   {
    "duration": 17,
    "start_time": "2022-11-19T13:41:41.081Z"
   },
   {
    "duration": 315,
    "start_time": "2022-11-19T13:41:43.819Z"
   },
   {
    "duration": 7,
    "start_time": "2022-11-19T13:41:59.182Z"
   },
   {
    "duration": 16,
    "start_time": "2022-11-19T13:42:00.185Z"
   },
   {
    "duration": 267,
    "start_time": "2022-11-19T13:42:02.721Z"
   },
   {
    "duration": 157,
    "start_time": "2022-11-19T13:42:09.781Z"
   },
   {
    "duration": 248,
    "start_time": "2022-11-19T13:42:13.792Z"
   },
   {
    "duration": 1073,
    "start_time": "2022-11-19T13:43:06.834Z"
   },
   {
    "duration": 70,
    "start_time": "2022-11-19T13:43:07.909Z"
   },
   {
    "duration": 12,
    "start_time": "2022-11-19T13:43:07.981Z"
   },
   {
    "duration": 13,
    "start_time": "2022-11-19T13:43:07.995Z"
   },
   {
    "duration": 762,
    "start_time": "2022-11-19T13:43:08.009Z"
   },
   {
    "duration": 3,
    "start_time": "2022-11-19T13:43:08.774Z"
   },
   {
    "duration": 20,
    "start_time": "2022-11-19T13:43:08.780Z"
   },
   {
    "duration": 12,
    "start_time": "2022-11-19T13:43:08.802Z"
   },
   {
    "duration": 5,
    "start_time": "2022-11-19T13:43:08.815Z"
   },
   {
    "duration": 13,
    "start_time": "2022-11-19T13:43:08.822Z"
   },
   {
    "duration": 10,
    "start_time": "2022-11-19T13:43:08.836Z"
   },
   {
    "duration": 8,
    "start_time": "2022-11-19T13:43:08.848Z"
   },
   {
    "duration": 21,
    "start_time": "2022-11-19T13:43:08.857Z"
   },
   {
    "duration": 22,
    "start_time": "2022-11-19T13:43:08.879Z"
   },
   {
    "duration": 15,
    "start_time": "2022-11-19T13:43:08.903Z"
   },
   {
    "duration": 306,
    "start_time": "2022-11-19T13:43:08.919Z"
   },
   {
    "duration": 7,
    "start_time": "2022-11-19T13:43:09.227Z"
   },
   {
    "duration": 20,
    "start_time": "2022-11-19T13:43:09.235Z"
   },
   {
    "duration": 264,
    "start_time": "2022-11-19T13:43:09.256Z"
   },
   {
    "duration": 152,
    "start_time": "2022-11-19T13:43:15.001Z"
   },
   {
    "duration": 221,
    "start_time": "2022-11-19T13:43:22.681Z"
   },
   {
    "duration": 177,
    "start_time": "2022-11-19T13:43:30.249Z"
   },
   {
    "duration": 263,
    "start_time": "2022-11-19T13:43:55.102Z"
   },
   {
    "duration": 10,
    "start_time": "2022-11-19T13:44:04.657Z"
   },
   {
    "duration": 14,
    "start_time": "2022-11-19T13:44:51.883Z"
   },
   {
    "duration": 14,
    "start_time": "2022-11-19T13:44:53.715Z"
   },
   {
    "duration": 14,
    "start_time": "2022-11-19T13:44:56.001Z"
   },
   {
    "duration": 14,
    "start_time": "2022-11-19T13:44:57.657Z"
   },
   {
    "duration": 14,
    "start_time": "2022-11-19T13:45:02.173Z"
   },
   {
    "duration": 16,
    "start_time": "2022-11-19T13:45:04.644Z"
   },
   {
    "duration": 15,
    "start_time": "2022-11-19T13:45:06.229Z"
   },
   {
    "duration": 13,
    "start_time": "2022-11-19T13:45:07.546Z"
   },
   {
    "duration": 13,
    "start_time": "2022-11-19T13:45:10.646Z"
   },
   {
    "duration": 14,
    "start_time": "2022-11-19T13:45:12.488Z"
   },
   {
    "duration": 16,
    "start_time": "2022-11-19T13:45:13.998Z"
   },
   {
    "duration": 18,
    "start_time": "2022-11-19T13:46:10.595Z"
   },
   {
    "duration": 8,
    "start_time": "2022-11-19T13:46:44.067Z"
   },
   {
    "duration": 14,
    "start_time": "2022-11-19T13:46:52.309Z"
   },
   {
    "duration": 1097,
    "start_time": "2022-11-19T13:47:30.811Z"
   },
   {
    "duration": 68,
    "start_time": "2022-11-19T13:47:33.337Z"
   },
   {
    "duration": 15,
    "start_time": "2022-11-19T13:47:34.953Z"
   },
   {
    "duration": 15,
    "start_time": "2022-11-19T13:47:36.394Z"
   },
   {
    "duration": 807,
    "start_time": "2022-11-19T13:47:37.872Z"
   },
   {
    "duration": 3,
    "start_time": "2022-11-19T13:47:41.505Z"
   },
   {
    "duration": 10,
    "start_time": "2022-11-19T13:47:43.580Z"
   },
   {
    "duration": 12,
    "start_time": "2022-11-19T13:47:47.585Z"
   },
   {
    "duration": 14,
    "start_time": "2022-11-19T13:49:18.954Z"
   },
   {
    "duration": 7,
    "start_time": "2022-11-19T13:49:38.068Z"
   },
   {
    "duration": 254,
    "start_time": "2022-11-19T13:51:38.647Z"
   },
   {
    "duration": 12,
    "start_time": "2022-11-19T13:52:18.703Z"
   },
   {
    "duration": 10,
    "start_time": "2022-11-19T13:53:55.050Z"
   },
   {
    "duration": 10,
    "start_time": "2022-11-19T13:54:11.126Z"
   },
   {
    "duration": 17,
    "start_time": "2022-11-19T13:55:47.911Z"
   },
   {
    "duration": 17,
    "start_time": "2022-11-19T13:56:20.143Z"
   },
   {
    "duration": 7,
    "start_time": "2022-11-19T13:56:55.555Z"
   },
   {
    "duration": 4,
    "start_time": "2022-11-19T14:01:55.575Z"
   },
   {
    "duration": 8,
    "start_time": "2022-11-19T14:03:29.722Z"
   },
   {
    "duration": 3,
    "start_time": "2022-11-19T14:03:39.983Z"
   },
   {
    "duration": 3,
    "start_time": "2022-11-19T14:04:45.881Z"
   },
   {
    "duration": 13,
    "start_time": "2022-11-19T14:05:28.613Z"
   },
   {
    "duration": 67,
    "start_time": "2022-11-19T14:07:06.431Z"
   },
   {
    "duration": 221,
    "start_time": "2022-11-19T14:07:23.015Z"
   },
   {
    "duration": 187,
    "start_time": "2022-11-19T14:08:24.402Z"
   },
   {
    "duration": 15,
    "start_time": "2022-11-19T14:13:10.467Z"
   },
   {
    "duration": 301,
    "start_time": "2022-11-19T14:13:21.512Z"
   },
   {
    "duration": 7,
    "start_time": "2022-11-19T14:15:03.337Z"
   },
   {
    "duration": 14,
    "start_time": "2022-11-19T14:15:06.329Z"
   },
   {
    "duration": 320,
    "start_time": "2022-11-19T14:15:20.810Z"
   },
   {
    "duration": 6,
    "start_time": "2022-11-19T14:16:21.936Z"
   },
   {
    "duration": 328,
    "start_time": "2022-11-19T14:18:09.568Z"
   },
   {
    "duration": 379,
    "start_time": "2022-11-19T14:18:30.227Z"
   },
   {
    "duration": 289,
    "start_time": "2022-11-19T14:18:36.315Z"
   },
   {
    "duration": 293,
    "start_time": "2022-11-19T14:18:41.070Z"
   },
   {
    "duration": 317,
    "start_time": "2022-11-19T14:18:49.438Z"
   },
   {
    "duration": 355,
    "start_time": "2022-11-19T14:19:05.810Z"
   },
   {
    "duration": 168,
    "start_time": "2022-11-19T14:19:40.437Z"
   },
   {
    "duration": 158,
    "start_time": "2022-11-19T14:20:39.321Z"
   },
   {
    "duration": 143,
    "start_time": "2022-11-19T14:21:37.571Z"
   },
   {
    "duration": 132,
    "start_time": "2022-11-19T14:22:54.143Z"
   },
   {
    "duration": 160,
    "start_time": "2022-11-19T14:23:03.245Z"
   },
   {
    "duration": 153,
    "start_time": "2022-11-19T14:24:14.928Z"
   },
   {
    "duration": 232,
    "start_time": "2022-11-19T14:24:34.116Z"
   },
   {
    "duration": 173,
    "start_time": "2022-11-19T14:24:47.849Z"
   },
   {
    "duration": 152,
    "start_time": "2022-11-19T14:25:04.340Z"
   },
   {
    "duration": 162,
    "start_time": "2022-11-19T14:25:35.198Z"
   },
   {
    "duration": 152,
    "start_time": "2022-11-19T14:26:53.171Z"
   },
   {
    "duration": 175,
    "start_time": "2022-11-19T14:28:26.548Z"
   },
   {
    "duration": 9,
    "start_time": "2022-11-19T14:28:31.044Z"
   },
   {
    "duration": 194,
    "start_time": "2022-11-19T14:28:35.196Z"
   },
   {
    "duration": 10,
    "start_time": "2022-11-19T14:28:38.475Z"
   },
   {
    "duration": 15,
    "start_time": "2022-11-19T14:29:27.011Z"
   },
   {
    "duration": 17,
    "start_time": "2022-11-19T14:29:30.248Z"
   },
   {
    "duration": 21,
    "start_time": "2022-11-19T14:32:30.054Z"
   },
   {
    "duration": 14,
    "start_time": "2022-11-19T14:34:45.756Z"
   },
   {
    "duration": 15,
    "start_time": "2022-11-19T14:35:04.739Z"
   },
   {
    "duration": 19,
    "start_time": "2022-11-19T14:35:06.941Z"
   },
   {
    "duration": 14,
    "start_time": "2022-11-19T14:35:08.698Z"
   },
   {
    "duration": 14,
    "start_time": "2022-11-19T14:36:45.402Z"
   },
   {
    "duration": 14,
    "start_time": "2022-11-19T14:37:24.738Z"
   },
   {
    "duration": 16,
    "start_time": "2022-11-19T14:38:29.302Z"
   },
   {
    "duration": 14,
    "start_time": "2022-11-19T14:38:31.050Z"
   },
   {
    "duration": 15,
    "start_time": "2022-11-19T14:38:32.342Z"
   },
   {
    "duration": 6,
    "start_time": "2022-11-19T14:41:42.249Z"
   },
   {
    "duration": 15,
    "start_time": "2022-11-19T14:44:59.408Z"
   },
   {
    "duration": 17,
    "start_time": "2022-11-19T14:45:00.796Z"
   },
   {
    "duration": 14,
    "start_time": "2022-11-19T14:45:02.084Z"
   },
   {
    "duration": 103,
    "start_time": "2022-11-19T14:45:58.479Z"
   },
   {
    "duration": 756,
    "start_time": "2022-11-19T14:49:18.680Z"
   },
   {
    "duration": 262,
    "start_time": "2022-11-19T14:49:45.395Z"
   },
   {
    "duration": 193,
    "start_time": "2022-11-19T14:51:21.822Z"
   },
   {
    "duration": 202,
    "start_time": "2022-11-19T14:51:44.846Z"
   },
   {
    "duration": 205,
    "start_time": "2022-11-19T14:52:23.081Z"
   },
   {
    "duration": 182,
    "start_time": "2022-11-19T14:52:37.355Z"
   },
   {
    "duration": 188,
    "start_time": "2022-11-19T14:52:50.008Z"
   },
   {
    "duration": 194,
    "start_time": "2022-11-19T14:53:13.000Z"
   },
   {
    "duration": 7,
    "start_time": "2022-11-19T14:53:34.920Z"
   },
   {
    "duration": 8,
    "start_time": "2022-11-19T14:53:49.269Z"
   },
   {
    "duration": 23,
    "start_time": "2022-11-19T14:54:40.568Z"
   },
   {
    "duration": 13,
    "start_time": "2022-11-19T14:55:34.239Z"
   },
   {
    "duration": 195,
    "start_time": "2022-11-19T14:55:44.366Z"
   },
   {
    "duration": 187,
    "start_time": "2022-11-19T14:56:22.919Z"
   },
   {
    "duration": 23,
    "start_time": "2022-11-19T14:56:26.523Z"
   },
   {
    "duration": 23,
    "start_time": "2022-11-19T14:58:40.496Z"
   },
   {
    "duration": 23,
    "start_time": "2022-11-19T14:59:00.179Z"
   },
   {
    "duration": 23,
    "start_time": "2022-11-19T14:59:22.495Z"
   },
   {
    "duration": 13,
    "start_time": "2022-11-19T14:59:59.321Z"
   },
   {
    "duration": 13,
    "start_time": "2022-11-19T15:01:59.040Z"
   },
   {
    "duration": 1180,
    "start_time": "2022-11-19T15:12:23.645Z"
   },
   {
    "duration": 67,
    "start_time": "2022-11-19T15:12:24.827Z"
   },
   {
    "duration": 14,
    "start_time": "2022-11-19T15:12:24.896Z"
   },
   {
    "duration": 15,
    "start_time": "2022-11-19T15:12:24.911Z"
   },
   {
    "duration": 825,
    "start_time": "2022-11-19T15:12:24.929Z"
   },
   {
    "duration": 3,
    "start_time": "2022-11-19T15:12:25.757Z"
   },
   {
    "duration": 14,
    "start_time": "2022-11-19T15:12:25.761Z"
   },
   {
    "duration": 24,
    "start_time": "2022-11-19T15:12:25.777Z"
   },
   {
    "duration": 3,
    "start_time": "2022-11-19T15:12:25.802Z"
   },
   {
    "duration": 13,
    "start_time": "2022-11-19T15:12:25.807Z"
   },
   {
    "duration": 7,
    "start_time": "2022-11-19T15:12:25.822Z"
   },
   {
    "duration": 6,
    "start_time": "2022-11-19T15:12:25.831Z"
   },
   {
    "duration": 8,
    "start_time": "2022-11-19T15:12:25.838Z"
   },
   {
    "duration": 4,
    "start_time": "2022-11-19T15:12:25.851Z"
   },
   {
    "duration": 301,
    "start_time": "2022-11-19T15:12:25.857Z"
   },
   {
    "duration": 21,
    "start_time": "2022-11-19T15:12:26.160Z"
   },
   {
    "duration": 351,
    "start_time": "2022-11-19T15:12:26.183Z"
   },
   {
    "duration": 7,
    "start_time": "2022-11-19T15:12:26.536Z"
   },
   {
    "duration": 17,
    "start_time": "2022-11-19T15:12:26.544Z"
   },
   {
    "duration": 303,
    "start_time": "2022-11-19T15:12:26.563Z"
   },
   {
    "duration": 162,
    "start_time": "2022-11-19T15:12:26.868Z"
   },
   {
    "duration": 167,
    "start_time": "2022-11-19T15:12:27.032Z"
   },
   {
    "duration": 251,
    "start_time": "2022-11-19T15:12:27.200Z"
   },
   {
    "duration": 11,
    "start_time": "2022-11-19T15:12:27.453Z"
   },
   {
    "duration": 189,
    "start_time": "2022-11-19T15:12:27.466Z"
   },
   {
    "duration": 8,
    "start_time": "2022-11-19T15:12:27.656Z"
   },
   {
    "duration": 31,
    "start_time": "2022-11-19T15:12:27.666Z"
   },
   {
    "duration": 14,
    "start_time": "2022-11-19T15:12:27.699Z"
   },
   {
    "duration": 14,
    "start_time": "2022-11-19T15:12:27.715Z"
   },
   {
    "duration": 31,
    "start_time": "2022-11-19T15:12:27.730Z"
   },
   {
    "duration": 19,
    "start_time": "2022-11-19T15:12:27.763Z"
   },
   {
    "duration": 29,
    "start_time": "2022-11-19T15:12:27.784Z"
   },
   {
    "duration": 13,
    "start_time": "2022-11-19T15:12:27.815Z"
   },
   {
    "duration": 15,
    "start_time": "2022-11-19T15:12:27.830Z"
   },
   {
    "duration": 17,
    "start_time": "2022-11-19T15:12:27.846Z"
   },
   {
    "duration": 32,
    "start_time": "2022-11-19T15:12:27.865Z"
   },
   {
    "duration": 17,
    "start_time": "2022-11-19T15:12:27.899Z"
   },
   {
    "duration": 210,
    "start_time": "2022-11-19T15:12:27.918Z"
   },
   {
    "duration": 197,
    "start_time": "2022-11-19T15:12:28.129Z"
   },
   {
    "duration": 206,
    "start_time": "2022-11-19T15:12:28.328Z"
   },
   {
    "duration": 12,
    "start_time": "2022-11-19T15:12:28.538Z"
   },
   {
    "duration": 15,
    "start_time": "2022-11-19T15:12:39.728Z"
   },
   {
    "duration": 1193,
    "start_time": "2022-11-19T15:19:51.458Z"
   },
   {
    "duration": 70,
    "start_time": "2022-11-19T15:19:52.653Z"
   },
   {
    "duration": 16,
    "start_time": "2022-11-19T15:19:52.725Z"
   },
   {
    "duration": 14,
    "start_time": "2022-11-19T15:19:52.743Z"
   },
   {
    "duration": 776,
    "start_time": "2022-11-19T15:19:52.759Z"
   },
   {
    "duration": 4,
    "start_time": "2022-11-19T15:19:53.537Z"
   },
   {
    "duration": 14,
    "start_time": "2022-11-19T15:19:53.542Z"
   },
   {
    "duration": 10,
    "start_time": "2022-11-19T15:19:53.558Z"
   },
   {
    "duration": 3,
    "start_time": "2022-11-19T15:19:53.569Z"
   },
   {
    "duration": 19,
    "start_time": "2022-11-19T15:19:53.599Z"
   },
   {
    "duration": 10,
    "start_time": "2022-11-19T15:19:53.621Z"
   },
   {
    "duration": 13,
    "start_time": "2022-11-19T15:19:53.632Z"
   },
   {
    "duration": 10,
    "start_time": "2022-11-19T15:19:53.647Z"
   },
   {
    "duration": 9,
    "start_time": "2022-11-19T15:19:53.658Z"
   },
   {
    "duration": 224,
    "start_time": "2022-11-19T15:19:53.668Z"
   },
   {
    "duration": 17,
    "start_time": "2022-11-19T15:19:53.896Z"
   },
   {
    "duration": 339,
    "start_time": "2022-11-19T15:19:53.915Z"
   },
   {
    "duration": 7,
    "start_time": "2022-11-19T15:19:54.256Z"
   },
   {
    "duration": 21,
    "start_time": "2022-11-19T15:19:54.265Z"
   },
   {
    "duration": 306,
    "start_time": "2022-11-19T15:19:54.287Z"
   },
   {
    "duration": 168,
    "start_time": "2022-11-19T15:19:54.596Z"
   },
   {
    "duration": 168,
    "start_time": "2022-11-19T15:19:54.766Z"
   },
   {
    "duration": 6,
    "start_time": "2022-11-19T15:19:56.477Z"
   },
   {
    "duration": 79,
    "start_time": "2022-11-19T15:19:56.484Z"
   },
   {
    "duration": 14,
    "start_time": "2022-11-19T15:19:56.564Z"
   },
   {
    "duration": 14,
    "start_time": "2022-11-19T15:19:56.580Z"
   },
   {
    "duration": 787,
    "start_time": "2022-11-19T15:19:56.595Z"
   },
   {
    "duration": 4,
    "start_time": "2022-11-19T15:19:57.383Z"
   },
   {
    "duration": 10,
    "start_time": "2022-11-19T15:19:57.396Z"
   },
   {
    "duration": 11,
    "start_time": "2022-11-19T15:19:57.407Z"
   },
   {
    "duration": 3,
    "start_time": "2022-11-19T15:19:57.419Z"
   },
   {
    "duration": 16,
    "start_time": "2022-11-19T15:19:57.424Z"
   },
   {
    "duration": 7,
    "start_time": "2022-11-19T15:19:57.441Z"
   },
   {
    "duration": 7,
    "start_time": "2022-11-19T15:19:57.450Z"
   },
   {
    "duration": 7,
    "start_time": "2022-11-19T15:19:57.459Z"
   },
   {
    "duration": 30,
    "start_time": "2022-11-19T15:19:57.467Z"
   },
   {
    "duration": 239,
    "start_time": "2022-11-19T15:19:57.499Z"
   },
   {
    "duration": 16,
    "start_time": "2022-11-19T15:19:57.740Z"
   },
   {
    "duration": 384,
    "start_time": "2022-11-19T15:19:57.757Z"
   },
   {
    "duration": 6,
    "start_time": "2022-11-19T15:19:58.143Z"
   },
   {
    "duration": 23,
    "start_time": "2022-11-19T15:19:58.151Z"
   },
   {
    "duration": 388,
    "start_time": "2022-11-19T15:19:58.176Z"
   },
   {
    "duration": 154,
    "start_time": "2022-11-19T15:19:58.565Z"
   },
   {
    "duration": 156,
    "start_time": "2022-11-19T15:19:58.721Z"
   },
   {
    "duration": 210,
    "start_time": "2022-11-19T15:19:58.879Z"
   },
   {
    "duration": 13,
    "start_time": "2022-11-19T15:19:59.091Z"
   },
   {
    "duration": 213,
    "start_time": "2022-11-19T15:19:59.107Z"
   },
   {
    "duration": 9,
    "start_time": "2022-11-19T15:19:59.322Z"
   },
   {
    "duration": 16,
    "start_time": "2022-11-19T15:19:59.332Z"
   },
   {
    "duration": 13,
    "start_time": "2022-11-19T15:19:59.350Z"
   },
   {
    "duration": 39,
    "start_time": "2022-11-19T15:19:59.365Z"
   },
   {
    "duration": 16,
    "start_time": "2022-11-19T15:19:59.406Z"
   },
   {
    "duration": 14,
    "start_time": "2022-11-19T15:19:59.425Z"
   },
   {
    "duration": 13,
    "start_time": "2022-11-19T15:19:59.441Z"
   },
   {
    "duration": 43,
    "start_time": "2022-11-19T15:19:59.456Z"
   },
   {
    "duration": 13,
    "start_time": "2022-11-19T15:19:59.501Z"
   },
   {
    "duration": 16,
    "start_time": "2022-11-19T15:19:59.515Z"
   },
   {
    "duration": 16,
    "start_time": "2022-11-19T15:19:59.532Z"
   },
   {
    "duration": 13,
    "start_time": "2022-11-19T15:19:59.549Z"
   },
   {
    "duration": 204,
    "start_time": "2022-11-19T15:19:59.563Z"
   },
   {
    "duration": 201,
    "start_time": "2022-11-19T15:19:59.769Z"
   },
   {
    "duration": 230,
    "start_time": "2022-11-19T15:19:59.975Z"
   },
   {
    "duration": 13,
    "start_time": "2022-11-19T15:20:00.207Z"
   },
   {
    "duration": 77,
    "start_time": "2022-11-19T15:20:00.222Z"
   }
  ],
  "kernelspec": {
   "display_name": "Python 3 (ipykernel)",
   "language": "python",
   "name": "python3"
  },
  "language_info": {
   "codemirror_mode": {
    "name": "ipython",
    "version": 3
   },
   "file_extension": ".py",
   "mimetype": "text/x-python",
   "name": "python",
   "nbconvert_exporter": "python",
   "pygments_lexer": "ipython3",
   "version": "3.9.13"
  },
  "toc": {
   "base_numbering": 1,
   "nav_menu": {},
   "number_sections": true,
   "sideBar": true,
   "skip_h1_title": true,
   "title_cell": "Table of Contents",
   "title_sidebar": "Contents",
   "toc_cell": false,
   "toc_position": {
    "height": "calc(100% - 180px)",
    "left": "10px",
    "top": "150px",
    "width": "341.312px"
   },
   "toc_section_display": true,
   "toc_window_display": true
  }
 },
 "nbformat": 4,
 "nbformat_minor": 2
}
